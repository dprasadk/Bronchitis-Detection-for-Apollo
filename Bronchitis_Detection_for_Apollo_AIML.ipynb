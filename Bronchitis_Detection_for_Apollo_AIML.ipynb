{
  "nbformat": 4,
  "nbformat_minor": 0,
  "metadata": {
    "colab": {
      "name": "Bronchitis Detection for Apollo_AIML_Team_39.ipynb",
      "version": "0.3.2",
      "provenance": [],
      "collapsed_sections": [],
      "include_colab_link": true
    },
    "kernelspec": {
      "name": "python3",
      "display_name": "Python 3"
    },
    "accelerator": "GPU"
  },
  "cells": [
    {
      "cell_type": "markdown",
      "metadata": {
        "id": "view-in-github",
        "colab_type": "text"
      },
      "source": [
        "<a href=\"https://colab.research.google.com/github/dprasadk/Bronchitis-Detection-for-Apollo/blob/master/Bronchitis_Detection_for_Apollo_AIML.ipynb\" target=\"_parent\"><img src=\"https://colab.research.google.com/assets/colab-badge.svg\" alt=\"Open In Colab\"/></a>"
      ]
    },
    {
      "cell_type": "code",
      "metadata": {
        "id": "9yUgJ8ORvvnO",
        "colab_type": "code",
        "outputId": "5df46de2-cadd-46f4-9d11-8771416e6bc7",
        "colab": {
          "base_uri": "https://localhost:8080/",
          "height": 102
        }
      },
      "source": [
        "!pip install kaggle"
      ],
      "execution_count": 0,
      "outputs": [
        {
          "output_type": "stream",
          "text": [
            "Requirement already satisfied: kaggle in /usr/local/lib/python3.6/dist-packages (1.3.6)\r\n",
            "Requirement already satisfied: six>=1.10 in /usr/local/lib/python3.6/dist-packages (from kaggle) (1.11.0)\r\n",
            "Requirement already satisfied: certifi in /usr/local/lib/python3.6/dist-packages (from kaggle) (2018.4.16)\r\n",
            "Requirement already satisfied: urllib3>=1.15 in /usr/local/lib/python3.6/dist-packages (from kaggle) (1.22)\r\n",
            "Requirement already satisfied: python-dateutil in /usr/local/lib/python3.6/dist-packages (from kaggle) (2.5.3)\r\n"
          ],
          "name": "stdout"
        }
      ]
    },
    {
      "cell_type": "code",
      "metadata": {
        "id": "OLvklJbyv2Nl",
        "colab_type": "code",
        "colab": {}
      },
      "source": [
        "from googleapiclient.discovery import build\n",
        "import io, os, glob\n",
        "from googleapiclient.http import MediaIoBaseDownload\n",
        "from google.colab import auth"
      ],
      "execution_count": 0,
      "outputs": []
    },
    {
      "cell_type": "code",
      "metadata": {
        "id": "dqL7Psyxv4i1",
        "colab_type": "code",
        "outputId": "942972ba-6670-4505-8c0e-bff33f8a9268",
        "colab": {
          "base_uri": "https://localhost:8080/",
          "height": 34
        }
      },
      "source": [
        "auth.authenticate_user()\n",
        "\n",
        "drive_service = build('drive', 'v3')\n",
        "results = drive_service.files().list(\n",
        "        q=\"name = 'kaggle.json'\", fields=\"files(id)\").execute()\n",
        "kaggle_api_key = results.get('files', [])\n",
        "\n",
        "filename = \"/content/.kaggle/kaggle.json\"\n",
        "os.makedirs(os.path.dirname(filename), exist_ok=True)\n",
        "\n",
        "request = drive_service.files().get_media(fileId=kaggle_api_key[0]['id'])\n",
        "fh = io.FileIO(filename, 'wb')\n",
        "downloader = MediaIoBaseDownload(fh, request)\n",
        "done = False\n",
        "while done is False:\n",
        "    status, done = downloader.next_chunk()\n",
        "    print(\"Download %d%%.\" % int(status.progress() * 100))\n",
        "os.chmod(filename, 600)"
      ],
      "execution_count": 0,
      "outputs": [
        {
          "output_type": "stream",
          "text": [
            "Download 100%.\n"
          ],
          "name": "stdout"
        }
      ]
    },
    {
      "cell_type": "code",
      "metadata": {
        "id": "3qfvkXjEv7UE",
        "colab_type": "code",
        "outputId": "caa0bc1d-57de-43ca-db6c-16c4e2292b67",
        "colab": {
          "base_uri": "https://localhost:8080/",
          "height": 85
        }
      },
      "source": [
        "!kaggle competitions download -c bronchitis -p /content/kaggle"
      ],
      "execution_count": 0,
      "outputs": [
        {
          "output_type": "stream",
          "text": [
            "Train_Labels.csv: Skipping, found more recently modified local copy (use --force to force download)\n",
            "Sample_Submission.csv: Skipping, found more recently modified local copy (use --force to force download)\n",
            "Test_Images.zip: Skipping, found more recently modified local copy (use --force to force download)\n",
            "Train_Images.zip: Skipping, found more recently modified local copy (use --force to force download)\n"
          ],
          "name": "stdout"
        }
      ]
    },
    {
      "cell_type": "code",
      "metadata": {
        "id": "IAQcR7Ssv7_N",
        "colab_type": "code",
        "colab": {}
      },
      "source": [
        "os.chdir('/content/kaggle')\n",
        "!unzip  Train_Images.zip -d /content/kaggle/Train\n",
        "!unzip  Test_Images.zip -d /content/kaggle/Validation"
      ],
      "execution_count": 0,
      "outputs": []
    },
    {
      "cell_type": "code",
      "metadata": {
        "id": "Blzkq7L6v8QM",
        "colab_type": "code",
        "outputId": "34278587-fd40-43b5-85d6-a0035a45a4d9",
        "colab": {
          "base_uri": "https://localhost:8080/",
          "height": 68
        }
      },
      "source": [
        "ls /content/kaggle"
      ],
      "execution_count": 0,
      "outputs": [
        {
          "output_type": "stream",
          "text": [
            "fine_tuned_model.h5    Sample_Submission.csv  \u001b[0m\u001b[01;34mTrain\u001b[0m/            \u001b[01;34mValidation\u001b[0m/\r\n",
            "fine_tuned_model.json  Test_Images.zip        Train_Images.zip\r\n",
            "fine_tuned_weights.h5  top_model.h5           Train_Labels.csv\r\n"
          ],
          "name": "stdout"
        }
      ]
    },
    {
      "cell_type": "code",
      "metadata": {
        "id": "ZFAYZ0kOv8St",
        "colab_type": "code",
        "colab": {}
      },
      "source": [
        "from keras.applications.inception_v3 import InceptionV3, preprocess_input\n",
        "from keras.preprocessing.image import ImageDataGenerator, array_to_img, img_to_array, load_img\n",
        "from keras import optimizers\n",
        "from keras.regularizers import l1_l2\n",
        "from keras.models import Sequential, Model, model_from_json\n",
        "from keras.layers import Dropout, GlobalAveragePooling2D, Dense\n",
        "from keras.callbacks import ModelCheckpoint, EarlyStopping\n",
        "import PIL\n",
        "import math\n",
        "import pandas as pd"
      ],
      "execution_count": 0,
      "outputs": []
    },
    {
      "cell_type": "code",
      "metadata": {
        "id": "cG35mrPdwFuk",
        "colab_type": "code",
        "colab": {}
      },
      "source": [
        "img_width, img_height = (299, 299)\n",
        "weight_path = '/content/kaggle/fine_tuned_weights.h5'\n",
        "top_model_weight_path = '/content/kaggle/top_model.h5'\n",
        "train_dir = '/content/kaggle/Train'\n",
        "validation_dir = '/content/kaggle/Validation'\n",
        "# epochs = 150\n",
        "# batch_size = 128\n",
        "epochs = 15\n",
        "batch_size = 32\n",
        "\n",
        "nb_train_samples =640\n",
        "nb_validation_samples = 160"
      ],
      "execution_count": 0,
      "outputs": []
    },
    {
      "cell_type": "code",
      "metadata": {
        "id": "hYXCMmTwwJnj",
        "colab_type": "code",
        "outputId": "f14b7e07-d4cc-4023-8048-06603c6a8dd4",
        "colab": {
          "base_uri": "https://localhost:8080/",
          "height": 34
        }
      },
      "source": [
        "base_model =InceptionV3(weights= 'imagenet', include_top= False, input_shape=(299,299,3))\n",
        "print (\"Model Loaded.\")"
      ],
      "execution_count": 0,
      "outputs": [
        {
          "output_type": "stream",
          "text": [
            "Model Loaded.\n"
          ],
          "name": "stdout"
        }
      ]
    },
    {
      "cell_type": "code",
      "metadata": {
        "id": "OhNYD5oQwJss",
        "colab_type": "code",
        "colab": {}
      },
      "source": [
        "top_model= Sequential()\n",
        "top_model.add(GlobalAveragePooling2D(input_shape=base_model.output_shape[1:]))\n",
        "top_model.add(Dense(4, input_shape =(2,), activation='relu'))\n",
        "top_model.add(Dense(4,  activation='relu'))\n",
        "top_model.add(Dense(2, activation='softmax')) "
      ],
      "execution_count": 0,
      "outputs": []
    },
    {
      "cell_type": "code",
      "metadata": {
        "id": "oO1fruekwJwW",
        "colab_type": "code",
        "colab": {}
      },
      "source": [
        "top_model.save_weights(top_model_weight_path)\n",
        "top_model.load_weights(top_model_weight_path)"
      ],
      "execution_count": 0,
      "outputs": []
    },
    {
      "cell_type": "code",
      "metadata": {
        "id": "udInFEUqwT2m",
        "colab_type": "code",
        "colab": {}
      },
      "source": [
        "model= Model(inputs= base_model.input, outputs= top_model(base_model.output))"
      ],
      "execution_count": 0,
      "outputs": []
    },
    {
      "cell_type": "code",
      "metadata": {
        "id": "T80K0gw9wWaF",
        "colab_type": "code",
        "colab": {}
      },
      "source": [
        "for layer in model.layers[:172]:\n",
        "    layer.trainable=False\n",
        "for layer in model.layers[172:]:\n",
        "    layer.trainable=True"
      ],
      "execution_count": 0,
      "outputs": []
    },
    {
      "cell_type": "code",
      "metadata": {
        "id": "4u-nJwoIwYGT",
        "colab_type": "code",
        "colab": {}
      },
      "source": [
        "model.compile(optimizer=optimizers.SGD(lr=0.0001, momentum=0.9),\n",
        "          loss='sparse_categorical_crossentropy', metrics=['accuracy'])"
      ],
      "execution_count": 0,
      "outputs": []
    },
    {
      "cell_type": "code",
      "metadata": {
        "id": "vACVNiTPwZtr",
        "colab_type": "code",
        "colab": {}
      },
      "source": [
        "train_datagen= ImageDataGenerator(\n",
        "    preprocessing_function=preprocess_input,\n",
        "    rotation_range=20,\n",
        "    shear_range=0.3,\n",
        "    zoom_range=0.3,\n",
        "    horizontal_flip=True,\n",
        "    vertical_flip=True)"
      ],
      "execution_count": 0,
      "outputs": []
    },
    {
      "cell_type": "code",
      "metadata": {
        "id": "lk_ueEkkwbcD",
        "colab_type": "code",
        "colab": {}
      },
      "source": [
        "test_datagen= ImageDataGenerator(\n",
        "    preprocessing_function=preprocess_input,\n",
        "    rotation_range=20,\n",
        "    shear_range=0.3,\n",
        "    zoom_range=0.3,\n",
        "    horizontal_flip=True,\n",
        "    vertical_flip=True)"
      ],
      "execution_count": 0,
      "outputs": []
    },
    {
      "cell_type": "code",
      "metadata": {
        "id": "VZDVkYxuwl-c",
        "colab_type": "code",
        "outputId": "59aaaec8-c80e-4c04-8d40-29f53d8ee304",
        "colab": {
          "base_uri": "https://localhost:8080/",
          "height": 34
        }
      },
      "source": [
        "train_generator= train_datagen.flow_from_directory(\n",
        "    train_dir,\n",
        "    target_size=(img_height,img_width),\n",
        "    batch_size=batch_size,\n",
        "    class_mode='categorical')"
      ],
      "execution_count": 0,
      "outputs": [
        {
          "output_type": "stream",
          "text": [
            "Found 640 images belonging to 1 classes.\n"
          ],
          "name": "stdout"
        }
      ]
    },
    {
      "cell_type": "code",
      "metadata": {
        "id": "nNa9b6KSwoIj",
        "colab_type": "code",
        "outputId": "0c7e0be3-33aa-488f-c498-b432f4c6985f",
        "colab": {
          "base_uri": "https://localhost:8080/",
          "height": 34
        }
      },
      "source": [
        "validation_generator= test_datagen.flow_from_directory(\n",
        "    validation_dir,\n",
        "    target_size=(img_height,img_width),\n",
        "    batch_size=batch_size,\n",
        "    class_mode='categorical')"
      ],
      "execution_count": 0,
      "outputs": [
        {
          "output_type": "stream",
          "text": [
            "Found 160 images belonging to 1 classes.\n"
          ],
          "name": "stdout"
        }
      ]
    },
    {
      "cell_type": "code",
      "metadata": {
        "id": "wx3eC7pmwp8M",
        "colab_type": "code",
        "colab": {}
      },
      "source": [
        "callbacks_list=[ModelCheckpoint(weight_path, monitor='val_acc',verbose=1,save_best_only=True),\n",
        "            EarlyStopping(monitor='val_acc',patience=10,verbose=0)]"
      ],
      "execution_count": 0,
      "outputs": []
    },
    {
      "cell_type": "code",
      "metadata": {
        "id": "bZkhQD8zwwTl",
        "colab_type": "code",
        "outputId": "82bc131e-c690-4d06-8919-80d32c5678da",
        "colab": {
          "base_uri": "https://localhost:8080/",
          "height": 802
        }
      },
      "source": [
        "model.fit_generator(\n",
        "    train_generator,\n",
        "    steps_per_epoch = int(math.ceil(nb_train_samples / batch_size)),\n",
        "    epochs=epochs,\n",
        "    validation_data=validation_generator,\n",
        "    validation_steps = int(math.ceil(nb_validation_samples / batch_size)), callbacks=callbacks_list)"
      ],
      "execution_count": 0,
      "outputs": [
        {
          "output_type": "stream",
          "text": [
            "Epoch 1/15\n",
            "20/20 [==============================] - 150s 7s/step - loss: 0.3580 - acc: 1.0000 - val_loss: 0.3280 - val_acc: 1.0000\n",
            "\n",
            "Epoch 00001: val_acc improved from -inf to 1.00000, saving model to /content/kaggle/fine_tuned_weights.h5\n",
            "Epoch 2/15\n",
            "20/20 [==============================] - 87s 4s/step - loss: 0.1996 - acc: 1.0000 - val_loss: 0.1860 - val_acc: 1.0000\n",
            "\n",
            "Epoch 00002: val_acc did not improve from 1.00000\n",
            "Epoch 3/15\n",
            "20/20 [==============================] - 117s 6s/step - loss: 0.1174 - acc: 1.0000 - val_loss: 0.1371 - val_acc: 1.0000\n",
            "\n",
            "Epoch 00003: val_acc did not improve from 1.00000\n",
            "Epoch 4/15\n",
            "20/20 [==============================] - 117s 6s/step - loss: 0.0805 - acc: 1.0000 - val_loss: 0.1022 - val_acc: 1.0000\n",
            "\n",
            "Epoch 00004: val_acc did not improve from 1.00000\n",
            "Epoch 5/15\n",
            "20/20 [==============================] - 117s 6s/step - loss: 0.0601 - acc: 1.0000 - val_loss: 0.0831 - val_acc: 1.0000\n",
            "\n",
            "Epoch 00005: val_acc did not improve from 1.00000\n",
            "Epoch 6/15\n",
            "20/20 [==============================] - 116s 6s/step - loss: 0.0480 - acc: 1.0000 - val_loss: 0.0706 - val_acc: 1.0000\n",
            "\n",
            "Epoch 00006: val_acc did not improve from 1.00000\n",
            "Epoch 7/15\n",
            "19/20 [===========================>..] - ETA: 3s - loss: 0.0401 - acc: 1.0000"
          ],
          "name": "stdout"
        },
        {
          "output_type": "stream",
          "text": [
            "\b\b\b\b\b\b\b\b\b\b\b\b\b\b\b\b\b\b\b\b\b\b\b\b\b\b\b\b\b\b\b\b\b\b\b\b\b\b\b\b\b\b\b\b\b\b\b\b\b\b\b\b\b\b\b\b\b\b\b\b\b\b\b\b\b\b\b\b\b\b\b\b\b\b\b\b\b\r20/20 [==============================] - 117s 6s/step - loss: 0.0399 - acc: 1.0000 - val_loss: 0.0627 - val_acc: 1.0000\n",
            "\n",
            "Epoch 00007: val_acc did not improve from 1.00000\n",
            "Epoch 8/15\n",
            "20/20 [==============================] - 117s 6s/step - loss: 0.0334 - acc: 1.0000 - val_loss: 0.0523 - val_acc: 1.0000\n",
            "\n",
            "Epoch 00008: val_acc did not improve from 1.00000\n",
            "Epoch 9/15\n",
            "20/20 [==============================] - 116s 6s/step - loss: 0.0290 - acc: 1.0000 - val_loss: 0.0485 - val_acc: 1.0000\n",
            "\n",
            "Epoch 00009: val_acc did not improve from 1.00000\n",
            "Epoch 10/15\n",
            "20/20 [==============================] - 118s 6s/step - loss: 0.0257 - acc: 1.0000 - val_loss: 0.0433 - val_acc: 1.0000\n",
            "\n",
            "Epoch 00010: val_acc did not improve from 1.00000\n",
            "Epoch 11/15\n",
            "20/20 [==============================] - 118s 6s/step - loss: 0.0227 - acc: 1.0000 - val_loss: 0.0396 - val_acc: 1.0000\n",
            "\n",
            "Epoch 00011: val_acc did not improve from 1.00000\n"
          ],
          "name": "stdout"
        },
        {
          "output_type": "execute_result",
          "data": {
            "text/plain": [
              "<keras.callbacks.History at 0x7f55f04b1780>"
            ]
          },
          "metadata": {
            "tags": []
          },
          "execution_count": 90
        }
      ]
    },
    {
      "cell_type": "code",
      "metadata": {
        "id": "2njD5vqFwr5z",
        "colab_type": "code",
        "colab": {}
      },
      "source": [
        "model_json = model.to_json()\n",
        " \n",
        "with open(\"fine_tuned_model.json\", \"w\") as json_file:\n",
        "    json_file.write(model_json)\n",
        "\n",
        "model.save_weights(\"fine_tuned_model.h5\")"
      ],
      "execution_count": 0,
      "outputs": []
    },
    {
      "cell_type": "code",
      "metadata": {
        "id": "yT3KIEHyJgCH",
        "colab_type": "code",
        "outputId": "2cfc3020-b84a-4b16-bae3-d2229675175f",
        "colab": {
          "base_uri": "https://localhost:8080/",
          "height": 68
        }
      },
      "source": [
        "ls /content/kaggle"
      ],
      "execution_count": 0,
      "outputs": [
        {
          "output_type": "stream",
          "text": [
            "fine_tuned_model.h5    Sample_Submission.csv  \u001b[0m\u001b[01;34mTrain\u001b[0m/            \u001b[01;34mValidation\u001b[0m/\r\n",
            "fine_tuned_model.json  Test_Images.zip        Train_Images.zip\r\n",
            "fine_tuned_weights.h5  top_model.h5           Train_Labels.csv\r\n"
          ],
          "name": "stdout"
        }
      ]
    },
    {
      "cell_type": "code",
      "metadata": {
        "id": "Jqk10XQpC3kk",
        "colab_type": "code",
        "colab": {}
      },
      "source": [
        "json_file = open(\"fine_tuned_model.json\", \"r\")\n",
        "loaded_model_json = json_file.read()\n",
        "json_file.close()\n",
        "loaded_model = model_from_json(loaded_model_json)\n",
        " \n",
        "loaded_model.load_weights(\"fine_tuned_model.h5\")\n",
        " "
      ],
      "execution_count": 0,
      "outputs": []
    },
    {
      "cell_type": "code",
      "metadata": {
        "id": "rxLdb-F9wzZW",
        "colab_type": "code",
        "colab": {}
      },
      "source": [
        "loaded_model.compile(optimizer=optimizers.SGD(lr=0.0001, momentum=0.9),\n",
        "          loss='sparse_categorical_crossentropy', metrics=['accuracy'])\n",
        "\n",
        "\n",
        "ev_score = loaded_model.evaluate_generator(validation_generator, nb_validation_samples/batch_size)\n",
        "\n",
        "pd_scores = loaded_model.predict_generator(validation_generator, nb_validation_samples/batch_size, \n",
        "                                max_queue_size=10, workers=1, use_multiprocessing=False, verbose=0)"
      ],
      "execution_count": 0,
      "outputs": []
    },
    {
      "cell_type": "code",
      "metadata": {
        "id": "86Jlt7PJw2Y6",
        "colab_type": "code",
        "outputId": "d52b9358-bcc0-474e-de91-492666af9670",
        "colab": {
          "base_uri": "https://localhost:8080/",
          "height": 34
        }
      },
      "source": [
        "#@title Evaluation Score\n",
        " ev_score"
      ],
      "execution_count": 0,
      "outputs": [
        {
          "output_type": "execute_result",
          "data": {
            "text/plain": [
              "[0.037056367844343185, 1.0]"
            ]
          },
          "metadata": {
            "tags": []
          },
          "execution_count": 98
        }
      ]
    },
    {
      "cell_type": "code",
      "metadata": {
        "id": "nUQpoCoUUNhS",
        "colab_type": "code",
        "outputId": "e2b83bf5-678c-4c7a-fc3f-312b2bc090fd",
        "colab": {
          "base_uri": "https://localhost:8080/",
          "height": 2737
        }
      },
      "source": [
        "#@title Predicted Score for 160 prediction row is 0.5\n",
        "pd_scores"
      ],
      "execution_count": 0,
      "outputs": [
        {
          "output_type": "execute_result",
          "data": {
            "text/plain": [
              "array([[0.02012423, 0.9798758 ],\n",
              "       [0.02880235, 0.97119766],\n",
              "       [0.02708004, 0.97291994],\n",
              "       [0.02309873, 0.97690123],\n",
              "       [0.04457535, 0.9554246 ],\n",
              "       [0.05664415, 0.94335586],\n",
              "       [0.03872984, 0.9612702 ],\n",
              "       [0.04482285, 0.9551771 ],\n",
              "       [0.04402927, 0.95597076],\n",
              "       [0.08658952, 0.9134104 ],\n",
              "       [0.01709818, 0.9829018 ],\n",
              "       [0.01221646, 0.9877836 ],\n",
              "       [0.03717671, 0.96282333],\n",
              "       [0.05221851, 0.94778144],\n",
              "       [0.01753783, 0.98246217],\n",
              "       [0.04109515, 0.95890486],\n",
              "       [0.02327865, 0.9767213 ],\n",
              "       [0.0254886 , 0.97451144],\n",
              "       [0.06808145, 0.93191856],\n",
              "       [0.05299407, 0.9470059 ],\n",
              "       [0.01013971, 0.98986036],\n",
              "       [0.06378959, 0.9362104 ],\n",
              "       [0.07646646, 0.9235335 ],\n",
              "       [0.04940748, 0.9505925 ],\n",
              "       [0.02170874, 0.9782913 ],\n",
              "       [0.02326675, 0.97673327],\n",
              "       [0.02929698, 0.97070307],\n",
              "       [0.02361066, 0.97638935],\n",
              "       [0.01614433, 0.98385566],\n",
              "       [0.02321398, 0.976786  ],\n",
              "       [0.0485584 , 0.9514415 ],\n",
              "       [0.05154775, 0.9484523 ],\n",
              "       [0.04047554, 0.95952445],\n",
              "       [0.01317739, 0.9868226 ],\n",
              "       [0.05108507, 0.9489149 ],\n",
              "       [0.03078764, 0.9692124 ],\n",
              "       [0.03653274, 0.9634673 ],\n",
              "       [0.03667452, 0.96332544],\n",
              "       [0.03452833, 0.9654717 ],\n",
              "       [0.05105342, 0.9489466 ],\n",
              "       [0.02082465, 0.9791753 ],\n",
              "       [0.03615765, 0.96384233],\n",
              "       [0.0501786 , 0.9498214 ],\n",
              "       [0.01199256, 0.9880074 ],\n",
              "       [0.04758314, 0.9524169 ],\n",
              "       [0.03541667, 0.96458334],\n",
              "       [0.05016358, 0.9498365 ],\n",
              "       [0.0212242 , 0.9787758 ],\n",
              "       [0.08068622, 0.9193138 ],\n",
              "       [0.03815499, 0.961845  ],\n",
              "       [0.05619356, 0.9438064 ],\n",
              "       [0.08553613, 0.9144638 ],\n",
              "       [0.03416923, 0.96583074],\n",
              "       [0.02623271, 0.9737673 ],\n",
              "       [0.04073128, 0.9592687 ],\n",
              "       [0.04124577, 0.95875424],\n",
              "       [0.0292542 , 0.97074586],\n",
              "       [0.07917275, 0.9208272 ],\n",
              "       [0.05323184, 0.9467681 ],\n",
              "       [0.05542   , 0.94457996],\n",
              "       [0.04920225, 0.95079774],\n",
              "       [0.04273011, 0.9572699 ],\n",
              "       [0.01144751, 0.98855245],\n",
              "       [0.01841703, 0.98158294],\n",
              "       [0.05844362, 0.94155633],\n",
              "       [0.06521393, 0.934786  ],\n",
              "       [0.06358922, 0.9364107 ],\n",
              "       [0.02927559, 0.9707244 ],\n",
              "       [0.00371003, 0.99628997],\n",
              "       [0.0317515 , 0.96824855],\n",
              "       [0.0304586 , 0.96954143],\n",
              "       [0.03431186, 0.9656881 ],\n",
              "       [0.03466227, 0.9653377 ],\n",
              "       [0.0196009 , 0.9803991 ],\n",
              "       [0.02761072, 0.9723893 ],\n",
              "       [0.08441196, 0.9155881 ],\n",
              "       [0.08588244, 0.9141175 ],\n",
              "       [0.05618994, 0.94381005],\n",
              "       [0.03294753, 0.9670525 ],\n",
              "       [0.12042432, 0.87957567],\n",
              "       [0.06652597, 0.933474  ],\n",
              "       [0.04989823, 0.95010173],\n",
              "       [0.06572174, 0.93427825],\n",
              "       [0.08491847, 0.9150815 ],\n",
              "       [0.01923219, 0.9807678 ],\n",
              "       [0.03071124, 0.96928877],\n",
              "       [0.02843697, 0.971563  ],\n",
              "       [0.05027971, 0.9497203 ],\n",
              "       [0.04346097, 0.95653903],\n",
              "       [0.02360584, 0.9763941 ],\n",
              "       [0.02265536, 0.9773447 ],\n",
              "       [0.01082116, 0.9891788 ],\n",
              "       [0.02438853, 0.9756115 ],\n",
              "       [0.02466799, 0.97533196],\n",
              "       [0.06556502, 0.934435  ],\n",
              "       [0.04638145, 0.9536186 ],\n",
              "       [0.03849354, 0.9615064 ],\n",
              "       [0.02136736, 0.9786326 ],\n",
              "       [0.02802665, 0.9719733 ],\n",
              "       [0.04071628, 0.9592837 ],\n",
              "       [0.02874487, 0.9712551 ],\n",
              "       [0.03631744, 0.96368253],\n",
              "       [0.06037964, 0.9396203 ],\n",
              "       [0.01876258, 0.9812375 ],\n",
              "       [0.022711  , 0.977289  ],\n",
              "       [0.02347468, 0.9765253 ],\n",
              "       [0.02368891, 0.976311  ],\n",
              "       [0.05764838, 0.94235164],\n",
              "       [0.02346915, 0.97653085],\n",
              "       [0.03129112, 0.9687089 ],\n",
              "       [0.07049256, 0.9295075 ],\n",
              "       [0.01353447, 0.9864655 ],\n",
              "       [0.0342681 , 0.9657319 ],\n",
              "       [0.03065482, 0.9693452 ],\n",
              "       [0.05540723, 0.9445928 ],\n",
              "       [0.02180401, 0.978196  ],\n",
              "       [0.02651   , 0.97349   ],\n",
              "       [0.02434268, 0.97565734],\n",
              "       [0.06139976, 0.93860024],\n",
              "       [0.03201498, 0.967985  ],\n",
              "       [0.02344447, 0.9765555 ],\n",
              "       [0.02112237, 0.9788776 ],\n",
              "       [0.03416879, 0.96583116],\n",
              "       [0.03681316, 0.96318686],\n",
              "       [0.07322431, 0.9267757 ],\n",
              "       [0.03843969, 0.9615603 ],\n",
              "       [0.02853846, 0.97146153],\n",
              "       [0.01553242, 0.98446757],\n",
              "       [0.02431397, 0.975686  ],\n",
              "       [0.02109405, 0.9789059 ],\n",
              "       [0.07261386, 0.9273861 ],\n",
              "       [0.05837362, 0.9416264 ],\n",
              "       [0.02248569, 0.97751427],\n",
              "       [0.03116055, 0.9688394 ],\n",
              "       [0.02787185, 0.9721282 ],\n",
              "       [0.05898459, 0.94101536],\n",
              "       [0.04051779, 0.9594822 ],\n",
              "       [0.02657857, 0.9734214 ],\n",
              "       [0.06406555, 0.9359344 ],\n",
              "       [0.06822758, 0.9317724 ],\n",
              "       [0.02364088, 0.9763591 ],\n",
              "       [0.03900645, 0.9609936 ],\n",
              "       [0.0287119 , 0.9712881 ],\n",
              "       [0.03538658, 0.9646134 ],\n",
              "       [0.02274837, 0.97725165],\n",
              "       [0.02597939, 0.97402054],\n",
              "       [0.03299956, 0.9670004 ],\n",
              "       [0.01448557, 0.9855144 ],\n",
              "       [0.03388116, 0.9661189 ],\n",
              "       [0.02891441, 0.97108555],\n",
              "       [0.03958982, 0.96041024],\n",
              "       [0.04315439, 0.9568456 ],\n",
              "       [0.0732066 , 0.9267934 ],\n",
              "       [0.05512461, 0.9448754 ],\n",
              "       [0.0329388 , 0.9670612 ],\n",
              "       [0.00524399, 0.994756  ],\n",
              "       [0.02530515, 0.97469485],\n",
              "       [0.04351236, 0.95648766],\n",
              "       [0.06570467, 0.93429536],\n",
              "       [0.01873987, 0.98126006]], dtype=float32)"
            ]
          },
          "metadata": {
            "tags": []
          },
          "execution_count": 99
        }
      ]
    },
    {
      "cell_type": "code",
      "metadata": {
        "id": "-_wbEGLeVbCJ",
        "colab_type": "code",
        "outputId": "c997870d-9e0b-4085-8bff-526c84b2a751",
        "colab": {
          "base_uri": "https://localhost:8080/",
          "height": 34
        }
      },
      "source": [
        "#@title Actual predicted Score\n",
        "  pd_scores.mean()"
      ],
      "execution_count": 0,
      "outputs": [
        {
          "output_type": "execute_result",
          "data": {
            "text/plain": [
              "0.5"
            ]
          },
          "metadata": {
            "tags": []
          },
          "execution_count": 100
        }
      ]
    },
    {
      "cell_type": "code",
      "metadata": {
        "id": "V2HDPCRvacZJ",
        "colab_type": "code",
        "colab": {}
      },
      "source": [
        "#@title Build Test_Labels.csv file\n",
        "getEachImgPrediction= []\n",
        "\n",
        "for i in range(len(pd_scores)):\n",
        "  if pd_scores[i][0] > 0.03:\n",
        "    getEachImgPrediction.append(1)\n",
        "  else:\n",
        "     getEachImgPrediction.append(0)"
      ],
      "execution_count": 0,
      "outputs": []
    },
    {
      "cell_type": "code",
      "metadata": {
        "id": "Svcb6Z31dU-0",
        "colab_type": "code",
        "outputId": "148d2b61-56c6-4a87-a9bb-ab97d4578ae0",
        "colab": {
          "base_uri": "https://localhost:8080/",
          "height": 54
        }
      },
      "source": [
        "directory  = \"/content/kaggle/Validation/Test_Images\"\n",
        "\n",
        "for r, dirs, pngTestfiles in os.walk(directory):\n",
        "  print(pngTestfiles)"
      ],
      "execution_count": 0,
      "outputs": [
        {
          "output_type": "stream",
          "text": [
            "['CR_0326.png', 'MR_0348.png', 'CR_0148.png', 'CR_0457.png', 'CR_0662.png', 'CR_0436.png', 'CR_0266.png', 'CR_0304.png', 'CR_0111.png', 'CR_0022.png', 'CR_0083.png', 'CR_0003.png', 'CR_0464.png', 'CR_0100.png', 'CR_0020.png', 'CR_0447.png', 'CR_0411.png', 'CR_0353.png', 'MR_0013.png', 'MR_0040.png', 'CR_0146.png', 'MR_0228.png', 'CR_0397.png', 'CR_0101.png', 'CR_0504.png', 'CR_0421.png', 'CR_0392.png', 'MR_0070.png', 'CR_0391.png', 'CR_0283.png', 'MR_0126.png', 'Test_Labels.csv.gz', 'MR_0052.png', 'CR_0615.png', 'CR_0489.png', 'CR_0365.png', 'CR_0219.png', 'MR_0027.png', 'CR_0157.png', 'CR_0035.png', 'CR_0492.png', 'CR_0395.png', 'MR_0203.png', 'CR_0348.png', 'CR_0325.png', 'CR_0240.png', 'CR_0214.png', 'CR_0024.png', 'CR_0649.png', 'CR_0300.png', 'CR_0637.png', 'CR_0173.png', 'CR_0096.png', 'CR_0536.png', 'CR_0514.png', 'CR_0600.png', 'MR_0170.png', 'CR_0547.png', 'CR_0143.png', 'MR_0275.png', 'CR_0497.png', 'CR_0315.png', 'CR_0216.png', 'CR_0568.png', 'CR_0396.png', 'MR_0023.png', 'CR_0424.png', 'CR_0170.png', 'CR_0131.png', 'CR_0029.png', 'MR_0251.png', 'MR_0080.png', 'MR_0338.png', 'MR_0352.png', 'MR_0101.png', 'CR_0220.png', 'CR_0265.png', 'CR_0599.png', 'MR_0108.png', 'CR_0068.png', 'CR_0041.png', 'CR_0482.png', 'CR_0490.png', 'CR_0245.png', 'CR_0318.png', 'MR_0051.png', 'CR_0522.png', 'CR_0047.png', 'MR_0253.png', 'MR_0054.png', 'CR_0317.png', 'CR_0530.png', 'CR_0474.png', 'CR_0114.png', 'CR_0327.png', 'CR_0427.png', 'CR_0052.png', 'CR_0311.png', 'CR_0121.png', 'CR_0145.png', 'MR_0369.png', 'CR_0071.png', 'MR_0003.png', 'CR_0177.png', 'CR_0379.png', 'MR_0005.png', 'CR_0377.png', 'CR_0628.png', 'CR_0382.png', 'CR_0026.png', 'CR_0471.png', 'CR_0034.png', 'CR_0458.png', 'CR_0386.png', 'CR_0434.png', 'CR_0182.png', 'CR_0425.png', 'CR_0236.png', 'CR_0503.png', 'CR_0208.png', 'CR_0473.png', 'CR_0134.png', 'CR_0001.png', 'MR_0057.png', 'MR_0095.png', 'CR_0211.png', 'CR_0030.png', 'CR_0042.png', 'CR_0203.png', 'MR_0383.png', 'CR_0313.png', 'CR_0476.png', 'CR_0480.png', 'CR_0487.png', 'CR_0495.png', 'CR_0247.png', 'CR_0037.png', 'CR_0588.png', 'CR_0137.png', 'CR_0268.png', 'MR_0059.png', 'CR_0477.png', 'CR_0324.png', 'CR_0571.png', 'MR_0372.png', 'CR_0341.png', 'CR_0634.png', 'CR_0494.png', 'CR_0004.png', 'CR_0359.png', 'CR_0159.png', 'CR_0448.png', 'CR_0465.png', 'MR_0140.png', 'CR_0126.png', 'CR_0515.png', 'CR_0558.png', 'CR_0070.png', 'CR_0399.png', 'CR_0110.png', 'CR_0233.png']\n"
          ],
          "name": "stdout"
        }
      ]
    },
    {
      "cell_type": "code",
      "metadata": {
        "id": "aJOykE_LKDa7",
        "colab_type": "code",
        "outputId": "4549d34d-1619-4e02-b4bc-89be84ac8f09",
        "colab": {
          "base_uri": "https://localhost:8080/",
          "height": 2757
        }
      },
      "source": [
        "os.chdir(directory)\n",
        "splitPNG = []\n",
        "for pngTestfiles in glob.glob(\"*.png\"):\n",
        "  splitPNG.append( os.path.splitext(pngTestfiles)[0] )\n",
        "  print(splitPNG)"
      ],
      "execution_count": 0,
      "outputs": [
        {
          "output_type": "stream",
          "text": [
            "['CR_0326']\n",
            "['CR_0326', 'MR_0348']\n",
            "['CR_0326', 'MR_0348', 'CR_0148']\n",
            "['CR_0326', 'MR_0348', 'CR_0148', 'CR_0457']\n",
            "['CR_0326', 'MR_0348', 'CR_0148', 'CR_0457', 'CR_0662']\n",
            "['CR_0326', 'MR_0348', 'CR_0148', 'CR_0457', 'CR_0662', 'CR_0436']\n",
            "['CR_0326', 'MR_0348', 'CR_0148', 'CR_0457', 'CR_0662', 'CR_0436', 'CR_0266']\n",
            "['CR_0326', 'MR_0348', 'CR_0148', 'CR_0457', 'CR_0662', 'CR_0436', 'CR_0266', 'CR_0304']\n",
            "['CR_0326', 'MR_0348', 'CR_0148', 'CR_0457', 'CR_0662', 'CR_0436', 'CR_0266', 'CR_0304', 'CR_0111']\n",
            "['CR_0326', 'MR_0348', 'CR_0148', 'CR_0457', 'CR_0662', 'CR_0436', 'CR_0266', 'CR_0304', 'CR_0111', 'CR_0022']\n",
            "['CR_0326', 'MR_0348', 'CR_0148', 'CR_0457', 'CR_0662', 'CR_0436', 'CR_0266', 'CR_0304', 'CR_0111', 'CR_0022', 'CR_0083']\n",
            "['CR_0326', 'MR_0348', 'CR_0148', 'CR_0457', 'CR_0662', 'CR_0436', 'CR_0266', 'CR_0304', 'CR_0111', 'CR_0022', 'CR_0083', 'CR_0003']\n",
            "['CR_0326', 'MR_0348', 'CR_0148', 'CR_0457', 'CR_0662', 'CR_0436', 'CR_0266', 'CR_0304', 'CR_0111', 'CR_0022', 'CR_0083', 'CR_0003', 'CR_0464']\n",
            "['CR_0326', 'MR_0348', 'CR_0148', 'CR_0457', 'CR_0662', 'CR_0436', 'CR_0266', 'CR_0304', 'CR_0111', 'CR_0022', 'CR_0083', 'CR_0003', 'CR_0464', 'CR_0100']\n",
            "['CR_0326', 'MR_0348', 'CR_0148', 'CR_0457', 'CR_0662', 'CR_0436', 'CR_0266', 'CR_0304', 'CR_0111', 'CR_0022', 'CR_0083', 'CR_0003', 'CR_0464', 'CR_0100', 'CR_0020']\n",
            "['CR_0326', 'MR_0348', 'CR_0148', 'CR_0457', 'CR_0662', 'CR_0436', 'CR_0266', 'CR_0304', 'CR_0111', 'CR_0022', 'CR_0083', 'CR_0003', 'CR_0464', 'CR_0100', 'CR_0020', 'CR_0447']\n",
            "['CR_0326', 'MR_0348', 'CR_0148', 'CR_0457', 'CR_0662', 'CR_0436', 'CR_0266', 'CR_0304', 'CR_0111', 'CR_0022', 'CR_0083', 'CR_0003', 'CR_0464', 'CR_0100', 'CR_0020', 'CR_0447', 'CR_0411']\n",
            "['CR_0326', 'MR_0348', 'CR_0148', 'CR_0457', 'CR_0662', 'CR_0436', 'CR_0266', 'CR_0304', 'CR_0111', 'CR_0022', 'CR_0083', 'CR_0003', 'CR_0464', 'CR_0100', 'CR_0020', 'CR_0447', 'CR_0411', 'CR_0353']\n",
            "['CR_0326', 'MR_0348', 'CR_0148', 'CR_0457', 'CR_0662', 'CR_0436', 'CR_0266', 'CR_0304', 'CR_0111', 'CR_0022', 'CR_0083', 'CR_0003', 'CR_0464', 'CR_0100', 'CR_0020', 'CR_0447', 'CR_0411', 'CR_0353', 'MR_0013']\n",
            "['CR_0326', 'MR_0348', 'CR_0148', 'CR_0457', 'CR_0662', 'CR_0436', 'CR_0266', 'CR_0304', 'CR_0111', 'CR_0022', 'CR_0083', 'CR_0003', 'CR_0464', 'CR_0100', 'CR_0020', 'CR_0447', 'CR_0411', 'CR_0353', 'MR_0013', 'MR_0040']\n",
            "['CR_0326', 'MR_0348', 'CR_0148', 'CR_0457', 'CR_0662', 'CR_0436', 'CR_0266', 'CR_0304', 'CR_0111', 'CR_0022', 'CR_0083', 'CR_0003', 'CR_0464', 'CR_0100', 'CR_0020', 'CR_0447', 'CR_0411', 'CR_0353', 'MR_0013', 'MR_0040', 'CR_0146']\n",
            "['CR_0326', 'MR_0348', 'CR_0148', 'CR_0457', 'CR_0662', 'CR_0436', 'CR_0266', 'CR_0304', 'CR_0111', 'CR_0022', 'CR_0083', 'CR_0003', 'CR_0464', 'CR_0100', 'CR_0020', 'CR_0447', 'CR_0411', 'CR_0353', 'MR_0013', 'MR_0040', 'CR_0146', 'MR_0228']\n",
            "['CR_0326', 'MR_0348', 'CR_0148', 'CR_0457', 'CR_0662', 'CR_0436', 'CR_0266', 'CR_0304', 'CR_0111', 'CR_0022', 'CR_0083', 'CR_0003', 'CR_0464', 'CR_0100', 'CR_0020', 'CR_0447', 'CR_0411', 'CR_0353', 'MR_0013', 'MR_0040', 'CR_0146', 'MR_0228', 'CR_0397']\n",
            "['CR_0326', 'MR_0348', 'CR_0148', 'CR_0457', 'CR_0662', 'CR_0436', 'CR_0266', 'CR_0304', 'CR_0111', 'CR_0022', 'CR_0083', 'CR_0003', 'CR_0464', 'CR_0100', 'CR_0020', 'CR_0447', 'CR_0411', 'CR_0353', 'MR_0013', 'MR_0040', 'CR_0146', 'MR_0228', 'CR_0397', 'CR_0101']\n",
            "['CR_0326', 'MR_0348', 'CR_0148', 'CR_0457', 'CR_0662', 'CR_0436', 'CR_0266', 'CR_0304', 'CR_0111', 'CR_0022', 'CR_0083', 'CR_0003', 'CR_0464', 'CR_0100', 'CR_0020', 'CR_0447', 'CR_0411', 'CR_0353', 'MR_0013', 'MR_0040', 'CR_0146', 'MR_0228', 'CR_0397', 'CR_0101', 'CR_0504']\n",
            "['CR_0326', 'MR_0348', 'CR_0148', 'CR_0457', 'CR_0662', 'CR_0436', 'CR_0266', 'CR_0304', 'CR_0111', 'CR_0022', 'CR_0083', 'CR_0003', 'CR_0464', 'CR_0100', 'CR_0020', 'CR_0447', 'CR_0411', 'CR_0353', 'MR_0013', 'MR_0040', 'CR_0146', 'MR_0228', 'CR_0397', 'CR_0101', 'CR_0504', 'CR_0421']\n",
            "['CR_0326', 'MR_0348', 'CR_0148', 'CR_0457', 'CR_0662', 'CR_0436', 'CR_0266', 'CR_0304', 'CR_0111', 'CR_0022', 'CR_0083', 'CR_0003', 'CR_0464', 'CR_0100', 'CR_0020', 'CR_0447', 'CR_0411', 'CR_0353', 'MR_0013', 'MR_0040', 'CR_0146', 'MR_0228', 'CR_0397', 'CR_0101', 'CR_0504', 'CR_0421', 'CR_0392']\n",
            "['CR_0326', 'MR_0348', 'CR_0148', 'CR_0457', 'CR_0662', 'CR_0436', 'CR_0266', 'CR_0304', 'CR_0111', 'CR_0022', 'CR_0083', 'CR_0003', 'CR_0464', 'CR_0100', 'CR_0020', 'CR_0447', 'CR_0411', 'CR_0353', 'MR_0013', 'MR_0040', 'CR_0146', 'MR_0228', 'CR_0397', 'CR_0101', 'CR_0504', 'CR_0421', 'CR_0392', 'MR_0070']\n",
            "['CR_0326', 'MR_0348', 'CR_0148', 'CR_0457', 'CR_0662', 'CR_0436', 'CR_0266', 'CR_0304', 'CR_0111', 'CR_0022', 'CR_0083', 'CR_0003', 'CR_0464', 'CR_0100', 'CR_0020', 'CR_0447', 'CR_0411', 'CR_0353', 'MR_0013', 'MR_0040', 'CR_0146', 'MR_0228', 'CR_0397', 'CR_0101', 'CR_0504', 'CR_0421', 'CR_0392', 'MR_0070', 'CR_0391']\n",
            "['CR_0326', 'MR_0348', 'CR_0148', 'CR_0457', 'CR_0662', 'CR_0436', 'CR_0266', 'CR_0304', 'CR_0111', 'CR_0022', 'CR_0083', 'CR_0003', 'CR_0464', 'CR_0100', 'CR_0020', 'CR_0447', 'CR_0411', 'CR_0353', 'MR_0013', 'MR_0040', 'CR_0146', 'MR_0228', 'CR_0397', 'CR_0101', 'CR_0504', 'CR_0421', 'CR_0392', 'MR_0070', 'CR_0391', 'CR_0283']\n",
            "['CR_0326', 'MR_0348', 'CR_0148', 'CR_0457', 'CR_0662', 'CR_0436', 'CR_0266', 'CR_0304', 'CR_0111', 'CR_0022', 'CR_0083', 'CR_0003', 'CR_0464', 'CR_0100', 'CR_0020', 'CR_0447', 'CR_0411', 'CR_0353', 'MR_0013', 'MR_0040', 'CR_0146', 'MR_0228', 'CR_0397', 'CR_0101', 'CR_0504', 'CR_0421', 'CR_0392', 'MR_0070', 'CR_0391', 'CR_0283', 'MR_0126']\n",
            "['CR_0326', 'MR_0348', 'CR_0148', 'CR_0457', 'CR_0662', 'CR_0436', 'CR_0266', 'CR_0304', 'CR_0111', 'CR_0022', 'CR_0083', 'CR_0003', 'CR_0464', 'CR_0100', 'CR_0020', 'CR_0447', 'CR_0411', 'CR_0353', 'MR_0013', 'MR_0040', 'CR_0146', 'MR_0228', 'CR_0397', 'CR_0101', 'CR_0504', 'CR_0421', 'CR_0392', 'MR_0070', 'CR_0391', 'CR_0283', 'MR_0126', 'MR_0052']\n",
            "['CR_0326', 'MR_0348', 'CR_0148', 'CR_0457', 'CR_0662', 'CR_0436', 'CR_0266', 'CR_0304', 'CR_0111', 'CR_0022', 'CR_0083', 'CR_0003', 'CR_0464', 'CR_0100', 'CR_0020', 'CR_0447', 'CR_0411', 'CR_0353', 'MR_0013', 'MR_0040', 'CR_0146', 'MR_0228', 'CR_0397', 'CR_0101', 'CR_0504', 'CR_0421', 'CR_0392', 'MR_0070', 'CR_0391', 'CR_0283', 'MR_0126', 'MR_0052', 'CR_0615']\n",
            "['CR_0326', 'MR_0348', 'CR_0148', 'CR_0457', 'CR_0662', 'CR_0436', 'CR_0266', 'CR_0304', 'CR_0111', 'CR_0022', 'CR_0083', 'CR_0003', 'CR_0464', 'CR_0100', 'CR_0020', 'CR_0447', 'CR_0411', 'CR_0353', 'MR_0013', 'MR_0040', 'CR_0146', 'MR_0228', 'CR_0397', 'CR_0101', 'CR_0504', 'CR_0421', 'CR_0392', 'MR_0070', 'CR_0391', 'CR_0283', 'MR_0126', 'MR_0052', 'CR_0615', 'CR_0489']\n",
            "['CR_0326', 'MR_0348', 'CR_0148', 'CR_0457', 'CR_0662', 'CR_0436', 'CR_0266', 'CR_0304', 'CR_0111', 'CR_0022', 'CR_0083', 'CR_0003', 'CR_0464', 'CR_0100', 'CR_0020', 'CR_0447', 'CR_0411', 'CR_0353', 'MR_0013', 'MR_0040', 'CR_0146', 'MR_0228', 'CR_0397', 'CR_0101', 'CR_0504', 'CR_0421', 'CR_0392', 'MR_0070', 'CR_0391', 'CR_0283', 'MR_0126', 'MR_0052', 'CR_0615', 'CR_0489', 'CR_0365']\n",
            "['CR_0326', 'MR_0348', 'CR_0148', 'CR_0457', 'CR_0662', 'CR_0436', 'CR_0266', 'CR_0304', 'CR_0111', 'CR_0022', 'CR_0083', 'CR_0003', 'CR_0464', 'CR_0100', 'CR_0020', 'CR_0447', 'CR_0411', 'CR_0353', 'MR_0013', 'MR_0040', 'CR_0146', 'MR_0228', 'CR_0397', 'CR_0101', 'CR_0504', 'CR_0421', 'CR_0392', 'MR_0070', 'CR_0391', 'CR_0283', 'MR_0126', 'MR_0052', 'CR_0615', 'CR_0489', 'CR_0365', 'CR_0219']\n",
            "['CR_0326', 'MR_0348', 'CR_0148', 'CR_0457', 'CR_0662', 'CR_0436', 'CR_0266', 'CR_0304', 'CR_0111', 'CR_0022', 'CR_0083', 'CR_0003', 'CR_0464', 'CR_0100', 'CR_0020', 'CR_0447', 'CR_0411', 'CR_0353', 'MR_0013', 'MR_0040', 'CR_0146', 'MR_0228', 'CR_0397', 'CR_0101', 'CR_0504', 'CR_0421', 'CR_0392', 'MR_0070', 'CR_0391', 'CR_0283', 'MR_0126', 'MR_0052', 'CR_0615', 'CR_0489', 'CR_0365', 'CR_0219', 'MR_0027']\n",
            "['CR_0326', 'MR_0348', 'CR_0148', 'CR_0457', 'CR_0662', 'CR_0436', 'CR_0266', 'CR_0304', 'CR_0111', 'CR_0022', 'CR_0083', 'CR_0003', 'CR_0464', 'CR_0100', 'CR_0020', 'CR_0447', 'CR_0411', 'CR_0353', 'MR_0013', 'MR_0040', 'CR_0146', 'MR_0228', 'CR_0397', 'CR_0101', 'CR_0504', 'CR_0421', 'CR_0392', 'MR_0070', 'CR_0391', 'CR_0283', 'MR_0126', 'MR_0052', 'CR_0615', 'CR_0489', 'CR_0365', 'CR_0219', 'MR_0027', 'CR_0157']\n",
            "['CR_0326', 'MR_0348', 'CR_0148', 'CR_0457', 'CR_0662', 'CR_0436', 'CR_0266', 'CR_0304', 'CR_0111', 'CR_0022', 'CR_0083', 'CR_0003', 'CR_0464', 'CR_0100', 'CR_0020', 'CR_0447', 'CR_0411', 'CR_0353', 'MR_0013', 'MR_0040', 'CR_0146', 'MR_0228', 'CR_0397', 'CR_0101', 'CR_0504', 'CR_0421', 'CR_0392', 'MR_0070', 'CR_0391', 'CR_0283', 'MR_0126', 'MR_0052', 'CR_0615', 'CR_0489', 'CR_0365', 'CR_0219', 'MR_0027', 'CR_0157', 'CR_0035']\n",
            "['CR_0326', 'MR_0348', 'CR_0148', 'CR_0457', 'CR_0662', 'CR_0436', 'CR_0266', 'CR_0304', 'CR_0111', 'CR_0022', 'CR_0083', 'CR_0003', 'CR_0464', 'CR_0100', 'CR_0020', 'CR_0447', 'CR_0411', 'CR_0353', 'MR_0013', 'MR_0040', 'CR_0146', 'MR_0228', 'CR_0397', 'CR_0101', 'CR_0504', 'CR_0421', 'CR_0392', 'MR_0070', 'CR_0391', 'CR_0283', 'MR_0126', 'MR_0052', 'CR_0615', 'CR_0489', 'CR_0365', 'CR_0219', 'MR_0027', 'CR_0157', 'CR_0035', 'CR_0492']\n",
            "['CR_0326', 'MR_0348', 'CR_0148', 'CR_0457', 'CR_0662', 'CR_0436', 'CR_0266', 'CR_0304', 'CR_0111', 'CR_0022', 'CR_0083', 'CR_0003', 'CR_0464', 'CR_0100', 'CR_0020', 'CR_0447', 'CR_0411', 'CR_0353', 'MR_0013', 'MR_0040', 'CR_0146', 'MR_0228', 'CR_0397', 'CR_0101', 'CR_0504', 'CR_0421', 'CR_0392', 'MR_0070', 'CR_0391', 'CR_0283', 'MR_0126', 'MR_0052', 'CR_0615', 'CR_0489', 'CR_0365', 'CR_0219', 'MR_0027', 'CR_0157', 'CR_0035', 'CR_0492', 'CR_0395']\n",
            "['CR_0326', 'MR_0348', 'CR_0148', 'CR_0457', 'CR_0662', 'CR_0436', 'CR_0266', 'CR_0304', 'CR_0111', 'CR_0022', 'CR_0083', 'CR_0003', 'CR_0464', 'CR_0100', 'CR_0020', 'CR_0447', 'CR_0411', 'CR_0353', 'MR_0013', 'MR_0040', 'CR_0146', 'MR_0228', 'CR_0397', 'CR_0101', 'CR_0504', 'CR_0421', 'CR_0392', 'MR_0070', 'CR_0391', 'CR_0283', 'MR_0126', 'MR_0052', 'CR_0615', 'CR_0489', 'CR_0365', 'CR_0219', 'MR_0027', 'CR_0157', 'CR_0035', 'CR_0492', 'CR_0395', 'MR_0203']\n",
            "['CR_0326', 'MR_0348', 'CR_0148', 'CR_0457', 'CR_0662', 'CR_0436', 'CR_0266', 'CR_0304', 'CR_0111', 'CR_0022', 'CR_0083', 'CR_0003', 'CR_0464', 'CR_0100', 'CR_0020', 'CR_0447', 'CR_0411', 'CR_0353', 'MR_0013', 'MR_0040', 'CR_0146', 'MR_0228', 'CR_0397', 'CR_0101', 'CR_0504', 'CR_0421', 'CR_0392', 'MR_0070', 'CR_0391', 'CR_0283', 'MR_0126', 'MR_0052', 'CR_0615', 'CR_0489', 'CR_0365', 'CR_0219', 'MR_0027', 'CR_0157', 'CR_0035', 'CR_0492', 'CR_0395', 'MR_0203', 'CR_0348']\n",
            "['CR_0326', 'MR_0348', 'CR_0148', 'CR_0457', 'CR_0662', 'CR_0436', 'CR_0266', 'CR_0304', 'CR_0111', 'CR_0022', 'CR_0083', 'CR_0003', 'CR_0464', 'CR_0100', 'CR_0020', 'CR_0447', 'CR_0411', 'CR_0353', 'MR_0013', 'MR_0040', 'CR_0146', 'MR_0228', 'CR_0397', 'CR_0101', 'CR_0504', 'CR_0421', 'CR_0392', 'MR_0070', 'CR_0391', 'CR_0283', 'MR_0126', 'MR_0052', 'CR_0615', 'CR_0489', 'CR_0365', 'CR_0219', 'MR_0027', 'CR_0157', 'CR_0035', 'CR_0492', 'CR_0395', 'MR_0203', 'CR_0348', 'CR_0325']\n",
            "['CR_0326', 'MR_0348', 'CR_0148', 'CR_0457', 'CR_0662', 'CR_0436', 'CR_0266', 'CR_0304', 'CR_0111', 'CR_0022', 'CR_0083', 'CR_0003', 'CR_0464', 'CR_0100', 'CR_0020', 'CR_0447', 'CR_0411', 'CR_0353', 'MR_0013', 'MR_0040', 'CR_0146', 'MR_0228', 'CR_0397', 'CR_0101', 'CR_0504', 'CR_0421', 'CR_0392', 'MR_0070', 'CR_0391', 'CR_0283', 'MR_0126', 'MR_0052', 'CR_0615', 'CR_0489', 'CR_0365', 'CR_0219', 'MR_0027', 'CR_0157', 'CR_0035', 'CR_0492', 'CR_0395', 'MR_0203', 'CR_0348', 'CR_0325', 'CR_0240']\n",
            "['CR_0326', 'MR_0348', 'CR_0148', 'CR_0457', 'CR_0662', 'CR_0436', 'CR_0266', 'CR_0304', 'CR_0111', 'CR_0022', 'CR_0083', 'CR_0003', 'CR_0464', 'CR_0100', 'CR_0020', 'CR_0447', 'CR_0411', 'CR_0353', 'MR_0013', 'MR_0040', 'CR_0146', 'MR_0228', 'CR_0397', 'CR_0101', 'CR_0504', 'CR_0421', 'CR_0392', 'MR_0070', 'CR_0391', 'CR_0283', 'MR_0126', 'MR_0052', 'CR_0615', 'CR_0489', 'CR_0365', 'CR_0219', 'MR_0027', 'CR_0157', 'CR_0035', 'CR_0492', 'CR_0395', 'MR_0203', 'CR_0348', 'CR_0325', 'CR_0240', 'CR_0214']\n",
            "['CR_0326', 'MR_0348', 'CR_0148', 'CR_0457', 'CR_0662', 'CR_0436', 'CR_0266', 'CR_0304', 'CR_0111', 'CR_0022', 'CR_0083', 'CR_0003', 'CR_0464', 'CR_0100', 'CR_0020', 'CR_0447', 'CR_0411', 'CR_0353', 'MR_0013', 'MR_0040', 'CR_0146', 'MR_0228', 'CR_0397', 'CR_0101', 'CR_0504', 'CR_0421', 'CR_0392', 'MR_0070', 'CR_0391', 'CR_0283', 'MR_0126', 'MR_0052', 'CR_0615', 'CR_0489', 'CR_0365', 'CR_0219', 'MR_0027', 'CR_0157', 'CR_0035', 'CR_0492', 'CR_0395', 'MR_0203', 'CR_0348', 'CR_0325', 'CR_0240', 'CR_0214', 'CR_0024']\n",
            "['CR_0326', 'MR_0348', 'CR_0148', 'CR_0457', 'CR_0662', 'CR_0436', 'CR_0266', 'CR_0304', 'CR_0111', 'CR_0022', 'CR_0083', 'CR_0003', 'CR_0464', 'CR_0100', 'CR_0020', 'CR_0447', 'CR_0411', 'CR_0353', 'MR_0013', 'MR_0040', 'CR_0146', 'MR_0228', 'CR_0397', 'CR_0101', 'CR_0504', 'CR_0421', 'CR_0392', 'MR_0070', 'CR_0391', 'CR_0283', 'MR_0126', 'MR_0052', 'CR_0615', 'CR_0489', 'CR_0365', 'CR_0219', 'MR_0027', 'CR_0157', 'CR_0035', 'CR_0492', 'CR_0395', 'MR_0203', 'CR_0348', 'CR_0325', 'CR_0240', 'CR_0214', 'CR_0024', 'CR_0649']\n",
            "['CR_0326', 'MR_0348', 'CR_0148', 'CR_0457', 'CR_0662', 'CR_0436', 'CR_0266', 'CR_0304', 'CR_0111', 'CR_0022', 'CR_0083', 'CR_0003', 'CR_0464', 'CR_0100', 'CR_0020', 'CR_0447', 'CR_0411', 'CR_0353', 'MR_0013', 'MR_0040', 'CR_0146', 'MR_0228', 'CR_0397', 'CR_0101', 'CR_0504', 'CR_0421', 'CR_0392', 'MR_0070', 'CR_0391', 'CR_0283', 'MR_0126', 'MR_0052', 'CR_0615', 'CR_0489', 'CR_0365', 'CR_0219', 'MR_0027', 'CR_0157', 'CR_0035', 'CR_0492', 'CR_0395', 'MR_0203', 'CR_0348', 'CR_0325', 'CR_0240', 'CR_0214', 'CR_0024', 'CR_0649', 'CR_0300']\n",
            "['CR_0326', 'MR_0348', 'CR_0148', 'CR_0457', 'CR_0662', 'CR_0436', 'CR_0266', 'CR_0304', 'CR_0111', 'CR_0022', 'CR_0083', 'CR_0003', 'CR_0464', 'CR_0100', 'CR_0020', 'CR_0447', 'CR_0411', 'CR_0353', 'MR_0013', 'MR_0040', 'CR_0146', 'MR_0228', 'CR_0397', 'CR_0101', 'CR_0504', 'CR_0421', 'CR_0392', 'MR_0070', 'CR_0391', 'CR_0283', 'MR_0126', 'MR_0052', 'CR_0615', 'CR_0489', 'CR_0365', 'CR_0219', 'MR_0027', 'CR_0157', 'CR_0035', 'CR_0492', 'CR_0395', 'MR_0203', 'CR_0348', 'CR_0325', 'CR_0240', 'CR_0214', 'CR_0024', 'CR_0649', 'CR_0300', 'CR_0637']\n",
            "['CR_0326', 'MR_0348', 'CR_0148', 'CR_0457', 'CR_0662', 'CR_0436', 'CR_0266', 'CR_0304', 'CR_0111', 'CR_0022', 'CR_0083', 'CR_0003', 'CR_0464', 'CR_0100', 'CR_0020', 'CR_0447', 'CR_0411', 'CR_0353', 'MR_0013', 'MR_0040', 'CR_0146', 'MR_0228', 'CR_0397', 'CR_0101', 'CR_0504', 'CR_0421', 'CR_0392', 'MR_0070', 'CR_0391', 'CR_0283', 'MR_0126', 'MR_0052', 'CR_0615', 'CR_0489', 'CR_0365', 'CR_0219', 'MR_0027', 'CR_0157', 'CR_0035', 'CR_0492', 'CR_0395', 'MR_0203', 'CR_0348', 'CR_0325', 'CR_0240', 'CR_0214', 'CR_0024', 'CR_0649', 'CR_0300', 'CR_0637', 'CR_0173']\n",
            "['CR_0326', 'MR_0348', 'CR_0148', 'CR_0457', 'CR_0662', 'CR_0436', 'CR_0266', 'CR_0304', 'CR_0111', 'CR_0022', 'CR_0083', 'CR_0003', 'CR_0464', 'CR_0100', 'CR_0020', 'CR_0447', 'CR_0411', 'CR_0353', 'MR_0013', 'MR_0040', 'CR_0146', 'MR_0228', 'CR_0397', 'CR_0101', 'CR_0504', 'CR_0421', 'CR_0392', 'MR_0070', 'CR_0391', 'CR_0283', 'MR_0126', 'MR_0052', 'CR_0615', 'CR_0489', 'CR_0365', 'CR_0219', 'MR_0027', 'CR_0157', 'CR_0035', 'CR_0492', 'CR_0395', 'MR_0203', 'CR_0348', 'CR_0325', 'CR_0240', 'CR_0214', 'CR_0024', 'CR_0649', 'CR_0300', 'CR_0637', 'CR_0173', 'CR_0096']\n",
            "['CR_0326', 'MR_0348', 'CR_0148', 'CR_0457', 'CR_0662', 'CR_0436', 'CR_0266', 'CR_0304', 'CR_0111', 'CR_0022', 'CR_0083', 'CR_0003', 'CR_0464', 'CR_0100', 'CR_0020', 'CR_0447', 'CR_0411', 'CR_0353', 'MR_0013', 'MR_0040', 'CR_0146', 'MR_0228', 'CR_0397', 'CR_0101', 'CR_0504', 'CR_0421', 'CR_0392', 'MR_0070', 'CR_0391', 'CR_0283', 'MR_0126', 'MR_0052', 'CR_0615', 'CR_0489', 'CR_0365', 'CR_0219', 'MR_0027', 'CR_0157', 'CR_0035', 'CR_0492', 'CR_0395', 'MR_0203', 'CR_0348', 'CR_0325', 'CR_0240', 'CR_0214', 'CR_0024', 'CR_0649', 'CR_0300', 'CR_0637', 'CR_0173', 'CR_0096', 'CR_0536']\n",
            "['CR_0326', 'MR_0348', 'CR_0148', 'CR_0457', 'CR_0662', 'CR_0436', 'CR_0266', 'CR_0304', 'CR_0111', 'CR_0022', 'CR_0083', 'CR_0003', 'CR_0464', 'CR_0100', 'CR_0020', 'CR_0447', 'CR_0411', 'CR_0353', 'MR_0013', 'MR_0040', 'CR_0146', 'MR_0228', 'CR_0397', 'CR_0101', 'CR_0504', 'CR_0421', 'CR_0392', 'MR_0070', 'CR_0391', 'CR_0283', 'MR_0126', 'MR_0052', 'CR_0615', 'CR_0489', 'CR_0365', 'CR_0219', 'MR_0027', 'CR_0157', 'CR_0035', 'CR_0492', 'CR_0395', 'MR_0203', 'CR_0348', 'CR_0325', 'CR_0240', 'CR_0214', 'CR_0024', 'CR_0649', 'CR_0300', 'CR_0637', 'CR_0173', 'CR_0096', 'CR_0536', 'CR_0514']\n",
            "['CR_0326', 'MR_0348', 'CR_0148', 'CR_0457', 'CR_0662', 'CR_0436', 'CR_0266', 'CR_0304', 'CR_0111', 'CR_0022', 'CR_0083', 'CR_0003', 'CR_0464', 'CR_0100', 'CR_0020', 'CR_0447', 'CR_0411', 'CR_0353', 'MR_0013', 'MR_0040', 'CR_0146', 'MR_0228', 'CR_0397', 'CR_0101', 'CR_0504', 'CR_0421', 'CR_0392', 'MR_0070', 'CR_0391', 'CR_0283', 'MR_0126', 'MR_0052', 'CR_0615', 'CR_0489', 'CR_0365', 'CR_0219', 'MR_0027', 'CR_0157', 'CR_0035', 'CR_0492', 'CR_0395', 'MR_0203', 'CR_0348', 'CR_0325', 'CR_0240', 'CR_0214', 'CR_0024', 'CR_0649', 'CR_0300', 'CR_0637', 'CR_0173', 'CR_0096', 'CR_0536', 'CR_0514', 'CR_0600']\n",
            "['CR_0326', 'MR_0348', 'CR_0148', 'CR_0457', 'CR_0662', 'CR_0436', 'CR_0266', 'CR_0304', 'CR_0111', 'CR_0022', 'CR_0083', 'CR_0003', 'CR_0464', 'CR_0100', 'CR_0020', 'CR_0447', 'CR_0411', 'CR_0353', 'MR_0013', 'MR_0040', 'CR_0146', 'MR_0228', 'CR_0397', 'CR_0101', 'CR_0504', 'CR_0421', 'CR_0392', 'MR_0070', 'CR_0391', 'CR_0283', 'MR_0126', 'MR_0052', 'CR_0615', 'CR_0489', 'CR_0365', 'CR_0219', 'MR_0027', 'CR_0157', 'CR_0035', 'CR_0492', 'CR_0395', 'MR_0203', 'CR_0348', 'CR_0325', 'CR_0240', 'CR_0214', 'CR_0024', 'CR_0649', 'CR_0300', 'CR_0637', 'CR_0173', 'CR_0096', 'CR_0536', 'CR_0514', 'CR_0600', 'MR_0170']\n",
            "['CR_0326', 'MR_0348', 'CR_0148', 'CR_0457', 'CR_0662', 'CR_0436', 'CR_0266', 'CR_0304', 'CR_0111', 'CR_0022', 'CR_0083', 'CR_0003', 'CR_0464', 'CR_0100', 'CR_0020', 'CR_0447', 'CR_0411', 'CR_0353', 'MR_0013', 'MR_0040', 'CR_0146', 'MR_0228', 'CR_0397', 'CR_0101', 'CR_0504', 'CR_0421', 'CR_0392', 'MR_0070', 'CR_0391', 'CR_0283', 'MR_0126', 'MR_0052', 'CR_0615', 'CR_0489', 'CR_0365', 'CR_0219', 'MR_0027', 'CR_0157', 'CR_0035', 'CR_0492', 'CR_0395', 'MR_0203', 'CR_0348', 'CR_0325', 'CR_0240', 'CR_0214', 'CR_0024', 'CR_0649', 'CR_0300', 'CR_0637', 'CR_0173', 'CR_0096', 'CR_0536', 'CR_0514', 'CR_0600', 'MR_0170', 'CR_0547']\n",
            "['CR_0326', 'MR_0348', 'CR_0148', 'CR_0457', 'CR_0662', 'CR_0436', 'CR_0266', 'CR_0304', 'CR_0111', 'CR_0022', 'CR_0083', 'CR_0003', 'CR_0464', 'CR_0100', 'CR_0020', 'CR_0447', 'CR_0411', 'CR_0353', 'MR_0013', 'MR_0040', 'CR_0146', 'MR_0228', 'CR_0397', 'CR_0101', 'CR_0504', 'CR_0421', 'CR_0392', 'MR_0070', 'CR_0391', 'CR_0283', 'MR_0126', 'MR_0052', 'CR_0615', 'CR_0489', 'CR_0365', 'CR_0219', 'MR_0027', 'CR_0157', 'CR_0035', 'CR_0492', 'CR_0395', 'MR_0203', 'CR_0348', 'CR_0325', 'CR_0240', 'CR_0214', 'CR_0024', 'CR_0649', 'CR_0300', 'CR_0637', 'CR_0173', 'CR_0096', 'CR_0536', 'CR_0514', 'CR_0600', 'MR_0170', 'CR_0547', 'CR_0143']\n",
            "['CR_0326', 'MR_0348', 'CR_0148', 'CR_0457', 'CR_0662', 'CR_0436', 'CR_0266', 'CR_0304', 'CR_0111', 'CR_0022', 'CR_0083', 'CR_0003', 'CR_0464', 'CR_0100', 'CR_0020', 'CR_0447', 'CR_0411', 'CR_0353', 'MR_0013', 'MR_0040', 'CR_0146', 'MR_0228', 'CR_0397', 'CR_0101', 'CR_0504', 'CR_0421', 'CR_0392', 'MR_0070', 'CR_0391', 'CR_0283', 'MR_0126', 'MR_0052', 'CR_0615', 'CR_0489', 'CR_0365', 'CR_0219', 'MR_0027', 'CR_0157', 'CR_0035', 'CR_0492', 'CR_0395', 'MR_0203', 'CR_0348', 'CR_0325', 'CR_0240', 'CR_0214', 'CR_0024', 'CR_0649', 'CR_0300', 'CR_0637', 'CR_0173', 'CR_0096', 'CR_0536', 'CR_0514', 'CR_0600', 'MR_0170', 'CR_0547', 'CR_0143', 'MR_0275']\n",
            "['CR_0326', 'MR_0348', 'CR_0148', 'CR_0457', 'CR_0662', 'CR_0436', 'CR_0266', 'CR_0304', 'CR_0111', 'CR_0022', 'CR_0083', 'CR_0003', 'CR_0464', 'CR_0100', 'CR_0020', 'CR_0447', 'CR_0411', 'CR_0353', 'MR_0013', 'MR_0040', 'CR_0146', 'MR_0228', 'CR_0397', 'CR_0101', 'CR_0504', 'CR_0421', 'CR_0392', 'MR_0070', 'CR_0391', 'CR_0283', 'MR_0126', 'MR_0052', 'CR_0615', 'CR_0489', 'CR_0365', 'CR_0219', 'MR_0027', 'CR_0157', 'CR_0035', 'CR_0492', 'CR_0395', 'MR_0203', 'CR_0348', 'CR_0325', 'CR_0240', 'CR_0214', 'CR_0024', 'CR_0649', 'CR_0300', 'CR_0637', 'CR_0173', 'CR_0096', 'CR_0536', 'CR_0514', 'CR_0600', 'MR_0170', 'CR_0547', 'CR_0143', 'MR_0275', 'CR_0497']\n",
            "['CR_0326', 'MR_0348', 'CR_0148', 'CR_0457', 'CR_0662', 'CR_0436', 'CR_0266', 'CR_0304', 'CR_0111', 'CR_0022', 'CR_0083', 'CR_0003', 'CR_0464', 'CR_0100', 'CR_0020', 'CR_0447', 'CR_0411', 'CR_0353', 'MR_0013', 'MR_0040', 'CR_0146', 'MR_0228', 'CR_0397', 'CR_0101', 'CR_0504', 'CR_0421', 'CR_0392', 'MR_0070', 'CR_0391', 'CR_0283', 'MR_0126', 'MR_0052', 'CR_0615', 'CR_0489', 'CR_0365', 'CR_0219', 'MR_0027', 'CR_0157', 'CR_0035', 'CR_0492', 'CR_0395', 'MR_0203', 'CR_0348', 'CR_0325', 'CR_0240', 'CR_0214', 'CR_0024', 'CR_0649', 'CR_0300', 'CR_0637', 'CR_0173', 'CR_0096', 'CR_0536', 'CR_0514', 'CR_0600', 'MR_0170', 'CR_0547', 'CR_0143', 'MR_0275', 'CR_0497', 'CR_0315']\n",
            "['CR_0326', 'MR_0348', 'CR_0148', 'CR_0457', 'CR_0662', 'CR_0436', 'CR_0266', 'CR_0304', 'CR_0111', 'CR_0022', 'CR_0083', 'CR_0003', 'CR_0464', 'CR_0100', 'CR_0020', 'CR_0447', 'CR_0411', 'CR_0353', 'MR_0013', 'MR_0040', 'CR_0146', 'MR_0228', 'CR_0397', 'CR_0101', 'CR_0504', 'CR_0421', 'CR_0392', 'MR_0070', 'CR_0391', 'CR_0283', 'MR_0126', 'MR_0052', 'CR_0615', 'CR_0489', 'CR_0365', 'CR_0219', 'MR_0027', 'CR_0157', 'CR_0035', 'CR_0492', 'CR_0395', 'MR_0203', 'CR_0348', 'CR_0325', 'CR_0240', 'CR_0214', 'CR_0024', 'CR_0649', 'CR_0300', 'CR_0637', 'CR_0173', 'CR_0096', 'CR_0536', 'CR_0514', 'CR_0600', 'MR_0170', 'CR_0547', 'CR_0143', 'MR_0275', 'CR_0497', 'CR_0315', 'CR_0216']\n",
            "['CR_0326', 'MR_0348', 'CR_0148', 'CR_0457', 'CR_0662', 'CR_0436', 'CR_0266', 'CR_0304', 'CR_0111', 'CR_0022', 'CR_0083', 'CR_0003', 'CR_0464', 'CR_0100', 'CR_0020', 'CR_0447', 'CR_0411', 'CR_0353', 'MR_0013', 'MR_0040', 'CR_0146', 'MR_0228', 'CR_0397', 'CR_0101', 'CR_0504', 'CR_0421', 'CR_0392', 'MR_0070', 'CR_0391', 'CR_0283', 'MR_0126', 'MR_0052', 'CR_0615', 'CR_0489', 'CR_0365', 'CR_0219', 'MR_0027', 'CR_0157', 'CR_0035', 'CR_0492', 'CR_0395', 'MR_0203', 'CR_0348', 'CR_0325', 'CR_0240', 'CR_0214', 'CR_0024', 'CR_0649', 'CR_0300', 'CR_0637', 'CR_0173', 'CR_0096', 'CR_0536', 'CR_0514', 'CR_0600', 'MR_0170', 'CR_0547', 'CR_0143', 'MR_0275', 'CR_0497', 'CR_0315', 'CR_0216', 'CR_0568']\n",
            "['CR_0326', 'MR_0348', 'CR_0148', 'CR_0457', 'CR_0662', 'CR_0436', 'CR_0266', 'CR_0304', 'CR_0111', 'CR_0022', 'CR_0083', 'CR_0003', 'CR_0464', 'CR_0100', 'CR_0020', 'CR_0447', 'CR_0411', 'CR_0353', 'MR_0013', 'MR_0040', 'CR_0146', 'MR_0228', 'CR_0397', 'CR_0101', 'CR_0504', 'CR_0421', 'CR_0392', 'MR_0070', 'CR_0391', 'CR_0283', 'MR_0126', 'MR_0052', 'CR_0615', 'CR_0489', 'CR_0365', 'CR_0219', 'MR_0027', 'CR_0157', 'CR_0035', 'CR_0492', 'CR_0395', 'MR_0203', 'CR_0348', 'CR_0325', 'CR_0240', 'CR_0214', 'CR_0024', 'CR_0649', 'CR_0300', 'CR_0637', 'CR_0173', 'CR_0096', 'CR_0536', 'CR_0514', 'CR_0600', 'MR_0170', 'CR_0547', 'CR_0143', 'MR_0275', 'CR_0497', 'CR_0315', 'CR_0216', 'CR_0568', 'CR_0396']\n",
            "['CR_0326', 'MR_0348', 'CR_0148', 'CR_0457', 'CR_0662', 'CR_0436', 'CR_0266', 'CR_0304', 'CR_0111', 'CR_0022', 'CR_0083', 'CR_0003', 'CR_0464', 'CR_0100', 'CR_0020', 'CR_0447', 'CR_0411', 'CR_0353', 'MR_0013', 'MR_0040', 'CR_0146', 'MR_0228', 'CR_0397', 'CR_0101', 'CR_0504', 'CR_0421', 'CR_0392', 'MR_0070', 'CR_0391', 'CR_0283', 'MR_0126', 'MR_0052', 'CR_0615', 'CR_0489', 'CR_0365', 'CR_0219', 'MR_0027', 'CR_0157', 'CR_0035', 'CR_0492', 'CR_0395', 'MR_0203', 'CR_0348', 'CR_0325', 'CR_0240', 'CR_0214', 'CR_0024', 'CR_0649', 'CR_0300', 'CR_0637', 'CR_0173', 'CR_0096', 'CR_0536', 'CR_0514', 'CR_0600', 'MR_0170', 'CR_0547', 'CR_0143', 'MR_0275', 'CR_0497', 'CR_0315', 'CR_0216', 'CR_0568', 'CR_0396', 'MR_0023']\n",
            "['CR_0326', 'MR_0348', 'CR_0148', 'CR_0457', 'CR_0662', 'CR_0436', 'CR_0266', 'CR_0304', 'CR_0111', 'CR_0022', 'CR_0083', 'CR_0003', 'CR_0464', 'CR_0100', 'CR_0020', 'CR_0447', 'CR_0411', 'CR_0353', 'MR_0013', 'MR_0040', 'CR_0146', 'MR_0228', 'CR_0397', 'CR_0101', 'CR_0504', 'CR_0421', 'CR_0392', 'MR_0070', 'CR_0391', 'CR_0283', 'MR_0126', 'MR_0052', 'CR_0615', 'CR_0489', 'CR_0365', 'CR_0219', 'MR_0027', 'CR_0157', 'CR_0035', 'CR_0492', 'CR_0395', 'MR_0203', 'CR_0348', 'CR_0325', 'CR_0240', 'CR_0214', 'CR_0024', 'CR_0649', 'CR_0300', 'CR_0637', 'CR_0173', 'CR_0096', 'CR_0536', 'CR_0514', 'CR_0600', 'MR_0170', 'CR_0547', 'CR_0143', 'MR_0275', 'CR_0497', 'CR_0315', 'CR_0216', 'CR_0568', 'CR_0396', 'MR_0023', 'CR_0424']\n",
            "['CR_0326', 'MR_0348', 'CR_0148', 'CR_0457', 'CR_0662', 'CR_0436', 'CR_0266', 'CR_0304', 'CR_0111', 'CR_0022', 'CR_0083', 'CR_0003', 'CR_0464', 'CR_0100', 'CR_0020', 'CR_0447', 'CR_0411', 'CR_0353', 'MR_0013', 'MR_0040', 'CR_0146', 'MR_0228', 'CR_0397', 'CR_0101', 'CR_0504', 'CR_0421', 'CR_0392', 'MR_0070', 'CR_0391', 'CR_0283', 'MR_0126', 'MR_0052', 'CR_0615', 'CR_0489', 'CR_0365', 'CR_0219', 'MR_0027', 'CR_0157', 'CR_0035', 'CR_0492', 'CR_0395', 'MR_0203', 'CR_0348', 'CR_0325', 'CR_0240', 'CR_0214', 'CR_0024', 'CR_0649', 'CR_0300', 'CR_0637', 'CR_0173', 'CR_0096', 'CR_0536', 'CR_0514', 'CR_0600', 'MR_0170', 'CR_0547', 'CR_0143', 'MR_0275', 'CR_0497', 'CR_0315', 'CR_0216', 'CR_0568', 'CR_0396', 'MR_0023', 'CR_0424', 'CR_0170']\n",
            "['CR_0326', 'MR_0348', 'CR_0148', 'CR_0457', 'CR_0662', 'CR_0436', 'CR_0266', 'CR_0304', 'CR_0111', 'CR_0022', 'CR_0083', 'CR_0003', 'CR_0464', 'CR_0100', 'CR_0020', 'CR_0447', 'CR_0411', 'CR_0353', 'MR_0013', 'MR_0040', 'CR_0146', 'MR_0228', 'CR_0397', 'CR_0101', 'CR_0504', 'CR_0421', 'CR_0392', 'MR_0070', 'CR_0391', 'CR_0283', 'MR_0126', 'MR_0052', 'CR_0615', 'CR_0489', 'CR_0365', 'CR_0219', 'MR_0027', 'CR_0157', 'CR_0035', 'CR_0492', 'CR_0395', 'MR_0203', 'CR_0348', 'CR_0325', 'CR_0240', 'CR_0214', 'CR_0024', 'CR_0649', 'CR_0300', 'CR_0637', 'CR_0173', 'CR_0096', 'CR_0536', 'CR_0514', 'CR_0600', 'MR_0170', 'CR_0547', 'CR_0143', 'MR_0275', 'CR_0497', 'CR_0315', 'CR_0216', 'CR_0568', 'CR_0396', 'MR_0023', 'CR_0424', 'CR_0170', 'CR_0131']\n",
            "['CR_0326', 'MR_0348', 'CR_0148', 'CR_0457', 'CR_0662', 'CR_0436', 'CR_0266', 'CR_0304', 'CR_0111', 'CR_0022', 'CR_0083', 'CR_0003', 'CR_0464', 'CR_0100', 'CR_0020', 'CR_0447', 'CR_0411', 'CR_0353', 'MR_0013', 'MR_0040', 'CR_0146', 'MR_0228', 'CR_0397', 'CR_0101', 'CR_0504', 'CR_0421', 'CR_0392', 'MR_0070', 'CR_0391', 'CR_0283', 'MR_0126', 'MR_0052', 'CR_0615', 'CR_0489', 'CR_0365', 'CR_0219', 'MR_0027', 'CR_0157', 'CR_0035', 'CR_0492', 'CR_0395', 'MR_0203', 'CR_0348', 'CR_0325', 'CR_0240', 'CR_0214', 'CR_0024', 'CR_0649', 'CR_0300', 'CR_0637', 'CR_0173', 'CR_0096', 'CR_0536', 'CR_0514', 'CR_0600', 'MR_0170', 'CR_0547', 'CR_0143', 'MR_0275', 'CR_0497', 'CR_0315', 'CR_0216', 'CR_0568', 'CR_0396', 'MR_0023', 'CR_0424', 'CR_0170', 'CR_0131', 'CR_0029']\n",
            "['CR_0326', 'MR_0348', 'CR_0148', 'CR_0457', 'CR_0662', 'CR_0436', 'CR_0266', 'CR_0304', 'CR_0111', 'CR_0022', 'CR_0083', 'CR_0003', 'CR_0464', 'CR_0100', 'CR_0020', 'CR_0447', 'CR_0411', 'CR_0353', 'MR_0013', 'MR_0040', 'CR_0146', 'MR_0228', 'CR_0397', 'CR_0101', 'CR_0504', 'CR_0421', 'CR_0392', 'MR_0070', 'CR_0391', 'CR_0283', 'MR_0126', 'MR_0052', 'CR_0615', 'CR_0489', 'CR_0365', 'CR_0219', 'MR_0027', 'CR_0157', 'CR_0035', 'CR_0492', 'CR_0395', 'MR_0203', 'CR_0348', 'CR_0325', 'CR_0240', 'CR_0214', 'CR_0024', 'CR_0649', 'CR_0300', 'CR_0637', 'CR_0173', 'CR_0096', 'CR_0536', 'CR_0514', 'CR_0600', 'MR_0170', 'CR_0547', 'CR_0143', 'MR_0275', 'CR_0497', 'CR_0315', 'CR_0216', 'CR_0568', 'CR_0396', 'MR_0023', 'CR_0424', 'CR_0170', 'CR_0131', 'CR_0029', 'MR_0251']\n",
            "['CR_0326', 'MR_0348', 'CR_0148', 'CR_0457', 'CR_0662', 'CR_0436', 'CR_0266', 'CR_0304', 'CR_0111', 'CR_0022', 'CR_0083', 'CR_0003', 'CR_0464', 'CR_0100', 'CR_0020', 'CR_0447', 'CR_0411', 'CR_0353', 'MR_0013', 'MR_0040', 'CR_0146', 'MR_0228', 'CR_0397', 'CR_0101', 'CR_0504', 'CR_0421', 'CR_0392', 'MR_0070', 'CR_0391', 'CR_0283', 'MR_0126', 'MR_0052', 'CR_0615', 'CR_0489', 'CR_0365', 'CR_0219', 'MR_0027', 'CR_0157', 'CR_0035', 'CR_0492', 'CR_0395', 'MR_0203', 'CR_0348', 'CR_0325', 'CR_0240', 'CR_0214', 'CR_0024', 'CR_0649', 'CR_0300', 'CR_0637', 'CR_0173', 'CR_0096', 'CR_0536', 'CR_0514', 'CR_0600', 'MR_0170', 'CR_0547', 'CR_0143', 'MR_0275', 'CR_0497', 'CR_0315', 'CR_0216', 'CR_0568', 'CR_0396', 'MR_0023', 'CR_0424', 'CR_0170', 'CR_0131', 'CR_0029', 'MR_0251', 'MR_0080']\n",
            "['CR_0326', 'MR_0348', 'CR_0148', 'CR_0457', 'CR_0662', 'CR_0436', 'CR_0266', 'CR_0304', 'CR_0111', 'CR_0022', 'CR_0083', 'CR_0003', 'CR_0464', 'CR_0100', 'CR_0020', 'CR_0447', 'CR_0411', 'CR_0353', 'MR_0013', 'MR_0040', 'CR_0146', 'MR_0228', 'CR_0397', 'CR_0101', 'CR_0504', 'CR_0421', 'CR_0392', 'MR_0070', 'CR_0391', 'CR_0283', 'MR_0126', 'MR_0052', 'CR_0615', 'CR_0489', 'CR_0365', 'CR_0219', 'MR_0027', 'CR_0157', 'CR_0035', 'CR_0492', 'CR_0395', 'MR_0203', 'CR_0348', 'CR_0325', 'CR_0240', 'CR_0214', 'CR_0024', 'CR_0649', 'CR_0300', 'CR_0637', 'CR_0173', 'CR_0096', 'CR_0536', 'CR_0514', 'CR_0600', 'MR_0170', 'CR_0547', 'CR_0143', 'MR_0275', 'CR_0497', 'CR_0315', 'CR_0216', 'CR_0568', 'CR_0396', 'MR_0023', 'CR_0424', 'CR_0170', 'CR_0131', 'CR_0029', 'MR_0251', 'MR_0080', 'MR_0338']\n",
            "['CR_0326', 'MR_0348', 'CR_0148', 'CR_0457', 'CR_0662', 'CR_0436', 'CR_0266', 'CR_0304', 'CR_0111', 'CR_0022', 'CR_0083', 'CR_0003', 'CR_0464', 'CR_0100', 'CR_0020', 'CR_0447', 'CR_0411', 'CR_0353', 'MR_0013', 'MR_0040', 'CR_0146', 'MR_0228', 'CR_0397', 'CR_0101', 'CR_0504', 'CR_0421', 'CR_0392', 'MR_0070', 'CR_0391', 'CR_0283', 'MR_0126', 'MR_0052', 'CR_0615', 'CR_0489', 'CR_0365', 'CR_0219', 'MR_0027', 'CR_0157', 'CR_0035', 'CR_0492', 'CR_0395', 'MR_0203', 'CR_0348', 'CR_0325', 'CR_0240', 'CR_0214', 'CR_0024', 'CR_0649', 'CR_0300', 'CR_0637', 'CR_0173', 'CR_0096', 'CR_0536', 'CR_0514', 'CR_0600', 'MR_0170', 'CR_0547', 'CR_0143', 'MR_0275', 'CR_0497', 'CR_0315', 'CR_0216', 'CR_0568', 'CR_0396', 'MR_0023', 'CR_0424', 'CR_0170', 'CR_0131', 'CR_0029', 'MR_0251', 'MR_0080', 'MR_0338', 'MR_0352']\n",
            "['CR_0326', 'MR_0348', 'CR_0148', 'CR_0457', 'CR_0662', 'CR_0436', 'CR_0266', 'CR_0304', 'CR_0111', 'CR_0022', 'CR_0083', 'CR_0003', 'CR_0464', 'CR_0100', 'CR_0020', 'CR_0447', 'CR_0411', 'CR_0353', 'MR_0013', 'MR_0040', 'CR_0146', 'MR_0228', 'CR_0397', 'CR_0101', 'CR_0504', 'CR_0421', 'CR_0392', 'MR_0070', 'CR_0391', 'CR_0283', 'MR_0126', 'MR_0052', 'CR_0615', 'CR_0489', 'CR_0365', 'CR_0219', 'MR_0027', 'CR_0157', 'CR_0035', 'CR_0492', 'CR_0395', 'MR_0203', 'CR_0348', 'CR_0325', 'CR_0240', 'CR_0214', 'CR_0024', 'CR_0649', 'CR_0300', 'CR_0637', 'CR_0173', 'CR_0096', 'CR_0536', 'CR_0514', 'CR_0600', 'MR_0170', 'CR_0547', 'CR_0143', 'MR_0275', 'CR_0497', 'CR_0315', 'CR_0216', 'CR_0568', 'CR_0396', 'MR_0023', 'CR_0424', 'CR_0170', 'CR_0131', 'CR_0029', 'MR_0251', 'MR_0080', 'MR_0338', 'MR_0352', 'MR_0101']\n",
            "['CR_0326', 'MR_0348', 'CR_0148', 'CR_0457', 'CR_0662', 'CR_0436', 'CR_0266', 'CR_0304', 'CR_0111', 'CR_0022', 'CR_0083', 'CR_0003', 'CR_0464', 'CR_0100', 'CR_0020', 'CR_0447', 'CR_0411', 'CR_0353', 'MR_0013', 'MR_0040', 'CR_0146', 'MR_0228', 'CR_0397', 'CR_0101', 'CR_0504', 'CR_0421', 'CR_0392', 'MR_0070', 'CR_0391', 'CR_0283', 'MR_0126', 'MR_0052', 'CR_0615', 'CR_0489', 'CR_0365', 'CR_0219', 'MR_0027', 'CR_0157', 'CR_0035', 'CR_0492', 'CR_0395', 'MR_0203', 'CR_0348', 'CR_0325', 'CR_0240', 'CR_0214', 'CR_0024', 'CR_0649', 'CR_0300', 'CR_0637', 'CR_0173', 'CR_0096', 'CR_0536', 'CR_0514', 'CR_0600', 'MR_0170', 'CR_0547', 'CR_0143', 'MR_0275', 'CR_0497', 'CR_0315', 'CR_0216', 'CR_0568', 'CR_0396', 'MR_0023', 'CR_0424', 'CR_0170', 'CR_0131', 'CR_0029', 'MR_0251', 'MR_0080', 'MR_0338', 'MR_0352', 'MR_0101', 'CR_0220']\n",
            "['CR_0326', 'MR_0348', 'CR_0148', 'CR_0457', 'CR_0662', 'CR_0436', 'CR_0266', 'CR_0304', 'CR_0111', 'CR_0022', 'CR_0083', 'CR_0003', 'CR_0464', 'CR_0100', 'CR_0020', 'CR_0447', 'CR_0411', 'CR_0353', 'MR_0013', 'MR_0040', 'CR_0146', 'MR_0228', 'CR_0397', 'CR_0101', 'CR_0504', 'CR_0421', 'CR_0392', 'MR_0070', 'CR_0391', 'CR_0283', 'MR_0126', 'MR_0052', 'CR_0615', 'CR_0489', 'CR_0365', 'CR_0219', 'MR_0027', 'CR_0157', 'CR_0035', 'CR_0492', 'CR_0395', 'MR_0203', 'CR_0348', 'CR_0325', 'CR_0240', 'CR_0214', 'CR_0024', 'CR_0649', 'CR_0300', 'CR_0637', 'CR_0173', 'CR_0096', 'CR_0536', 'CR_0514', 'CR_0600', 'MR_0170', 'CR_0547', 'CR_0143', 'MR_0275', 'CR_0497', 'CR_0315', 'CR_0216', 'CR_0568', 'CR_0396', 'MR_0023', 'CR_0424', 'CR_0170', 'CR_0131', 'CR_0029', 'MR_0251', 'MR_0080', 'MR_0338', 'MR_0352', 'MR_0101', 'CR_0220', 'CR_0265']\n",
            "['CR_0326', 'MR_0348', 'CR_0148', 'CR_0457', 'CR_0662', 'CR_0436', 'CR_0266', 'CR_0304', 'CR_0111', 'CR_0022', 'CR_0083', 'CR_0003', 'CR_0464', 'CR_0100', 'CR_0020', 'CR_0447', 'CR_0411', 'CR_0353', 'MR_0013', 'MR_0040', 'CR_0146', 'MR_0228', 'CR_0397', 'CR_0101', 'CR_0504', 'CR_0421', 'CR_0392', 'MR_0070', 'CR_0391', 'CR_0283', 'MR_0126', 'MR_0052', 'CR_0615', 'CR_0489', 'CR_0365', 'CR_0219', 'MR_0027', 'CR_0157', 'CR_0035', 'CR_0492', 'CR_0395', 'MR_0203', 'CR_0348', 'CR_0325', 'CR_0240', 'CR_0214', 'CR_0024', 'CR_0649', 'CR_0300', 'CR_0637', 'CR_0173', 'CR_0096', 'CR_0536', 'CR_0514', 'CR_0600', 'MR_0170', 'CR_0547', 'CR_0143', 'MR_0275', 'CR_0497', 'CR_0315', 'CR_0216', 'CR_0568', 'CR_0396', 'MR_0023', 'CR_0424', 'CR_0170', 'CR_0131', 'CR_0029', 'MR_0251', 'MR_0080', 'MR_0338', 'MR_0352', 'MR_0101', 'CR_0220', 'CR_0265', 'CR_0599']\n",
            "['CR_0326', 'MR_0348', 'CR_0148', 'CR_0457', 'CR_0662', 'CR_0436', 'CR_0266', 'CR_0304', 'CR_0111', 'CR_0022', 'CR_0083', 'CR_0003', 'CR_0464', 'CR_0100', 'CR_0020', 'CR_0447', 'CR_0411', 'CR_0353', 'MR_0013', 'MR_0040', 'CR_0146', 'MR_0228', 'CR_0397', 'CR_0101', 'CR_0504', 'CR_0421', 'CR_0392', 'MR_0070', 'CR_0391', 'CR_0283', 'MR_0126', 'MR_0052', 'CR_0615', 'CR_0489', 'CR_0365', 'CR_0219', 'MR_0027', 'CR_0157', 'CR_0035', 'CR_0492', 'CR_0395', 'MR_0203', 'CR_0348', 'CR_0325', 'CR_0240', 'CR_0214', 'CR_0024', 'CR_0649', 'CR_0300', 'CR_0637', 'CR_0173', 'CR_0096', 'CR_0536', 'CR_0514', 'CR_0600', 'MR_0170', 'CR_0547', 'CR_0143', 'MR_0275', 'CR_0497', 'CR_0315', 'CR_0216', 'CR_0568', 'CR_0396', 'MR_0023', 'CR_0424', 'CR_0170', 'CR_0131', 'CR_0029', 'MR_0251', 'MR_0080', 'MR_0338', 'MR_0352', 'MR_0101', 'CR_0220', 'CR_0265', 'CR_0599', 'MR_0108']\n",
            "['CR_0326', 'MR_0348', 'CR_0148', 'CR_0457', 'CR_0662', 'CR_0436', 'CR_0266', 'CR_0304', 'CR_0111', 'CR_0022', 'CR_0083', 'CR_0003', 'CR_0464', 'CR_0100', 'CR_0020', 'CR_0447', 'CR_0411', 'CR_0353', 'MR_0013', 'MR_0040', 'CR_0146', 'MR_0228', 'CR_0397', 'CR_0101', 'CR_0504', 'CR_0421', 'CR_0392', 'MR_0070', 'CR_0391', 'CR_0283', 'MR_0126', 'MR_0052', 'CR_0615', 'CR_0489', 'CR_0365', 'CR_0219', 'MR_0027', 'CR_0157', 'CR_0035', 'CR_0492', 'CR_0395', 'MR_0203', 'CR_0348', 'CR_0325', 'CR_0240', 'CR_0214', 'CR_0024', 'CR_0649', 'CR_0300', 'CR_0637', 'CR_0173', 'CR_0096', 'CR_0536', 'CR_0514', 'CR_0600', 'MR_0170', 'CR_0547', 'CR_0143', 'MR_0275', 'CR_0497', 'CR_0315', 'CR_0216', 'CR_0568', 'CR_0396', 'MR_0023', 'CR_0424', 'CR_0170', 'CR_0131', 'CR_0029', 'MR_0251', 'MR_0080', 'MR_0338', 'MR_0352', 'MR_0101', 'CR_0220', 'CR_0265', 'CR_0599', 'MR_0108', 'CR_0068']\n",
            "['CR_0326', 'MR_0348', 'CR_0148', 'CR_0457', 'CR_0662', 'CR_0436', 'CR_0266', 'CR_0304', 'CR_0111', 'CR_0022', 'CR_0083', 'CR_0003', 'CR_0464', 'CR_0100', 'CR_0020', 'CR_0447', 'CR_0411', 'CR_0353', 'MR_0013', 'MR_0040', 'CR_0146', 'MR_0228', 'CR_0397', 'CR_0101', 'CR_0504', 'CR_0421', 'CR_0392', 'MR_0070', 'CR_0391', 'CR_0283', 'MR_0126', 'MR_0052', 'CR_0615', 'CR_0489', 'CR_0365', 'CR_0219', 'MR_0027', 'CR_0157', 'CR_0035', 'CR_0492', 'CR_0395', 'MR_0203', 'CR_0348', 'CR_0325', 'CR_0240', 'CR_0214', 'CR_0024', 'CR_0649', 'CR_0300', 'CR_0637', 'CR_0173', 'CR_0096', 'CR_0536', 'CR_0514', 'CR_0600', 'MR_0170', 'CR_0547', 'CR_0143', 'MR_0275', 'CR_0497', 'CR_0315', 'CR_0216', 'CR_0568', 'CR_0396', 'MR_0023', 'CR_0424', 'CR_0170', 'CR_0131', 'CR_0029', 'MR_0251', 'MR_0080', 'MR_0338', 'MR_0352', 'MR_0101', 'CR_0220', 'CR_0265', 'CR_0599', 'MR_0108', 'CR_0068', 'CR_0041']\n",
            "['CR_0326', 'MR_0348', 'CR_0148', 'CR_0457', 'CR_0662', 'CR_0436', 'CR_0266', 'CR_0304', 'CR_0111', 'CR_0022', 'CR_0083', 'CR_0003', 'CR_0464', 'CR_0100', 'CR_0020', 'CR_0447', 'CR_0411', 'CR_0353', 'MR_0013', 'MR_0040', 'CR_0146', 'MR_0228', 'CR_0397', 'CR_0101', 'CR_0504', 'CR_0421', 'CR_0392', 'MR_0070', 'CR_0391', 'CR_0283', 'MR_0126', 'MR_0052', 'CR_0615', 'CR_0489', 'CR_0365', 'CR_0219', 'MR_0027', 'CR_0157', 'CR_0035', 'CR_0492', 'CR_0395', 'MR_0203', 'CR_0348', 'CR_0325', 'CR_0240', 'CR_0214', 'CR_0024', 'CR_0649', 'CR_0300', 'CR_0637', 'CR_0173', 'CR_0096', 'CR_0536', 'CR_0514', 'CR_0600', 'MR_0170', 'CR_0547', 'CR_0143', 'MR_0275', 'CR_0497', 'CR_0315', 'CR_0216', 'CR_0568', 'CR_0396', 'MR_0023', 'CR_0424', 'CR_0170', 'CR_0131', 'CR_0029', 'MR_0251', 'MR_0080', 'MR_0338', 'MR_0352', 'MR_0101', 'CR_0220', 'CR_0265', 'CR_0599', 'MR_0108', 'CR_0068', 'CR_0041', 'CR_0482']\n",
            "['CR_0326', 'MR_0348', 'CR_0148', 'CR_0457', 'CR_0662', 'CR_0436', 'CR_0266', 'CR_0304', 'CR_0111', 'CR_0022', 'CR_0083', 'CR_0003', 'CR_0464', 'CR_0100', 'CR_0020', 'CR_0447', 'CR_0411', 'CR_0353', 'MR_0013', 'MR_0040', 'CR_0146', 'MR_0228', 'CR_0397', 'CR_0101', 'CR_0504', 'CR_0421', 'CR_0392', 'MR_0070', 'CR_0391', 'CR_0283', 'MR_0126', 'MR_0052', 'CR_0615', 'CR_0489', 'CR_0365', 'CR_0219', 'MR_0027', 'CR_0157', 'CR_0035', 'CR_0492', 'CR_0395', 'MR_0203', 'CR_0348', 'CR_0325', 'CR_0240', 'CR_0214', 'CR_0024', 'CR_0649', 'CR_0300', 'CR_0637', 'CR_0173', 'CR_0096', 'CR_0536', 'CR_0514', 'CR_0600', 'MR_0170', 'CR_0547', 'CR_0143', 'MR_0275', 'CR_0497', 'CR_0315', 'CR_0216', 'CR_0568', 'CR_0396', 'MR_0023', 'CR_0424', 'CR_0170', 'CR_0131', 'CR_0029', 'MR_0251', 'MR_0080', 'MR_0338', 'MR_0352', 'MR_0101', 'CR_0220', 'CR_0265', 'CR_0599', 'MR_0108', 'CR_0068', 'CR_0041', 'CR_0482', 'CR_0490']\n",
            "['CR_0326', 'MR_0348', 'CR_0148', 'CR_0457', 'CR_0662', 'CR_0436', 'CR_0266', 'CR_0304', 'CR_0111', 'CR_0022', 'CR_0083', 'CR_0003', 'CR_0464', 'CR_0100', 'CR_0020', 'CR_0447', 'CR_0411', 'CR_0353', 'MR_0013', 'MR_0040', 'CR_0146', 'MR_0228', 'CR_0397', 'CR_0101', 'CR_0504', 'CR_0421', 'CR_0392', 'MR_0070', 'CR_0391', 'CR_0283', 'MR_0126', 'MR_0052', 'CR_0615', 'CR_0489', 'CR_0365', 'CR_0219', 'MR_0027', 'CR_0157', 'CR_0035', 'CR_0492', 'CR_0395', 'MR_0203', 'CR_0348', 'CR_0325', 'CR_0240', 'CR_0214', 'CR_0024', 'CR_0649', 'CR_0300', 'CR_0637', 'CR_0173', 'CR_0096', 'CR_0536', 'CR_0514', 'CR_0600', 'MR_0170', 'CR_0547', 'CR_0143', 'MR_0275', 'CR_0497', 'CR_0315', 'CR_0216', 'CR_0568', 'CR_0396', 'MR_0023', 'CR_0424', 'CR_0170', 'CR_0131', 'CR_0029', 'MR_0251', 'MR_0080', 'MR_0338', 'MR_0352', 'MR_0101', 'CR_0220', 'CR_0265', 'CR_0599', 'MR_0108', 'CR_0068', 'CR_0041', 'CR_0482', 'CR_0490', 'CR_0245']\n",
            "['CR_0326', 'MR_0348', 'CR_0148', 'CR_0457', 'CR_0662', 'CR_0436', 'CR_0266', 'CR_0304', 'CR_0111', 'CR_0022', 'CR_0083', 'CR_0003', 'CR_0464', 'CR_0100', 'CR_0020', 'CR_0447', 'CR_0411', 'CR_0353', 'MR_0013', 'MR_0040', 'CR_0146', 'MR_0228', 'CR_0397', 'CR_0101', 'CR_0504', 'CR_0421', 'CR_0392', 'MR_0070', 'CR_0391', 'CR_0283', 'MR_0126', 'MR_0052', 'CR_0615', 'CR_0489', 'CR_0365', 'CR_0219', 'MR_0027', 'CR_0157', 'CR_0035', 'CR_0492', 'CR_0395', 'MR_0203', 'CR_0348', 'CR_0325', 'CR_0240', 'CR_0214', 'CR_0024', 'CR_0649', 'CR_0300', 'CR_0637', 'CR_0173', 'CR_0096', 'CR_0536', 'CR_0514', 'CR_0600', 'MR_0170', 'CR_0547', 'CR_0143', 'MR_0275', 'CR_0497', 'CR_0315', 'CR_0216', 'CR_0568', 'CR_0396', 'MR_0023', 'CR_0424', 'CR_0170', 'CR_0131', 'CR_0029', 'MR_0251', 'MR_0080', 'MR_0338', 'MR_0352', 'MR_0101', 'CR_0220', 'CR_0265', 'CR_0599', 'MR_0108', 'CR_0068', 'CR_0041', 'CR_0482', 'CR_0490', 'CR_0245', 'CR_0318']\n",
            "['CR_0326', 'MR_0348', 'CR_0148', 'CR_0457', 'CR_0662', 'CR_0436', 'CR_0266', 'CR_0304', 'CR_0111', 'CR_0022', 'CR_0083', 'CR_0003', 'CR_0464', 'CR_0100', 'CR_0020', 'CR_0447', 'CR_0411', 'CR_0353', 'MR_0013', 'MR_0040', 'CR_0146', 'MR_0228', 'CR_0397', 'CR_0101', 'CR_0504', 'CR_0421', 'CR_0392', 'MR_0070', 'CR_0391', 'CR_0283', 'MR_0126', 'MR_0052', 'CR_0615', 'CR_0489', 'CR_0365', 'CR_0219', 'MR_0027', 'CR_0157', 'CR_0035', 'CR_0492', 'CR_0395', 'MR_0203', 'CR_0348', 'CR_0325', 'CR_0240', 'CR_0214', 'CR_0024', 'CR_0649', 'CR_0300', 'CR_0637', 'CR_0173', 'CR_0096', 'CR_0536', 'CR_0514', 'CR_0600', 'MR_0170', 'CR_0547', 'CR_0143', 'MR_0275', 'CR_0497', 'CR_0315', 'CR_0216', 'CR_0568', 'CR_0396', 'MR_0023', 'CR_0424', 'CR_0170', 'CR_0131', 'CR_0029', 'MR_0251', 'MR_0080', 'MR_0338', 'MR_0352', 'MR_0101', 'CR_0220', 'CR_0265', 'CR_0599', 'MR_0108', 'CR_0068', 'CR_0041', 'CR_0482', 'CR_0490', 'CR_0245', 'CR_0318', 'MR_0051']\n",
            "['CR_0326', 'MR_0348', 'CR_0148', 'CR_0457', 'CR_0662', 'CR_0436', 'CR_0266', 'CR_0304', 'CR_0111', 'CR_0022', 'CR_0083', 'CR_0003', 'CR_0464', 'CR_0100', 'CR_0020', 'CR_0447', 'CR_0411', 'CR_0353', 'MR_0013', 'MR_0040', 'CR_0146', 'MR_0228', 'CR_0397', 'CR_0101', 'CR_0504', 'CR_0421', 'CR_0392', 'MR_0070', 'CR_0391', 'CR_0283', 'MR_0126', 'MR_0052', 'CR_0615', 'CR_0489', 'CR_0365', 'CR_0219', 'MR_0027', 'CR_0157', 'CR_0035', 'CR_0492', 'CR_0395', 'MR_0203', 'CR_0348', 'CR_0325', 'CR_0240', 'CR_0214', 'CR_0024', 'CR_0649', 'CR_0300', 'CR_0637', 'CR_0173', 'CR_0096', 'CR_0536', 'CR_0514', 'CR_0600', 'MR_0170', 'CR_0547', 'CR_0143', 'MR_0275', 'CR_0497', 'CR_0315', 'CR_0216', 'CR_0568', 'CR_0396', 'MR_0023', 'CR_0424', 'CR_0170', 'CR_0131', 'CR_0029', 'MR_0251', 'MR_0080', 'MR_0338', 'MR_0352', 'MR_0101', 'CR_0220', 'CR_0265', 'CR_0599', 'MR_0108', 'CR_0068', 'CR_0041', 'CR_0482', 'CR_0490', 'CR_0245', 'CR_0318', 'MR_0051', 'CR_0522']\n",
            "['CR_0326', 'MR_0348', 'CR_0148', 'CR_0457', 'CR_0662', 'CR_0436', 'CR_0266', 'CR_0304', 'CR_0111', 'CR_0022', 'CR_0083', 'CR_0003', 'CR_0464', 'CR_0100', 'CR_0020', 'CR_0447', 'CR_0411', 'CR_0353', 'MR_0013', 'MR_0040', 'CR_0146', 'MR_0228', 'CR_0397', 'CR_0101', 'CR_0504', 'CR_0421', 'CR_0392', 'MR_0070', 'CR_0391', 'CR_0283', 'MR_0126', 'MR_0052', 'CR_0615', 'CR_0489', 'CR_0365', 'CR_0219', 'MR_0027', 'CR_0157', 'CR_0035', 'CR_0492', 'CR_0395', 'MR_0203', 'CR_0348', 'CR_0325', 'CR_0240', 'CR_0214', 'CR_0024', 'CR_0649', 'CR_0300', 'CR_0637', 'CR_0173', 'CR_0096', 'CR_0536', 'CR_0514', 'CR_0600', 'MR_0170', 'CR_0547', 'CR_0143', 'MR_0275', 'CR_0497', 'CR_0315', 'CR_0216', 'CR_0568', 'CR_0396', 'MR_0023', 'CR_0424', 'CR_0170', 'CR_0131', 'CR_0029', 'MR_0251', 'MR_0080', 'MR_0338', 'MR_0352', 'MR_0101', 'CR_0220', 'CR_0265', 'CR_0599', 'MR_0108', 'CR_0068', 'CR_0041', 'CR_0482', 'CR_0490', 'CR_0245', 'CR_0318', 'MR_0051', 'CR_0522', 'CR_0047']\n",
            "['CR_0326', 'MR_0348', 'CR_0148', 'CR_0457', 'CR_0662', 'CR_0436', 'CR_0266', 'CR_0304', 'CR_0111', 'CR_0022', 'CR_0083', 'CR_0003', 'CR_0464', 'CR_0100', 'CR_0020', 'CR_0447', 'CR_0411', 'CR_0353', 'MR_0013', 'MR_0040', 'CR_0146', 'MR_0228', 'CR_0397', 'CR_0101', 'CR_0504', 'CR_0421', 'CR_0392', 'MR_0070', 'CR_0391', 'CR_0283', 'MR_0126', 'MR_0052', 'CR_0615', 'CR_0489', 'CR_0365', 'CR_0219', 'MR_0027', 'CR_0157', 'CR_0035', 'CR_0492', 'CR_0395', 'MR_0203', 'CR_0348', 'CR_0325', 'CR_0240', 'CR_0214', 'CR_0024', 'CR_0649', 'CR_0300', 'CR_0637', 'CR_0173', 'CR_0096', 'CR_0536', 'CR_0514', 'CR_0600', 'MR_0170', 'CR_0547', 'CR_0143', 'MR_0275', 'CR_0497', 'CR_0315', 'CR_0216', 'CR_0568', 'CR_0396', 'MR_0023', 'CR_0424', 'CR_0170', 'CR_0131', 'CR_0029', 'MR_0251', 'MR_0080', 'MR_0338', 'MR_0352', 'MR_0101', 'CR_0220', 'CR_0265', 'CR_0599', 'MR_0108', 'CR_0068', 'CR_0041', 'CR_0482', 'CR_0490', 'CR_0245', 'CR_0318', 'MR_0051', 'CR_0522', 'CR_0047', 'MR_0253']\n",
            "['CR_0326', 'MR_0348', 'CR_0148', 'CR_0457', 'CR_0662', 'CR_0436', 'CR_0266', 'CR_0304', 'CR_0111', 'CR_0022', 'CR_0083', 'CR_0003', 'CR_0464', 'CR_0100', 'CR_0020', 'CR_0447', 'CR_0411', 'CR_0353', 'MR_0013', 'MR_0040', 'CR_0146', 'MR_0228', 'CR_0397', 'CR_0101', 'CR_0504', 'CR_0421', 'CR_0392', 'MR_0070', 'CR_0391', 'CR_0283', 'MR_0126', 'MR_0052', 'CR_0615', 'CR_0489', 'CR_0365', 'CR_0219', 'MR_0027', 'CR_0157', 'CR_0035', 'CR_0492', 'CR_0395', 'MR_0203', 'CR_0348', 'CR_0325', 'CR_0240', 'CR_0214', 'CR_0024', 'CR_0649', 'CR_0300', 'CR_0637', 'CR_0173', 'CR_0096', 'CR_0536', 'CR_0514', 'CR_0600', 'MR_0170', 'CR_0547', 'CR_0143', 'MR_0275', 'CR_0497', 'CR_0315', 'CR_0216', 'CR_0568', 'CR_0396', 'MR_0023', 'CR_0424', 'CR_0170', 'CR_0131', 'CR_0029', 'MR_0251', 'MR_0080', 'MR_0338', 'MR_0352', 'MR_0101', 'CR_0220', 'CR_0265', 'CR_0599', 'MR_0108', 'CR_0068', 'CR_0041', 'CR_0482', 'CR_0490', 'CR_0245', 'CR_0318', 'MR_0051', 'CR_0522', 'CR_0047', 'MR_0253', 'MR_0054']\n",
            "['CR_0326', 'MR_0348', 'CR_0148', 'CR_0457', 'CR_0662', 'CR_0436', 'CR_0266', 'CR_0304', 'CR_0111', 'CR_0022', 'CR_0083', 'CR_0003', 'CR_0464', 'CR_0100', 'CR_0020', 'CR_0447', 'CR_0411', 'CR_0353', 'MR_0013', 'MR_0040', 'CR_0146', 'MR_0228', 'CR_0397', 'CR_0101', 'CR_0504', 'CR_0421', 'CR_0392', 'MR_0070', 'CR_0391', 'CR_0283', 'MR_0126', 'MR_0052', 'CR_0615', 'CR_0489', 'CR_0365', 'CR_0219', 'MR_0027', 'CR_0157', 'CR_0035', 'CR_0492', 'CR_0395', 'MR_0203', 'CR_0348', 'CR_0325', 'CR_0240', 'CR_0214', 'CR_0024', 'CR_0649', 'CR_0300', 'CR_0637', 'CR_0173', 'CR_0096', 'CR_0536', 'CR_0514', 'CR_0600', 'MR_0170', 'CR_0547', 'CR_0143', 'MR_0275', 'CR_0497', 'CR_0315', 'CR_0216', 'CR_0568', 'CR_0396', 'MR_0023', 'CR_0424', 'CR_0170', 'CR_0131', 'CR_0029', 'MR_0251', 'MR_0080', 'MR_0338', 'MR_0352', 'MR_0101', 'CR_0220', 'CR_0265', 'CR_0599', 'MR_0108', 'CR_0068', 'CR_0041', 'CR_0482', 'CR_0490', 'CR_0245', 'CR_0318', 'MR_0051', 'CR_0522', 'CR_0047', 'MR_0253', 'MR_0054', 'CR_0317']\n",
            "['CR_0326', 'MR_0348', 'CR_0148', 'CR_0457', 'CR_0662', 'CR_0436', 'CR_0266', 'CR_0304', 'CR_0111', 'CR_0022', 'CR_0083', 'CR_0003', 'CR_0464', 'CR_0100', 'CR_0020', 'CR_0447', 'CR_0411', 'CR_0353', 'MR_0013', 'MR_0040', 'CR_0146', 'MR_0228', 'CR_0397', 'CR_0101', 'CR_0504', 'CR_0421', 'CR_0392', 'MR_0070', 'CR_0391', 'CR_0283', 'MR_0126', 'MR_0052', 'CR_0615', 'CR_0489', 'CR_0365', 'CR_0219', 'MR_0027', 'CR_0157', 'CR_0035', 'CR_0492', 'CR_0395', 'MR_0203', 'CR_0348', 'CR_0325', 'CR_0240', 'CR_0214', 'CR_0024', 'CR_0649', 'CR_0300', 'CR_0637', 'CR_0173', 'CR_0096', 'CR_0536', 'CR_0514', 'CR_0600', 'MR_0170', 'CR_0547', 'CR_0143', 'MR_0275', 'CR_0497', 'CR_0315', 'CR_0216', 'CR_0568', 'CR_0396', 'MR_0023', 'CR_0424', 'CR_0170', 'CR_0131', 'CR_0029', 'MR_0251', 'MR_0080', 'MR_0338', 'MR_0352', 'MR_0101', 'CR_0220', 'CR_0265', 'CR_0599', 'MR_0108', 'CR_0068', 'CR_0041', 'CR_0482', 'CR_0490', 'CR_0245', 'CR_0318', 'MR_0051', 'CR_0522', 'CR_0047', 'MR_0253', 'MR_0054', 'CR_0317', 'CR_0530']\n",
            "['CR_0326', 'MR_0348', 'CR_0148', 'CR_0457', 'CR_0662', 'CR_0436', 'CR_0266', 'CR_0304', 'CR_0111', 'CR_0022', 'CR_0083', 'CR_0003', 'CR_0464', 'CR_0100', 'CR_0020', 'CR_0447', 'CR_0411', 'CR_0353', 'MR_0013', 'MR_0040', 'CR_0146', 'MR_0228', 'CR_0397', 'CR_0101', 'CR_0504', 'CR_0421', 'CR_0392', 'MR_0070', 'CR_0391', 'CR_0283', 'MR_0126', 'MR_0052', 'CR_0615', 'CR_0489', 'CR_0365', 'CR_0219', 'MR_0027', 'CR_0157', 'CR_0035', 'CR_0492', 'CR_0395', 'MR_0203', 'CR_0348', 'CR_0325', 'CR_0240', 'CR_0214', 'CR_0024', 'CR_0649', 'CR_0300', 'CR_0637', 'CR_0173', 'CR_0096', 'CR_0536', 'CR_0514', 'CR_0600', 'MR_0170', 'CR_0547', 'CR_0143', 'MR_0275', 'CR_0497', 'CR_0315', 'CR_0216', 'CR_0568', 'CR_0396', 'MR_0023', 'CR_0424', 'CR_0170', 'CR_0131', 'CR_0029', 'MR_0251', 'MR_0080', 'MR_0338', 'MR_0352', 'MR_0101', 'CR_0220', 'CR_0265', 'CR_0599', 'MR_0108', 'CR_0068', 'CR_0041', 'CR_0482', 'CR_0490', 'CR_0245', 'CR_0318', 'MR_0051', 'CR_0522', 'CR_0047', 'MR_0253', 'MR_0054', 'CR_0317', 'CR_0530', 'CR_0474']\n",
            "['CR_0326', 'MR_0348', 'CR_0148', 'CR_0457', 'CR_0662', 'CR_0436', 'CR_0266', 'CR_0304', 'CR_0111', 'CR_0022', 'CR_0083', 'CR_0003', 'CR_0464', 'CR_0100', 'CR_0020', 'CR_0447', 'CR_0411', 'CR_0353', 'MR_0013', 'MR_0040', 'CR_0146', 'MR_0228', 'CR_0397', 'CR_0101', 'CR_0504', 'CR_0421', 'CR_0392', 'MR_0070', 'CR_0391', 'CR_0283', 'MR_0126', 'MR_0052', 'CR_0615', 'CR_0489', 'CR_0365', 'CR_0219', 'MR_0027', 'CR_0157', 'CR_0035', 'CR_0492', 'CR_0395', 'MR_0203', 'CR_0348', 'CR_0325', 'CR_0240', 'CR_0214', 'CR_0024', 'CR_0649', 'CR_0300', 'CR_0637', 'CR_0173', 'CR_0096', 'CR_0536', 'CR_0514', 'CR_0600', 'MR_0170', 'CR_0547', 'CR_0143', 'MR_0275', 'CR_0497', 'CR_0315', 'CR_0216', 'CR_0568', 'CR_0396', 'MR_0023', 'CR_0424', 'CR_0170', 'CR_0131', 'CR_0029', 'MR_0251', 'MR_0080', 'MR_0338', 'MR_0352', 'MR_0101', 'CR_0220', 'CR_0265', 'CR_0599', 'MR_0108', 'CR_0068', 'CR_0041', 'CR_0482', 'CR_0490', 'CR_0245', 'CR_0318', 'MR_0051', 'CR_0522', 'CR_0047', 'MR_0253', 'MR_0054', 'CR_0317', 'CR_0530', 'CR_0474', 'CR_0114']\n",
            "['CR_0326', 'MR_0348', 'CR_0148', 'CR_0457', 'CR_0662', 'CR_0436', 'CR_0266', 'CR_0304', 'CR_0111', 'CR_0022', 'CR_0083', 'CR_0003', 'CR_0464', 'CR_0100', 'CR_0020', 'CR_0447', 'CR_0411', 'CR_0353', 'MR_0013', 'MR_0040', 'CR_0146', 'MR_0228', 'CR_0397', 'CR_0101', 'CR_0504', 'CR_0421', 'CR_0392', 'MR_0070', 'CR_0391', 'CR_0283', 'MR_0126', 'MR_0052', 'CR_0615', 'CR_0489', 'CR_0365', 'CR_0219', 'MR_0027', 'CR_0157', 'CR_0035', 'CR_0492', 'CR_0395', 'MR_0203', 'CR_0348', 'CR_0325', 'CR_0240', 'CR_0214', 'CR_0024', 'CR_0649', 'CR_0300', 'CR_0637', 'CR_0173', 'CR_0096', 'CR_0536', 'CR_0514', 'CR_0600', 'MR_0170', 'CR_0547', 'CR_0143', 'MR_0275', 'CR_0497', 'CR_0315', 'CR_0216', 'CR_0568', 'CR_0396', 'MR_0023', 'CR_0424', 'CR_0170', 'CR_0131', 'CR_0029', 'MR_0251', 'MR_0080', 'MR_0338', 'MR_0352', 'MR_0101', 'CR_0220', 'CR_0265', 'CR_0599', 'MR_0108', 'CR_0068', 'CR_0041', 'CR_0482', 'CR_0490', 'CR_0245', 'CR_0318', 'MR_0051', 'CR_0522', 'CR_0047', 'MR_0253', 'MR_0054', 'CR_0317', 'CR_0530', 'CR_0474', 'CR_0114', 'CR_0327']\n",
            "['CR_0326', 'MR_0348', 'CR_0148', 'CR_0457', 'CR_0662', 'CR_0436', 'CR_0266', 'CR_0304', 'CR_0111', 'CR_0022', 'CR_0083', 'CR_0003', 'CR_0464', 'CR_0100', 'CR_0020', 'CR_0447', 'CR_0411', 'CR_0353', 'MR_0013', 'MR_0040', 'CR_0146', 'MR_0228', 'CR_0397', 'CR_0101', 'CR_0504', 'CR_0421', 'CR_0392', 'MR_0070', 'CR_0391', 'CR_0283', 'MR_0126', 'MR_0052', 'CR_0615', 'CR_0489', 'CR_0365', 'CR_0219', 'MR_0027', 'CR_0157', 'CR_0035', 'CR_0492', 'CR_0395', 'MR_0203', 'CR_0348', 'CR_0325', 'CR_0240', 'CR_0214', 'CR_0024', 'CR_0649', 'CR_0300', 'CR_0637', 'CR_0173', 'CR_0096', 'CR_0536', 'CR_0514', 'CR_0600', 'MR_0170', 'CR_0547', 'CR_0143', 'MR_0275', 'CR_0497', 'CR_0315', 'CR_0216', 'CR_0568', 'CR_0396', 'MR_0023', 'CR_0424', 'CR_0170', 'CR_0131', 'CR_0029', 'MR_0251', 'MR_0080', 'MR_0338', 'MR_0352', 'MR_0101', 'CR_0220', 'CR_0265', 'CR_0599', 'MR_0108', 'CR_0068', 'CR_0041', 'CR_0482', 'CR_0490', 'CR_0245', 'CR_0318', 'MR_0051', 'CR_0522', 'CR_0047', 'MR_0253', 'MR_0054', 'CR_0317', 'CR_0530', 'CR_0474', 'CR_0114', 'CR_0327', 'CR_0427']\n",
            "['CR_0326', 'MR_0348', 'CR_0148', 'CR_0457', 'CR_0662', 'CR_0436', 'CR_0266', 'CR_0304', 'CR_0111', 'CR_0022', 'CR_0083', 'CR_0003', 'CR_0464', 'CR_0100', 'CR_0020', 'CR_0447', 'CR_0411', 'CR_0353', 'MR_0013', 'MR_0040', 'CR_0146', 'MR_0228', 'CR_0397', 'CR_0101', 'CR_0504', 'CR_0421', 'CR_0392', 'MR_0070', 'CR_0391', 'CR_0283', 'MR_0126', 'MR_0052', 'CR_0615', 'CR_0489', 'CR_0365', 'CR_0219', 'MR_0027', 'CR_0157', 'CR_0035', 'CR_0492', 'CR_0395', 'MR_0203', 'CR_0348', 'CR_0325', 'CR_0240', 'CR_0214', 'CR_0024', 'CR_0649', 'CR_0300', 'CR_0637', 'CR_0173', 'CR_0096', 'CR_0536', 'CR_0514', 'CR_0600', 'MR_0170', 'CR_0547', 'CR_0143', 'MR_0275', 'CR_0497', 'CR_0315', 'CR_0216', 'CR_0568', 'CR_0396', 'MR_0023', 'CR_0424', 'CR_0170', 'CR_0131', 'CR_0029', 'MR_0251', 'MR_0080', 'MR_0338', 'MR_0352', 'MR_0101', 'CR_0220', 'CR_0265', 'CR_0599', 'MR_0108', 'CR_0068', 'CR_0041', 'CR_0482', 'CR_0490', 'CR_0245', 'CR_0318', 'MR_0051', 'CR_0522', 'CR_0047', 'MR_0253', 'MR_0054', 'CR_0317', 'CR_0530', 'CR_0474', 'CR_0114', 'CR_0327', 'CR_0427', 'CR_0052']\n",
            "['CR_0326', 'MR_0348', 'CR_0148', 'CR_0457', 'CR_0662', 'CR_0436', 'CR_0266', 'CR_0304', 'CR_0111', 'CR_0022', 'CR_0083', 'CR_0003', 'CR_0464', 'CR_0100', 'CR_0020', 'CR_0447', 'CR_0411', 'CR_0353', 'MR_0013', 'MR_0040', 'CR_0146', 'MR_0228', 'CR_0397', 'CR_0101', 'CR_0504', 'CR_0421', 'CR_0392', 'MR_0070', 'CR_0391', 'CR_0283', 'MR_0126', 'MR_0052', 'CR_0615', 'CR_0489', 'CR_0365', 'CR_0219', 'MR_0027', 'CR_0157', 'CR_0035', 'CR_0492', 'CR_0395', 'MR_0203', 'CR_0348', 'CR_0325', 'CR_0240', 'CR_0214', 'CR_0024', 'CR_0649', 'CR_0300', 'CR_0637', 'CR_0173', 'CR_0096', 'CR_0536', 'CR_0514', 'CR_0600', 'MR_0170', 'CR_0547', 'CR_0143', 'MR_0275', 'CR_0497', 'CR_0315', 'CR_0216', 'CR_0568', 'CR_0396', 'MR_0023', 'CR_0424', 'CR_0170', 'CR_0131', 'CR_0029', 'MR_0251', 'MR_0080', 'MR_0338', 'MR_0352', 'MR_0101', 'CR_0220', 'CR_0265', 'CR_0599', 'MR_0108', 'CR_0068', 'CR_0041', 'CR_0482', 'CR_0490', 'CR_0245', 'CR_0318', 'MR_0051', 'CR_0522', 'CR_0047', 'MR_0253', 'MR_0054', 'CR_0317', 'CR_0530', 'CR_0474', 'CR_0114', 'CR_0327', 'CR_0427', 'CR_0052', 'CR_0311']\n",
            "['CR_0326', 'MR_0348', 'CR_0148', 'CR_0457', 'CR_0662', 'CR_0436', 'CR_0266', 'CR_0304', 'CR_0111', 'CR_0022', 'CR_0083', 'CR_0003', 'CR_0464', 'CR_0100', 'CR_0020', 'CR_0447', 'CR_0411', 'CR_0353', 'MR_0013', 'MR_0040', 'CR_0146', 'MR_0228', 'CR_0397', 'CR_0101', 'CR_0504', 'CR_0421', 'CR_0392', 'MR_0070', 'CR_0391', 'CR_0283', 'MR_0126', 'MR_0052', 'CR_0615', 'CR_0489', 'CR_0365', 'CR_0219', 'MR_0027', 'CR_0157', 'CR_0035', 'CR_0492', 'CR_0395', 'MR_0203', 'CR_0348', 'CR_0325', 'CR_0240', 'CR_0214', 'CR_0024', 'CR_0649', 'CR_0300', 'CR_0637', 'CR_0173', 'CR_0096', 'CR_0536', 'CR_0514', 'CR_0600', 'MR_0170', 'CR_0547', 'CR_0143', 'MR_0275', 'CR_0497', 'CR_0315', 'CR_0216', 'CR_0568', 'CR_0396', 'MR_0023', 'CR_0424', 'CR_0170', 'CR_0131', 'CR_0029', 'MR_0251', 'MR_0080', 'MR_0338', 'MR_0352', 'MR_0101', 'CR_0220', 'CR_0265', 'CR_0599', 'MR_0108', 'CR_0068', 'CR_0041', 'CR_0482', 'CR_0490', 'CR_0245', 'CR_0318', 'MR_0051', 'CR_0522', 'CR_0047', 'MR_0253', 'MR_0054', 'CR_0317', 'CR_0530', 'CR_0474', 'CR_0114', 'CR_0327', 'CR_0427', 'CR_0052', 'CR_0311', 'CR_0121']\n",
            "['CR_0326', 'MR_0348', 'CR_0148', 'CR_0457', 'CR_0662', 'CR_0436', 'CR_0266', 'CR_0304', 'CR_0111', 'CR_0022', 'CR_0083', 'CR_0003', 'CR_0464', 'CR_0100', 'CR_0020', 'CR_0447', 'CR_0411', 'CR_0353', 'MR_0013', 'MR_0040', 'CR_0146', 'MR_0228', 'CR_0397', 'CR_0101', 'CR_0504', 'CR_0421', 'CR_0392', 'MR_0070', 'CR_0391', 'CR_0283', 'MR_0126', 'MR_0052', 'CR_0615', 'CR_0489', 'CR_0365', 'CR_0219', 'MR_0027', 'CR_0157', 'CR_0035', 'CR_0492', 'CR_0395', 'MR_0203', 'CR_0348', 'CR_0325', 'CR_0240', 'CR_0214', 'CR_0024', 'CR_0649', 'CR_0300', 'CR_0637', 'CR_0173', 'CR_0096', 'CR_0536', 'CR_0514', 'CR_0600', 'MR_0170', 'CR_0547', 'CR_0143', 'MR_0275', 'CR_0497', 'CR_0315', 'CR_0216', 'CR_0568', 'CR_0396', 'MR_0023', 'CR_0424', 'CR_0170', 'CR_0131', 'CR_0029', 'MR_0251', 'MR_0080', 'MR_0338', 'MR_0352', 'MR_0101', 'CR_0220', 'CR_0265', 'CR_0599', 'MR_0108', 'CR_0068', 'CR_0041', 'CR_0482', 'CR_0490', 'CR_0245', 'CR_0318', 'MR_0051', 'CR_0522', 'CR_0047', 'MR_0253', 'MR_0054', 'CR_0317', 'CR_0530', 'CR_0474', 'CR_0114', 'CR_0327', 'CR_0427', 'CR_0052', 'CR_0311', 'CR_0121', 'CR_0145']\n",
            "['CR_0326', 'MR_0348', 'CR_0148', 'CR_0457', 'CR_0662', 'CR_0436', 'CR_0266', 'CR_0304', 'CR_0111', 'CR_0022', 'CR_0083', 'CR_0003', 'CR_0464', 'CR_0100', 'CR_0020', 'CR_0447', 'CR_0411', 'CR_0353', 'MR_0013', 'MR_0040', 'CR_0146', 'MR_0228', 'CR_0397', 'CR_0101', 'CR_0504', 'CR_0421', 'CR_0392', 'MR_0070', 'CR_0391', 'CR_0283', 'MR_0126', 'MR_0052', 'CR_0615', 'CR_0489', 'CR_0365', 'CR_0219', 'MR_0027', 'CR_0157', 'CR_0035', 'CR_0492', 'CR_0395', 'MR_0203', 'CR_0348', 'CR_0325', 'CR_0240', 'CR_0214', 'CR_0024', 'CR_0649', 'CR_0300', 'CR_0637', 'CR_0173', 'CR_0096', 'CR_0536', 'CR_0514', 'CR_0600', 'MR_0170', 'CR_0547', 'CR_0143', 'MR_0275', 'CR_0497', 'CR_0315', 'CR_0216', 'CR_0568', 'CR_0396', 'MR_0023', 'CR_0424', 'CR_0170', 'CR_0131', 'CR_0029', 'MR_0251', 'MR_0080', 'MR_0338', 'MR_0352', 'MR_0101', 'CR_0220', 'CR_0265', 'CR_0599', 'MR_0108', 'CR_0068', 'CR_0041', 'CR_0482', 'CR_0490', 'CR_0245', 'CR_0318', 'MR_0051', 'CR_0522', 'CR_0047', 'MR_0253', 'MR_0054', 'CR_0317', 'CR_0530', 'CR_0474', 'CR_0114', 'CR_0327', 'CR_0427', 'CR_0052', 'CR_0311', 'CR_0121', 'CR_0145', 'MR_0369']\n",
            "['CR_0326', 'MR_0348', 'CR_0148', 'CR_0457', 'CR_0662', 'CR_0436', 'CR_0266', 'CR_0304', 'CR_0111', 'CR_0022', 'CR_0083', 'CR_0003', 'CR_0464', 'CR_0100', 'CR_0020', 'CR_0447', 'CR_0411', 'CR_0353', 'MR_0013', 'MR_0040', 'CR_0146', 'MR_0228', 'CR_0397', 'CR_0101', 'CR_0504', 'CR_0421', 'CR_0392', 'MR_0070', 'CR_0391', 'CR_0283', 'MR_0126', 'MR_0052', 'CR_0615', 'CR_0489', 'CR_0365', 'CR_0219', 'MR_0027', 'CR_0157', 'CR_0035', 'CR_0492', 'CR_0395', 'MR_0203', 'CR_0348', 'CR_0325', 'CR_0240', 'CR_0214', 'CR_0024', 'CR_0649', 'CR_0300', 'CR_0637', 'CR_0173', 'CR_0096', 'CR_0536', 'CR_0514', 'CR_0600', 'MR_0170', 'CR_0547', 'CR_0143', 'MR_0275', 'CR_0497', 'CR_0315', 'CR_0216', 'CR_0568', 'CR_0396', 'MR_0023', 'CR_0424', 'CR_0170', 'CR_0131', 'CR_0029', 'MR_0251', 'MR_0080', 'MR_0338', 'MR_0352', 'MR_0101', 'CR_0220', 'CR_0265', 'CR_0599', 'MR_0108', 'CR_0068', 'CR_0041', 'CR_0482', 'CR_0490', 'CR_0245', 'CR_0318', 'MR_0051', 'CR_0522', 'CR_0047', 'MR_0253', 'MR_0054', 'CR_0317', 'CR_0530', 'CR_0474', 'CR_0114', 'CR_0327', 'CR_0427', 'CR_0052', 'CR_0311', 'CR_0121', 'CR_0145', 'MR_0369', 'CR_0071']\n",
            "['CR_0326', 'MR_0348', 'CR_0148', 'CR_0457', 'CR_0662', 'CR_0436', 'CR_0266', 'CR_0304', 'CR_0111', 'CR_0022', 'CR_0083', 'CR_0003', 'CR_0464', 'CR_0100', 'CR_0020', 'CR_0447', 'CR_0411', 'CR_0353', 'MR_0013', 'MR_0040', 'CR_0146', 'MR_0228', 'CR_0397', 'CR_0101', 'CR_0504', 'CR_0421', 'CR_0392', 'MR_0070', 'CR_0391', 'CR_0283', 'MR_0126', 'MR_0052', 'CR_0615', 'CR_0489', 'CR_0365', 'CR_0219', 'MR_0027', 'CR_0157', 'CR_0035', 'CR_0492', 'CR_0395', 'MR_0203', 'CR_0348', 'CR_0325', 'CR_0240', 'CR_0214', 'CR_0024', 'CR_0649', 'CR_0300', 'CR_0637', 'CR_0173', 'CR_0096', 'CR_0536', 'CR_0514', 'CR_0600', 'MR_0170', 'CR_0547', 'CR_0143', 'MR_0275', 'CR_0497', 'CR_0315', 'CR_0216', 'CR_0568', 'CR_0396', 'MR_0023', 'CR_0424', 'CR_0170', 'CR_0131', 'CR_0029', 'MR_0251', 'MR_0080', 'MR_0338', 'MR_0352', 'MR_0101', 'CR_0220', 'CR_0265', 'CR_0599', 'MR_0108', 'CR_0068', 'CR_0041', 'CR_0482', 'CR_0490', 'CR_0245', 'CR_0318', 'MR_0051', 'CR_0522', 'CR_0047', 'MR_0253', 'MR_0054', 'CR_0317', 'CR_0530', 'CR_0474', 'CR_0114', 'CR_0327', 'CR_0427', 'CR_0052', 'CR_0311', 'CR_0121', 'CR_0145', 'MR_0369', 'CR_0071', 'MR_0003']\n",
            "['CR_0326', 'MR_0348', 'CR_0148', 'CR_0457', 'CR_0662', 'CR_0436', 'CR_0266', 'CR_0304', 'CR_0111', 'CR_0022', 'CR_0083', 'CR_0003', 'CR_0464', 'CR_0100', 'CR_0020', 'CR_0447', 'CR_0411', 'CR_0353', 'MR_0013', 'MR_0040', 'CR_0146', 'MR_0228', 'CR_0397', 'CR_0101', 'CR_0504', 'CR_0421', 'CR_0392', 'MR_0070', 'CR_0391', 'CR_0283', 'MR_0126', 'MR_0052', 'CR_0615', 'CR_0489', 'CR_0365', 'CR_0219', 'MR_0027', 'CR_0157', 'CR_0035', 'CR_0492', 'CR_0395', 'MR_0203', 'CR_0348', 'CR_0325', 'CR_0240', 'CR_0214', 'CR_0024', 'CR_0649', 'CR_0300', 'CR_0637', 'CR_0173', 'CR_0096', 'CR_0536', 'CR_0514', 'CR_0600', 'MR_0170', 'CR_0547', 'CR_0143', 'MR_0275', 'CR_0497', 'CR_0315', 'CR_0216', 'CR_0568', 'CR_0396', 'MR_0023', 'CR_0424', 'CR_0170', 'CR_0131', 'CR_0029', 'MR_0251', 'MR_0080', 'MR_0338', 'MR_0352', 'MR_0101', 'CR_0220', 'CR_0265', 'CR_0599', 'MR_0108', 'CR_0068', 'CR_0041', 'CR_0482', 'CR_0490', 'CR_0245', 'CR_0318', 'MR_0051', 'CR_0522', 'CR_0047', 'MR_0253', 'MR_0054', 'CR_0317', 'CR_0530', 'CR_0474', 'CR_0114', 'CR_0327', 'CR_0427', 'CR_0052', 'CR_0311', 'CR_0121', 'CR_0145', 'MR_0369', 'CR_0071', 'MR_0003', 'CR_0177']\n",
            "['CR_0326', 'MR_0348', 'CR_0148', 'CR_0457', 'CR_0662', 'CR_0436', 'CR_0266', 'CR_0304', 'CR_0111', 'CR_0022', 'CR_0083', 'CR_0003', 'CR_0464', 'CR_0100', 'CR_0020', 'CR_0447', 'CR_0411', 'CR_0353', 'MR_0013', 'MR_0040', 'CR_0146', 'MR_0228', 'CR_0397', 'CR_0101', 'CR_0504', 'CR_0421', 'CR_0392', 'MR_0070', 'CR_0391', 'CR_0283', 'MR_0126', 'MR_0052', 'CR_0615', 'CR_0489', 'CR_0365', 'CR_0219', 'MR_0027', 'CR_0157', 'CR_0035', 'CR_0492', 'CR_0395', 'MR_0203', 'CR_0348', 'CR_0325', 'CR_0240', 'CR_0214', 'CR_0024', 'CR_0649', 'CR_0300', 'CR_0637', 'CR_0173', 'CR_0096', 'CR_0536', 'CR_0514', 'CR_0600', 'MR_0170', 'CR_0547', 'CR_0143', 'MR_0275', 'CR_0497', 'CR_0315', 'CR_0216', 'CR_0568', 'CR_0396', 'MR_0023', 'CR_0424', 'CR_0170', 'CR_0131', 'CR_0029', 'MR_0251', 'MR_0080', 'MR_0338', 'MR_0352', 'MR_0101', 'CR_0220', 'CR_0265', 'CR_0599', 'MR_0108', 'CR_0068', 'CR_0041', 'CR_0482', 'CR_0490', 'CR_0245', 'CR_0318', 'MR_0051', 'CR_0522', 'CR_0047', 'MR_0253', 'MR_0054', 'CR_0317', 'CR_0530', 'CR_0474', 'CR_0114', 'CR_0327', 'CR_0427', 'CR_0052', 'CR_0311', 'CR_0121', 'CR_0145', 'MR_0369', 'CR_0071', 'MR_0003', 'CR_0177', 'CR_0379']\n",
            "['CR_0326', 'MR_0348', 'CR_0148', 'CR_0457', 'CR_0662', 'CR_0436', 'CR_0266', 'CR_0304', 'CR_0111', 'CR_0022', 'CR_0083', 'CR_0003', 'CR_0464', 'CR_0100', 'CR_0020', 'CR_0447', 'CR_0411', 'CR_0353', 'MR_0013', 'MR_0040', 'CR_0146', 'MR_0228', 'CR_0397', 'CR_0101', 'CR_0504', 'CR_0421', 'CR_0392', 'MR_0070', 'CR_0391', 'CR_0283', 'MR_0126', 'MR_0052', 'CR_0615', 'CR_0489', 'CR_0365', 'CR_0219', 'MR_0027', 'CR_0157', 'CR_0035', 'CR_0492', 'CR_0395', 'MR_0203', 'CR_0348', 'CR_0325', 'CR_0240', 'CR_0214', 'CR_0024', 'CR_0649', 'CR_0300', 'CR_0637', 'CR_0173', 'CR_0096', 'CR_0536', 'CR_0514', 'CR_0600', 'MR_0170', 'CR_0547', 'CR_0143', 'MR_0275', 'CR_0497', 'CR_0315', 'CR_0216', 'CR_0568', 'CR_0396', 'MR_0023', 'CR_0424', 'CR_0170', 'CR_0131', 'CR_0029', 'MR_0251', 'MR_0080', 'MR_0338', 'MR_0352', 'MR_0101', 'CR_0220', 'CR_0265', 'CR_0599', 'MR_0108', 'CR_0068', 'CR_0041', 'CR_0482', 'CR_0490', 'CR_0245', 'CR_0318', 'MR_0051', 'CR_0522', 'CR_0047', 'MR_0253', 'MR_0054', 'CR_0317', 'CR_0530', 'CR_0474', 'CR_0114', 'CR_0327', 'CR_0427', 'CR_0052', 'CR_0311', 'CR_0121', 'CR_0145', 'MR_0369', 'CR_0071', 'MR_0003', 'CR_0177', 'CR_0379', 'MR_0005']\n",
            "['CR_0326', 'MR_0348', 'CR_0148', 'CR_0457', 'CR_0662', 'CR_0436', 'CR_0266', 'CR_0304', 'CR_0111', 'CR_0022', 'CR_0083', 'CR_0003', 'CR_0464', 'CR_0100', 'CR_0020', 'CR_0447', 'CR_0411', 'CR_0353', 'MR_0013', 'MR_0040', 'CR_0146', 'MR_0228', 'CR_0397', 'CR_0101', 'CR_0504', 'CR_0421', 'CR_0392', 'MR_0070', 'CR_0391', 'CR_0283', 'MR_0126', 'MR_0052', 'CR_0615', 'CR_0489', 'CR_0365', 'CR_0219', 'MR_0027', 'CR_0157', 'CR_0035', 'CR_0492', 'CR_0395', 'MR_0203', 'CR_0348', 'CR_0325', 'CR_0240', 'CR_0214', 'CR_0024', 'CR_0649', 'CR_0300', 'CR_0637', 'CR_0173', 'CR_0096', 'CR_0536', 'CR_0514', 'CR_0600', 'MR_0170', 'CR_0547', 'CR_0143', 'MR_0275', 'CR_0497', 'CR_0315', 'CR_0216', 'CR_0568', 'CR_0396', 'MR_0023', 'CR_0424', 'CR_0170', 'CR_0131', 'CR_0029', 'MR_0251', 'MR_0080', 'MR_0338', 'MR_0352', 'MR_0101', 'CR_0220', 'CR_0265', 'CR_0599', 'MR_0108', 'CR_0068', 'CR_0041', 'CR_0482', 'CR_0490', 'CR_0245', 'CR_0318', 'MR_0051', 'CR_0522', 'CR_0047', 'MR_0253', 'MR_0054', 'CR_0317', 'CR_0530', 'CR_0474', 'CR_0114', 'CR_0327', 'CR_0427', 'CR_0052', 'CR_0311', 'CR_0121', 'CR_0145', 'MR_0369', 'CR_0071', 'MR_0003', 'CR_0177', 'CR_0379', 'MR_0005', 'CR_0377']\n",
            "['CR_0326', 'MR_0348', 'CR_0148', 'CR_0457', 'CR_0662', 'CR_0436', 'CR_0266', 'CR_0304', 'CR_0111', 'CR_0022', 'CR_0083', 'CR_0003', 'CR_0464', 'CR_0100', 'CR_0020', 'CR_0447', 'CR_0411', 'CR_0353', 'MR_0013', 'MR_0040', 'CR_0146', 'MR_0228', 'CR_0397', 'CR_0101', 'CR_0504', 'CR_0421', 'CR_0392', 'MR_0070', 'CR_0391', 'CR_0283', 'MR_0126', 'MR_0052', 'CR_0615', 'CR_0489', 'CR_0365', 'CR_0219', 'MR_0027', 'CR_0157', 'CR_0035', 'CR_0492', 'CR_0395', 'MR_0203', 'CR_0348', 'CR_0325', 'CR_0240', 'CR_0214', 'CR_0024', 'CR_0649', 'CR_0300', 'CR_0637', 'CR_0173', 'CR_0096', 'CR_0536', 'CR_0514', 'CR_0600', 'MR_0170', 'CR_0547', 'CR_0143', 'MR_0275', 'CR_0497', 'CR_0315', 'CR_0216', 'CR_0568', 'CR_0396', 'MR_0023', 'CR_0424', 'CR_0170', 'CR_0131', 'CR_0029', 'MR_0251', 'MR_0080', 'MR_0338', 'MR_0352', 'MR_0101', 'CR_0220', 'CR_0265', 'CR_0599', 'MR_0108', 'CR_0068', 'CR_0041', 'CR_0482', 'CR_0490', 'CR_0245', 'CR_0318', 'MR_0051', 'CR_0522', 'CR_0047', 'MR_0253', 'MR_0054', 'CR_0317', 'CR_0530', 'CR_0474', 'CR_0114', 'CR_0327', 'CR_0427', 'CR_0052', 'CR_0311', 'CR_0121', 'CR_0145', 'MR_0369', 'CR_0071', 'MR_0003', 'CR_0177', 'CR_0379', 'MR_0005', 'CR_0377', 'CR_0628']\n",
            "['CR_0326', 'MR_0348', 'CR_0148', 'CR_0457', 'CR_0662', 'CR_0436', 'CR_0266', 'CR_0304', 'CR_0111', 'CR_0022', 'CR_0083', 'CR_0003', 'CR_0464', 'CR_0100', 'CR_0020', 'CR_0447', 'CR_0411', 'CR_0353', 'MR_0013', 'MR_0040', 'CR_0146', 'MR_0228', 'CR_0397', 'CR_0101', 'CR_0504', 'CR_0421', 'CR_0392', 'MR_0070', 'CR_0391', 'CR_0283', 'MR_0126', 'MR_0052', 'CR_0615', 'CR_0489', 'CR_0365', 'CR_0219', 'MR_0027', 'CR_0157', 'CR_0035', 'CR_0492', 'CR_0395', 'MR_0203', 'CR_0348', 'CR_0325', 'CR_0240', 'CR_0214', 'CR_0024', 'CR_0649', 'CR_0300', 'CR_0637', 'CR_0173', 'CR_0096', 'CR_0536', 'CR_0514', 'CR_0600', 'MR_0170', 'CR_0547', 'CR_0143', 'MR_0275', 'CR_0497', 'CR_0315', 'CR_0216', 'CR_0568', 'CR_0396', 'MR_0023', 'CR_0424', 'CR_0170', 'CR_0131', 'CR_0029', 'MR_0251', 'MR_0080', 'MR_0338', 'MR_0352', 'MR_0101', 'CR_0220', 'CR_0265', 'CR_0599', 'MR_0108', 'CR_0068', 'CR_0041', 'CR_0482', 'CR_0490', 'CR_0245', 'CR_0318', 'MR_0051', 'CR_0522', 'CR_0047', 'MR_0253', 'MR_0054', 'CR_0317', 'CR_0530', 'CR_0474', 'CR_0114', 'CR_0327', 'CR_0427', 'CR_0052', 'CR_0311', 'CR_0121', 'CR_0145', 'MR_0369', 'CR_0071', 'MR_0003', 'CR_0177', 'CR_0379', 'MR_0005', 'CR_0377', 'CR_0628', 'CR_0382']\n",
            "['CR_0326', 'MR_0348', 'CR_0148', 'CR_0457', 'CR_0662', 'CR_0436', 'CR_0266', 'CR_0304', 'CR_0111', 'CR_0022', 'CR_0083', 'CR_0003', 'CR_0464', 'CR_0100', 'CR_0020', 'CR_0447', 'CR_0411', 'CR_0353', 'MR_0013', 'MR_0040', 'CR_0146', 'MR_0228', 'CR_0397', 'CR_0101', 'CR_0504', 'CR_0421', 'CR_0392', 'MR_0070', 'CR_0391', 'CR_0283', 'MR_0126', 'MR_0052', 'CR_0615', 'CR_0489', 'CR_0365', 'CR_0219', 'MR_0027', 'CR_0157', 'CR_0035', 'CR_0492', 'CR_0395', 'MR_0203', 'CR_0348', 'CR_0325', 'CR_0240', 'CR_0214', 'CR_0024', 'CR_0649', 'CR_0300', 'CR_0637', 'CR_0173', 'CR_0096', 'CR_0536', 'CR_0514', 'CR_0600', 'MR_0170', 'CR_0547', 'CR_0143', 'MR_0275', 'CR_0497', 'CR_0315', 'CR_0216', 'CR_0568', 'CR_0396', 'MR_0023', 'CR_0424', 'CR_0170', 'CR_0131', 'CR_0029', 'MR_0251', 'MR_0080', 'MR_0338', 'MR_0352', 'MR_0101', 'CR_0220', 'CR_0265', 'CR_0599', 'MR_0108', 'CR_0068', 'CR_0041', 'CR_0482', 'CR_0490', 'CR_0245', 'CR_0318', 'MR_0051', 'CR_0522', 'CR_0047', 'MR_0253', 'MR_0054', 'CR_0317', 'CR_0530', 'CR_0474', 'CR_0114', 'CR_0327', 'CR_0427', 'CR_0052', 'CR_0311', 'CR_0121', 'CR_0145', 'MR_0369', 'CR_0071', 'MR_0003', 'CR_0177', 'CR_0379', 'MR_0005', 'CR_0377', 'CR_0628', 'CR_0382', 'CR_0026']\n",
            "['CR_0326', 'MR_0348', 'CR_0148', 'CR_0457', 'CR_0662', 'CR_0436', 'CR_0266', 'CR_0304', 'CR_0111', 'CR_0022', 'CR_0083', 'CR_0003', 'CR_0464', 'CR_0100', 'CR_0020', 'CR_0447', 'CR_0411', 'CR_0353', 'MR_0013', 'MR_0040', 'CR_0146', 'MR_0228', 'CR_0397', 'CR_0101', 'CR_0504', 'CR_0421', 'CR_0392', 'MR_0070', 'CR_0391', 'CR_0283', 'MR_0126', 'MR_0052', 'CR_0615', 'CR_0489', 'CR_0365', 'CR_0219', 'MR_0027', 'CR_0157', 'CR_0035', 'CR_0492', 'CR_0395', 'MR_0203', 'CR_0348', 'CR_0325', 'CR_0240', 'CR_0214', 'CR_0024', 'CR_0649', 'CR_0300', 'CR_0637', 'CR_0173', 'CR_0096', 'CR_0536', 'CR_0514', 'CR_0600', 'MR_0170', 'CR_0547', 'CR_0143', 'MR_0275', 'CR_0497', 'CR_0315', 'CR_0216', 'CR_0568', 'CR_0396', 'MR_0023', 'CR_0424', 'CR_0170', 'CR_0131', 'CR_0029', 'MR_0251', 'MR_0080', 'MR_0338', 'MR_0352', 'MR_0101', 'CR_0220', 'CR_0265', 'CR_0599', 'MR_0108', 'CR_0068', 'CR_0041', 'CR_0482', 'CR_0490', 'CR_0245', 'CR_0318', 'MR_0051', 'CR_0522', 'CR_0047', 'MR_0253', 'MR_0054', 'CR_0317', 'CR_0530', 'CR_0474', 'CR_0114', 'CR_0327', 'CR_0427', 'CR_0052', 'CR_0311', 'CR_0121', 'CR_0145', 'MR_0369', 'CR_0071', 'MR_0003', 'CR_0177', 'CR_0379', 'MR_0005', 'CR_0377', 'CR_0628', 'CR_0382', 'CR_0026', 'CR_0471']\n",
            "['CR_0326', 'MR_0348', 'CR_0148', 'CR_0457', 'CR_0662', 'CR_0436', 'CR_0266', 'CR_0304', 'CR_0111', 'CR_0022', 'CR_0083', 'CR_0003', 'CR_0464', 'CR_0100', 'CR_0020', 'CR_0447', 'CR_0411', 'CR_0353', 'MR_0013', 'MR_0040', 'CR_0146', 'MR_0228', 'CR_0397', 'CR_0101', 'CR_0504', 'CR_0421', 'CR_0392', 'MR_0070', 'CR_0391', 'CR_0283', 'MR_0126', 'MR_0052', 'CR_0615', 'CR_0489', 'CR_0365', 'CR_0219', 'MR_0027', 'CR_0157', 'CR_0035', 'CR_0492', 'CR_0395', 'MR_0203', 'CR_0348', 'CR_0325', 'CR_0240', 'CR_0214', 'CR_0024', 'CR_0649', 'CR_0300', 'CR_0637', 'CR_0173', 'CR_0096', 'CR_0536', 'CR_0514', 'CR_0600', 'MR_0170', 'CR_0547', 'CR_0143', 'MR_0275', 'CR_0497', 'CR_0315', 'CR_0216', 'CR_0568', 'CR_0396', 'MR_0023', 'CR_0424', 'CR_0170', 'CR_0131', 'CR_0029', 'MR_0251', 'MR_0080', 'MR_0338', 'MR_0352', 'MR_0101', 'CR_0220', 'CR_0265', 'CR_0599', 'MR_0108', 'CR_0068', 'CR_0041', 'CR_0482', 'CR_0490', 'CR_0245', 'CR_0318', 'MR_0051', 'CR_0522', 'CR_0047', 'MR_0253', 'MR_0054', 'CR_0317', 'CR_0530', 'CR_0474', 'CR_0114', 'CR_0327', 'CR_0427', 'CR_0052', 'CR_0311', 'CR_0121', 'CR_0145', 'MR_0369', 'CR_0071', 'MR_0003', 'CR_0177', 'CR_0379', 'MR_0005', 'CR_0377', 'CR_0628', 'CR_0382', 'CR_0026', 'CR_0471', 'CR_0034']\n",
            "['CR_0326', 'MR_0348', 'CR_0148', 'CR_0457', 'CR_0662', 'CR_0436', 'CR_0266', 'CR_0304', 'CR_0111', 'CR_0022', 'CR_0083', 'CR_0003', 'CR_0464', 'CR_0100', 'CR_0020', 'CR_0447', 'CR_0411', 'CR_0353', 'MR_0013', 'MR_0040', 'CR_0146', 'MR_0228', 'CR_0397', 'CR_0101', 'CR_0504', 'CR_0421', 'CR_0392', 'MR_0070', 'CR_0391', 'CR_0283', 'MR_0126', 'MR_0052', 'CR_0615', 'CR_0489', 'CR_0365', 'CR_0219', 'MR_0027', 'CR_0157', 'CR_0035', 'CR_0492', 'CR_0395', 'MR_0203', 'CR_0348', 'CR_0325', 'CR_0240', 'CR_0214', 'CR_0024', 'CR_0649', 'CR_0300', 'CR_0637', 'CR_0173', 'CR_0096', 'CR_0536', 'CR_0514', 'CR_0600', 'MR_0170', 'CR_0547', 'CR_0143', 'MR_0275', 'CR_0497', 'CR_0315', 'CR_0216', 'CR_0568', 'CR_0396', 'MR_0023', 'CR_0424', 'CR_0170', 'CR_0131', 'CR_0029', 'MR_0251', 'MR_0080', 'MR_0338', 'MR_0352', 'MR_0101', 'CR_0220', 'CR_0265', 'CR_0599', 'MR_0108', 'CR_0068', 'CR_0041', 'CR_0482', 'CR_0490', 'CR_0245', 'CR_0318', 'MR_0051', 'CR_0522', 'CR_0047', 'MR_0253', 'MR_0054', 'CR_0317', 'CR_0530', 'CR_0474', 'CR_0114', 'CR_0327', 'CR_0427', 'CR_0052', 'CR_0311', 'CR_0121', 'CR_0145', 'MR_0369', 'CR_0071', 'MR_0003', 'CR_0177', 'CR_0379', 'MR_0005', 'CR_0377', 'CR_0628', 'CR_0382', 'CR_0026', 'CR_0471', 'CR_0034', 'CR_0458']\n",
            "['CR_0326', 'MR_0348', 'CR_0148', 'CR_0457', 'CR_0662', 'CR_0436', 'CR_0266', 'CR_0304', 'CR_0111', 'CR_0022', 'CR_0083', 'CR_0003', 'CR_0464', 'CR_0100', 'CR_0020', 'CR_0447', 'CR_0411', 'CR_0353', 'MR_0013', 'MR_0040', 'CR_0146', 'MR_0228', 'CR_0397', 'CR_0101', 'CR_0504', 'CR_0421', 'CR_0392', 'MR_0070', 'CR_0391', 'CR_0283', 'MR_0126', 'MR_0052', 'CR_0615', 'CR_0489', 'CR_0365', 'CR_0219', 'MR_0027', 'CR_0157', 'CR_0035', 'CR_0492', 'CR_0395', 'MR_0203', 'CR_0348', 'CR_0325', 'CR_0240', 'CR_0214', 'CR_0024', 'CR_0649', 'CR_0300', 'CR_0637', 'CR_0173', 'CR_0096', 'CR_0536', 'CR_0514', 'CR_0600', 'MR_0170', 'CR_0547', 'CR_0143', 'MR_0275', 'CR_0497', 'CR_0315', 'CR_0216', 'CR_0568', 'CR_0396', 'MR_0023', 'CR_0424', 'CR_0170', 'CR_0131', 'CR_0029', 'MR_0251', 'MR_0080', 'MR_0338', 'MR_0352', 'MR_0101', 'CR_0220', 'CR_0265', 'CR_0599', 'MR_0108', 'CR_0068', 'CR_0041', 'CR_0482', 'CR_0490', 'CR_0245', 'CR_0318', 'MR_0051', 'CR_0522', 'CR_0047', 'MR_0253', 'MR_0054', 'CR_0317', 'CR_0530', 'CR_0474', 'CR_0114', 'CR_0327', 'CR_0427', 'CR_0052', 'CR_0311', 'CR_0121', 'CR_0145', 'MR_0369', 'CR_0071', 'MR_0003', 'CR_0177', 'CR_0379', 'MR_0005', 'CR_0377', 'CR_0628', 'CR_0382', 'CR_0026', 'CR_0471', 'CR_0034', 'CR_0458', 'CR_0386']\n",
            "['CR_0326', 'MR_0348', 'CR_0148', 'CR_0457', 'CR_0662', 'CR_0436', 'CR_0266', 'CR_0304', 'CR_0111', 'CR_0022', 'CR_0083', 'CR_0003', 'CR_0464', 'CR_0100', 'CR_0020', 'CR_0447', 'CR_0411', 'CR_0353', 'MR_0013', 'MR_0040', 'CR_0146', 'MR_0228', 'CR_0397', 'CR_0101', 'CR_0504', 'CR_0421', 'CR_0392', 'MR_0070', 'CR_0391', 'CR_0283', 'MR_0126', 'MR_0052', 'CR_0615', 'CR_0489', 'CR_0365', 'CR_0219', 'MR_0027', 'CR_0157', 'CR_0035', 'CR_0492', 'CR_0395', 'MR_0203', 'CR_0348', 'CR_0325', 'CR_0240', 'CR_0214', 'CR_0024', 'CR_0649', 'CR_0300', 'CR_0637', 'CR_0173', 'CR_0096', 'CR_0536', 'CR_0514', 'CR_0600', 'MR_0170', 'CR_0547', 'CR_0143', 'MR_0275', 'CR_0497', 'CR_0315', 'CR_0216', 'CR_0568', 'CR_0396', 'MR_0023', 'CR_0424', 'CR_0170', 'CR_0131', 'CR_0029', 'MR_0251', 'MR_0080', 'MR_0338', 'MR_0352', 'MR_0101', 'CR_0220', 'CR_0265', 'CR_0599', 'MR_0108', 'CR_0068', 'CR_0041', 'CR_0482', 'CR_0490', 'CR_0245', 'CR_0318', 'MR_0051', 'CR_0522', 'CR_0047', 'MR_0253', 'MR_0054', 'CR_0317', 'CR_0530', 'CR_0474', 'CR_0114', 'CR_0327', 'CR_0427', 'CR_0052', 'CR_0311', 'CR_0121', 'CR_0145', 'MR_0369', 'CR_0071', 'MR_0003', 'CR_0177', 'CR_0379', 'MR_0005', 'CR_0377', 'CR_0628', 'CR_0382', 'CR_0026', 'CR_0471', 'CR_0034', 'CR_0458', 'CR_0386', 'CR_0434']\n",
            "['CR_0326', 'MR_0348', 'CR_0148', 'CR_0457', 'CR_0662', 'CR_0436', 'CR_0266', 'CR_0304', 'CR_0111', 'CR_0022', 'CR_0083', 'CR_0003', 'CR_0464', 'CR_0100', 'CR_0020', 'CR_0447', 'CR_0411', 'CR_0353', 'MR_0013', 'MR_0040', 'CR_0146', 'MR_0228', 'CR_0397', 'CR_0101', 'CR_0504', 'CR_0421', 'CR_0392', 'MR_0070', 'CR_0391', 'CR_0283', 'MR_0126', 'MR_0052', 'CR_0615', 'CR_0489', 'CR_0365', 'CR_0219', 'MR_0027', 'CR_0157', 'CR_0035', 'CR_0492', 'CR_0395', 'MR_0203', 'CR_0348', 'CR_0325', 'CR_0240', 'CR_0214', 'CR_0024', 'CR_0649', 'CR_0300', 'CR_0637', 'CR_0173', 'CR_0096', 'CR_0536', 'CR_0514', 'CR_0600', 'MR_0170', 'CR_0547', 'CR_0143', 'MR_0275', 'CR_0497', 'CR_0315', 'CR_0216', 'CR_0568', 'CR_0396', 'MR_0023', 'CR_0424', 'CR_0170', 'CR_0131', 'CR_0029', 'MR_0251', 'MR_0080', 'MR_0338', 'MR_0352', 'MR_0101', 'CR_0220', 'CR_0265', 'CR_0599', 'MR_0108', 'CR_0068', 'CR_0041', 'CR_0482', 'CR_0490', 'CR_0245', 'CR_0318', 'MR_0051', 'CR_0522', 'CR_0047', 'MR_0253', 'MR_0054', 'CR_0317', 'CR_0530', 'CR_0474', 'CR_0114', 'CR_0327', 'CR_0427', 'CR_0052', 'CR_0311', 'CR_0121', 'CR_0145', 'MR_0369', 'CR_0071', 'MR_0003', 'CR_0177', 'CR_0379', 'MR_0005', 'CR_0377', 'CR_0628', 'CR_0382', 'CR_0026', 'CR_0471', 'CR_0034', 'CR_0458', 'CR_0386', 'CR_0434', 'CR_0182']\n",
            "['CR_0326', 'MR_0348', 'CR_0148', 'CR_0457', 'CR_0662', 'CR_0436', 'CR_0266', 'CR_0304', 'CR_0111', 'CR_0022', 'CR_0083', 'CR_0003', 'CR_0464', 'CR_0100', 'CR_0020', 'CR_0447', 'CR_0411', 'CR_0353', 'MR_0013', 'MR_0040', 'CR_0146', 'MR_0228', 'CR_0397', 'CR_0101', 'CR_0504', 'CR_0421', 'CR_0392', 'MR_0070', 'CR_0391', 'CR_0283', 'MR_0126', 'MR_0052', 'CR_0615', 'CR_0489', 'CR_0365', 'CR_0219', 'MR_0027', 'CR_0157', 'CR_0035', 'CR_0492', 'CR_0395', 'MR_0203', 'CR_0348', 'CR_0325', 'CR_0240', 'CR_0214', 'CR_0024', 'CR_0649', 'CR_0300', 'CR_0637', 'CR_0173', 'CR_0096', 'CR_0536', 'CR_0514', 'CR_0600', 'MR_0170', 'CR_0547', 'CR_0143', 'MR_0275', 'CR_0497', 'CR_0315', 'CR_0216', 'CR_0568', 'CR_0396', 'MR_0023', 'CR_0424', 'CR_0170', 'CR_0131', 'CR_0029', 'MR_0251', 'MR_0080', 'MR_0338', 'MR_0352', 'MR_0101', 'CR_0220', 'CR_0265', 'CR_0599', 'MR_0108', 'CR_0068', 'CR_0041', 'CR_0482', 'CR_0490', 'CR_0245', 'CR_0318', 'MR_0051', 'CR_0522', 'CR_0047', 'MR_0253', 'MR_0054', 'CR_0317', 'CR_0530', 'CR_0474', 'CR_0114', 'CR_0327', 'CR_0427', 'CR_0052', 'CR_0311', 'CR_0121', 'CR_0145', 'MR_0369', 'CR_0071', 'MR_0003', 'CR_0177', 'CR_0379', 'MR_0005', 'CR_0377', 'CR_0628', 'CR_0382', 'CR_0026', 'CR_0471', 'CR_0034', 'CR_0458', 'CR_0386', 'CR_0434', 'CR_0182', 'CR_0425']\n",
            "['CR_0326', 'MR_0348', 'CR_0148', 'CR_0457', 'CR_0662', 'CR_0436', 'CR_0266', 'CR_0304', 'CR_0111', 'CR_0022', 'CR_0083', 'CR_0003', 'CR_0464', 'CR_0100', 'CR_0020', 'CR_0447', 'CR_0411', 'CR_0353', 'MR_0013', 'MR_0040', 'CR_0146', 'MR_0228', 'CR_0397', 'CR_0101', 'CR_0504', 'CR_0421', 'CR_0392', 'MR_0070', 'CR_0391', 'CR_0283', 'MR_0126', 'MR_0052', 'CR_0615', 'CR_0489', 'CR_0365', 'CR_0219', 'MR_0027', 'CR_0157', 'CR_0035', 'CR_0492', 'CR_0395', 'MR_0203', 'CR_0348', 'CR_0325', 'CR_0240', 'CR_0214', 'CR_0024', 'CR_0649', 'CR_0300', 'CR_0637', 'CR_0173', 'CR_0096', 'CR_0536', 'CR_0514', 'CR_0600', 'MR_0170', 'CR_0547', 'CR_0143', 'MR_0275', 'CR_0497', 'CR_0315', 'CR_0216', 'CR_0568', 'CR_0396', 'MR_0023', 'CR_0424', 'CR_0170', 'CR_0131', 'CR_0029', 'MR_0251', 'MR_0080', 'MR_0338', 'MR_0352', 'MR_0101', 'CR_0220', 'CR_0265', 'CR_0599', 'MR_0108', 'CR_0068', 'CR_0041', 'CR_0482', 'CR_0490', 'CR_0245', 'CR_0318', 'MR_0051', 'CR_0522', 'CR_0047', 'MR_0253', 'MR_0054', 'CR_0317', 'CR_0530', 'CR_0474', 'CR_0114', 'CR_0327', 'CR_0427', 'CR_0052', 'CR_0311', 'CR_0121', 'CR_0145', 'MR_0369', 'CR_0071', 'MR_0003', 'CR_0177', 'CR_0379', 'MR_0005', 'CR_0377', 'CR_0628', 'CR_0382', 'CR_0026', 'CR_0471', 'CR_0034', 'CR_0458', 'CR_0386', 'CR_0434', 'CR_0182', 'CR_0425', 'CR_0236']\n",
            "['CR_0326', 'MR_0348', 'CR_0148', 'CR_0457', 'CR_0662', 'CR_0436', 'CR_0266', 'CR_0304', 'CR_0111', 'CR_0022', 'CR_0083', 'CR_0003', 'CR_0464', 'CR_0100', 'CR_0020', 'CR_0447', 'CR_0411', 'CR_0353', 'MR_0013', 'MR_0040', 'CR_0146', 'MR_0228', 'CR_0397', 'CR_0101', 'CR_0504', 'CR_0421', 'CR_0392', 'MR_0070', 'CR_0391', 'CR_0283', 'MR_0126', 'MR_0052', 'CR_0615', 'CR_0489', 'CR_0365', 'CR_0219', 'MR_0027', 'CR_0157', 'CR_0035', 'CR_0492', 'CR_0395', 'MR_0203', 'CR_0348', 'CR_0325', 'CR_0240', 'CR_0214', 'CR_0024', 'CR_0649', 'CR_0300', 'CR_0637', 'CR_0173', 'CR_0096', 'CR_0536', 'CR_0514', 'CR_0600', 'MR_0170', 'CR_0547', 'CR_0143', 'MR_0275', 'CR_0497', 'CR_0315', 'CR_0216', 'CR_0568', 'CR_0396', 'MR_0023', 'CR_0424', 'CR_0170', 'CR_0131', 'CR_0029', 'MR_0251', 'MR_0080', 'MR_0338', 'MR_0352', 'MR_0101', 'CR_0220', 'CR_0265', 'CR_0599', 'MR_0108', 'CR_0068', 'CR_0041', 'CR_0482', 'CR_0490', 'CR_0245', 'CR_0318', 'MR_0051', 'CR_0522', 'CR_0047', 'MR_0253', 'MR_0054', 'CR_0317', 'CR_0530', 'CR_0474', 'CR_0114', 'CR_0327', 'CR_0427', 'CR_0052', 'CR_0311', 'CR_0121', 'CR_0145', 'MR_0369', 'CR_0071', 'MR_0003', 'CR_0177', 'CR_0379', 'MR_0005', 'CR_0377', 'CR_0628', 'CR_0382', 'CR_0026', 'CR_0471', 'CR_0034', 'CR_0458', 'CR_0386', 'CR_0434', 'CR_0182', 'CR_0425', 'CR_0236', 'CR_0503']\n",
            "['CR_0326', 'MR_0348', 'CR_0148', 'CR_0457', 'CR_0662', 'CR_0436', 'CR_0266', 'CR_0304', 'CR_0111', 'CR_0022', 'CR_0083', 'CR_0003', 'CR_0464', 'CR_0100', 'CR_0020', 'CR_0447', 'CR_0411', 'CR_0353', 'MR_0013', 'MR_0040', 'CR_0146', 'MR_0228', 'CR_0397', 'CR_0101', 'CR_0504', 'CR_0421', 'CR_0392', 'MR_0070', 'CR_0391', 'CR_0283', 'MR_0126', 'MR_0052', 'CR_0615', 'CR_0489', 'CR_0365', 'CR_0219', 'MR_0027', 'CR_0157', 'CR_0035', 'CR_0492', 'CR_0395', 'MR_0203', 'CR_0348', 'CR_0325', 'CR_0240', 'CR_0214', 'CR_0024', 'CR_0649', 'CR_0300', 'CR_0637', 'CR_0173', 'CR_0096', 'CR_0536', 'CR_0514', 'CR_0600', 'MR_0170', 'CR_0547', 'CR_0143', 'MR_0275', 'CR_0497', 'CR_0315', 'CR_0216', 'CR_0568', 'CR_0396', 'MR_0023', 'CR_0424', 'CR_0170', 'CR_0131', 'CR_0029', 'MR_0251', 'MR_0080', 'MR_0338', 'MR_0352', 'MR_0101', 'CR_0220', 'CR_0265', 'CR_0599', 'MR_0108', 'CR_0068', 'CR_0041', 'CR_0482', 'CR_0490', 'CR_0245', 'CR_0318', 'MR_0051', 'CR_0522', 'CR_0047', 'MR_0253', 'MR_0054', 'CR_0317', 'CR_0530', 'CR_0474', 'CR_0114', 'CR_0327', 'CR_0427', 'CR_0052', 'CR_0311', 'CR_0121', 'CR_0145', 'MR_0369', 'CR_0071', 'MR_0003', 'CR_0177', 'CR_0379', 'MR_0005', 'CR_0377', 'CR_0628', 'CR_0382', 'CR_0026', 'CR_0471', 'CR_0034', 'CR_0458', 'CR_0386', 'CR_0434', 'CR_0182', 'CR_0425', 'CR_0236', 'CR_0503', 'CR_0208']\n",
            "['CR_0326', 'MR_0348', 'CR_0148', 'CR_0457', 'CR_0662', 'CR_0436', 'CR_0266', 'CR_0304', 'CR_0111', 'CR_0022', 'CR_0083', 'CR_0003', 'CR_0464', 'CR_0100', 'CR_0020', 'CR_0447', 'CR_0411', 'CR_0353', 'MR_0013', 'MR_0040', 'CR_0146', 'MR_0228', 'CR_0397', 'CR_0101', 'CR_0504', 'CR_0421', 'CR_0392', 'MR_0070', 'CR_0391', 'CR_0283', 'MR_0126', 'MR_0052', 'CR_0615', 'CR_0489', 'CR_0365', 'CR_0219', 'MR_0027', 'CR_0157', 'CR_0035', 'CR_0492', 'CR_0395', 'MR_0203', 'CR_0348', 'CR_0325', 'CR_0240', 'CR_0214', 'CR_0024', 'CR_0649', 'CR_0300', 'CR_0637', 'CR_0173', 'CR_0096', 'CR_0536', 'CR_0514', 'CR_0600', 'MR_0170', 'CR_0547', 'CR_0143', 'MR_0275', 'CR_0497', 'CR_0315', 'CR_0216', 'CR_0568', 'CR_0396', 'MR_0023', 'CR_0424', 'CR_0170', 'CR_0131', 'CR_0029', 'MR_0251', 'MR_0080', 'MR_0338', 'MR_0352', 'MR_0101', 'CR_0220', 'CR_0265', 'CR_0599', 'MR_0108', 'CR_0068', 'CR_0041', 'CR_0482', 'CR_0490', 'CR_0245', 'CR_0318', 'MR_0051', 'CR_0522', 'CR_0047', 'MR_0253', 'MR_0054', 'CR_0317', 'CR_0530', 'CR_0474', 'CR_0114', 'CR_0327', 'CR_0427', 'CR_0052', 'CR_0311', 'CR_0121', 'CR_0145', 'MR_0369', 'CR_0071', 'MR_0003', 'CR_0177', 'CR_0379', 'MR_0005', 'CR_0377', 'CR_0628', 'CR_0382', 'CR_0026', 'CR_0471', 'CR_0034', 'CR_0458', 'CR_0386', 'CR_0434', 'CR_0182', 'CR_0425', 'CR_0236', 'CR_0503', 'CR_0208', 'CR_0473']\n",
            "['CR_0326', 'MR_0348', 'CR_0148', 'CR_0457', 'CR_0662', 'CR_0436', 'CR_0266', 'CR_0304', 'CR_0111', 'CR_0022', 'CR_0083', 'CR_0003', 'CR_0464', 'CR_0100', 'CR_0020', 'CR_0447', 'CR_0411', 'CR_0353', 'MR_0013', 'MR_0040', 'CR_0146', 'MR_0228', 'CR_0397', 'CR_0101', 'CR_0504', 'CR_0421', 'CR_0392', 'MR_0070', 'CR_0391', 'CR_0283', 'MR_0126', 'MR_0052', 'CR_0615', 'CR_0489', 'CR_0365', 'CR_0219', 'MR_0027', 'CR_0157', 'CR_0035', 'CR_0492', 'CR_0395', 'MR_0203', 'CR_0348', 'CR_0325', 'CR_0240', 'CR_0214', 'CR_0024', 'CR_0649', 'CR_0300', 'CR_0637', 'CR_0173', 'CR_0096', 'CR_0536', 'CR_0514', 'CR_0600', 'MR_0170', 'CR_0547', 'CR_0143', 'MR_0275', 'CR_0497', 'CR_0315', 'CR_0216', 'CR_0568', 'CR_0396', 'MR_0023', 'CR_0424', 'CR_0170', 'CR_0131', 'CR_0029', 'MR_0251', 'MR_0080', 'MR_0338', 'MR_0352', 'MR_0101', 'CR_0220', 'CR_0265', 'CR_0599', 'MR_0108', 'CR_0068', 'CR_0041', 'CR_0482', 'CR_0490', 'CR_0245', 'CR_0318', 'MR_0051', 'CR_0522', 'CR_0047', 'MR_0253', 'MR_0054', 'CR_0317', 'CR_0530', 'CR_0474', 'CR_0114', 'CR_0327', 'CR_0427', 'CR_0052', 'CR_0311', 'CR_0121', 'CR_0145', 'MR_0369', 'CR_0071', 'MR_0003', 'CR_0177', 'CR_0379', 'MR_0005', 'CR_0377', 'CR_0628', 'CR_0382', 'CR_0026', 'CR_0471', 'CR_0034', 'CR_0458', 'CR_0386', 'CR_0434', 'CR_0182', 'CR_0425', 'CR_0236', 'CR_0503', 'CR_0208', 'CR_0473', 'CR_0134']\n",
            "['CR_0326', 'MR_0348', 'CR_0148', 'CR_0457', 'CR_0662', 'CR_0436', 'CR_0266', 'CR_0304', 'CR_0111', 'CR_0022', 'CR_0083', 'CR_0003', 'CR_0464', 'CR_0100', 'CR_0020', 'CR_0447', 'CR_0411', 'CR_0353', 'MR_0013', 'MR_0040', 'CR_0146', 'MR_0228', 'CR_0397', 'CR_0101', 'CR_0504', 'CR_0421', 'CR_0392', 'MR_0070', 'CR_0391', 'CR_0283', 'MR_0126', 'MR_0052', 'CR_0615', 'CR_0489', 'CR_0365', 'CR_0219', 'MR_0027', 'CR_0157', 'CR_0035', 'CR_0492', 'CR_0395', 'MR_0203', 'CR_0348', 'CR_0325', 'CR_0240', 'CR_0214', 'CR_0024', 'CR_0649', 'CR_0300', 'CR_0637', 'CR_0173', 'CR_0096', 'CR_0536', 'CR_0514', 'CR_0600', 'MR_0170', 'CR_0547', 'CR_0143', 'MR_0275', 'CR_0497', 'CR_0315', 'CR_0216', 'CR_0568', 'CR_0396', 'MR_0023', 'CR_0424', 'CR_0170', 'CR_0131', 'CR_0029', 'MR_0251', 'MR_0080', 'MR_0338', 'MR_0352', 'MR_0101', 'CR_0220', 'CR_0265', 'CR_0599', 'MR_0108', 'CR_0068', 'CR_0041', 'CR_0482', 'CR_0490', 'CR_0245', 'CR_0318', 'MR_0051', 'CR_0522', 'CR_0047', 'MR_0253', 'MR_0054', 'CR_0317', 'CR_0530', 'CR_0474', 'CR_0114', 'CR_0327', 'CR_0427', 'CR_0052', 'CR_0311', 'CR_0121', 'CR_0145', 'MR_0369', 'CR_0071', 'MR_0003', 'CR_0177', 'CR_0379', 'MR_0005', 'CR_0377', 'CR_0628', 'CR_0382', 'CR_0026', 'CR_0471', 'CR_0034', 'CR_0458', 'CR_0386', 'CR_0434', 'CR_0182', 'CR_0425', 'CR_0236', 'CR_0503', 'CR_0208', 'CR_0473', 'CR_0134', 'CR_0001']\n",
            "['CR_0326', 'MR_0348', 'CR_0148', 'CR_0457', 'CR_0662', 'CR_0436', 'CR_0266', 'CR_0304', 'CR_0111', 'CR_0022', 'CR_0083', 'CR_0003', 'CR_0464', 'CR_0100', 'CR_0020', 'CR_0447', 'CR_0411', 'CR_0353', 'MR_0013', 'MR_0040', 'CR_0146', 'MR_0228', 'CR_0397', 'CR_0101', 'CR_0504', 'CR_0421', 'CR_0392', 'MR_0070', 'CR_0391', 'CR_0283', 'MR_0126', 'MR_0052', 'CR_0615', 'CR_0489', 'CR_0365', 'CR_0219', 'MR_0027', 'CR_0157', 'CR_0035', 'CR_0492', 'CR_0395', 'MR_0203', 'CR_0348', 'CR_0325', 'CR_0240', 'CR_0214', 'CR_0024', 'CR_0649', 'CR_0300', 'CR_0637', 'CR_0173', 'CR_0096', 'CR_0536', 'CR_0514', 'CR_0600', 'MR_0170', 'CR_0547', 'CR_0143', 'MR_0275', 'CR_0497', 'CR_0315', 'CR_0216', 'CR_0568', 'CR_0396', 'MR_0023', 'CR_0424', 'CR_0170', 'CR_0131', 'CR_0029', 'MR_0251', 'MR_0080', 'MR_0338', 'MR_0352', 'MR_0101', 'CR_0220', 'CR_0265', 'CR_0599', 'MR_0108', 'CR_0068', 'CR_0041', 'CR_0482', 'CR_0490', 'CR_0245', 'CR_0318', 'MR_0051', 'CR_0522', 'CR_0047', 'MR_0253', 'MR_0054', 'CR_0317', 'CR_0530', 'CR_0474', 'CR_0114', 'CR_0327', 'CR_0427', 'CR_0052', 'CR_0311', 'CR_0121', 'CR_0145', 'MR_0369', 'CR_0071', 'MR_0003', 'CR_0177', 'CR_0379', 'MR_0005', 'CR_0377', 'CR_0628', 'CR_0382', 'CR_0026', 'CR_0471', 'CR_0034', 'CR_0458', 'CR_0386', 'CR_0434', 'CR_0182', 'CR_0425', 'CR_0236', 'CR_0503', 'CR_0208', 'CR_0473', 'CR_0134', 'CR_0001', 'MR_0057']\n",
            "['CR_0326', 'MR_0348', 'CR_0148', 'CR_0457', 'CR_0662', 'CR_0436', 'CR_0266', 'CR_0304', 'CR_0111', 'CR_0022', 'CR_0083', 'CR_0003', 'CR_0464', 'CR_0100', 'CR_0020', 'CR_0447', 'CR_0411', 'CR_0353', 'MR_0013', 'MR_0040', 'CR_0146', 'MR_0228', 'CR_0397', 'CR_0101', 'CR_0504', 'CR_0421', 'CR_0392', 'MR_0070', 'CR_0391', 'CR_0283', 'MR_0126', 'MR_0052', 'CR_0615', 'CR_0489', 'CR_0365', 'CR_0219', 'MR_0027', 'CR_0157', 'CR_0035', 'CR_0492', 'CR_0395', 'MR_0203', 'CR_0348', 'CR_0325', 'CR_0240', 'CR_0214', 'CR_0024', 'CR_0649', 'CR_0300', 'CR_0637', 'CR_0173', 'CR_0096', 'CR_0536', 'CR_0514', 'CR_0600', 'MR_0170', 'CR_0547', 'CR_0143', 'MR_0275', 'CR_0497', 'CR_0315', 'CR_0216', 'CR_0568', 'CR_0396', 'MR_0023', 'CR_0424', 'CR_0170', 'CR_0131', 'CR_0029', 'MR_0251', 'MR_0080', 'MR_0338', 'MR_0352', 'MR_0101', 'CR_0220', 'CR_0265', 'CR_0599', 'MR_0108', 'CR_0068', 'CR_0041', 'CR_0482', 'CR_0490', 'CR_0245', 'CR_0318', 'MR_0051', 'CR_0522', 'CR_0047', 'MR_0253', 'MR_0054', 'CR_0317', 'CR_0530', 'CR_0474', 'CR_0114', 'CR_0327', 'CR_0427', 'CR_0052', 'CR_0311', 'CR_0121', 'CR_0145', 'MR_0369', 'CR_0071', 'MR_0003', 'CR_0177', 'CR_0379', 'MR_0005', 'CR_0377', 'CR_0628', 'CR_0382', 'CR_0026', 'CR_0471', 'CR_0034', 'CR_0458', 'CR_0386', 'CR_0434', 'CR_0182', 'CR_0425', 'CR_0236', 'CR_0503', 'CR_0208', 'CR_0473', 'CR_0134', 'CR_0001', 'MR_0057', 'MR_0095']\n",
            "['CR_0326', 'MR_0348', 'CR_0148', 'CR_0457', 'CR_0662', 'CR_0436', 'CR_0266', 'CR_0304', 'CR_0111', 'CR_0022', 'CR_0083', 'CR_0003', 'CR_0464', 'CR_0100', 'CR_0020', 'CR_0447', 'CR_0411', 'CR_0353', 'MR_0013', 'MR_0040', 'CR_0146', 'MR_0228', 'CR_0397', 'CR_0101', 'CR_0504', 'CR_0421', 'CR_0392', 'MR_0070', 'CR_0391', 'CR_0283', 'MR_0126', 'MR_0052', 'CR_0615', 'CR_0489', 'CR_0365', 'CR_0219', 'MR_0027', 'CR_0157', 'CR_0035', 'CR_0492', 'CR_0395', 'MR_0203', 'CR_0348', 'CR_0325', 'CR_0240', 'CR_0214', 'CR_0024', 'CR_0649', 'CR_0300', 'CR_0637', 'CR_0173', 'CR_0096', 'CR_0536', 'CR_0514', 'CR_0600', 'MR_0170', 'CR_0547', 'CR_0143', 'MR_0275', 'CR_0497', 'CR_0315', 'CR_0216', 'CR_0568', 'CR_0396', 'MR_0023', 'CR_0424', 'CR_0170', 'CR_0131', 'CR_0029', 'MR_0251', 'MR_0080', 'MR_0338', 'MR_0352', 'MR_0101', 'CR_0220', 'CR_0265', 'CR_0599', 'MR_0108', 'CR_0068', 'CR_0041', 'CR_0482', 'CR_0490', 'CR_0245', 'CR_0318', 'MR_0051', 'CR_0522', 'CR_0047', 'MR_0253', 'MR_0054', 'CR_0317', 'CR_0530', 'CR_0474', 'CR_0114', 'CR_0327', 'CR_0427', 'CR_0052', 'CR_0311', 'CR_0121', 'CR_0145', 'MR_0369', 'CR_0071', 'MR_0003', 'CR_0177', 'CR_0379', 'MR_0005', 'CR_0377', 'CR_0628', 'CR_0382', 'CR_0026', 'CR_0471', 'CR_0034', 'CR_0458', 'CR_0386', 'CR_0434', 'CR_0182', 'CR_0425', 'CR_0236', 'CR_0503', 'CR_0208', 'CR_0473', 'CR_0134', 'CR_0001', 'MR_0057', 'MR_0095', 'CR_0211']\n",
            "['CR_0326', 'MR_0348', 'CR_0148', 'CR_0457', 'CR_0662', 'CR_0436', 'CR_0266', 'CR_0304', 'CR_0111', 'CR_0022', 'CR_0083', 'CR_0003', 'CR_0464', 'CR_0100', 'CR_0020', 'CR_0447', 'CR_0411', 'CR_0353', 'MR_0013', 'MR_0040', 'CR_0146', 'MR_0228', 'CR_0397', 'CR_0101', 'CR_0504', 'CR_0421', 'CR_0392', 'MR_0070', 'CR_0391', 'CR_0283', 'MR_0126', 'MR_0052', 'CR_0615', 'CR_0489', 'CR_0365', 'CR_0219', 'MR_0027', 'CR_0157', 'CR_0035', 'CR_0492', 'CR_0395', 'MR_0203', 'CR_0348', 'CR_0325', 'CR_0240', 'CR_0214', 'CR_0024', 'CR_0649', 'CR_0300', 'CR_0637', 'CR_0173', 'CR_0096', 'CR_0536', 'CR_0514', 'CR_0600', 'MR_0170', 'CR_0547', 'CR_0143', 'MR_0275', 'CR_0497', 'CR_0315', 'CR_0216', 'CR_0568', 'CR_0396', 'MR_0023', 'CR_0424', 'CR_0170', 'CR_0131', 'CR_0029', 'MR_0251', 'MR_0080', 'MR_0338', 'MR_0352', 'MR_0101', 'CR_0220', 'CR_0265', 'CR_0599', 'MR_0108', 'CR_0068', 'CR_0041', 'CR_0482', 'CR_0490', 'CR_0245', 'CR_0318', 'MR_0051', 'CR_0522', 'CR_0047', 'MR_0253', 'MR_0054', 'CR_0317', 'CR_0530', 'CR_0474', 'CR_0114', 'CR_0327', 'CR_0427', 'CR_0052', 'CR_0311', 'CR_0121', 'CR_0145', 'MR_0369', 'CR_0071', 'MR_0003', 'CR_0177', 'CR_0379', 'MR_0005', 'CR_0377', 'CR_0628', 'CR_0382', 'CR_0026', 'CR_0471', 'CR_0034', 'CR_0458', 'CR_0386', 'CR_0434', 'CR_0182', 'CR_0425', 'CR_0236', 'CR_0503', 'CR_0208', 'CR_0473', 'CR_0134', 'CR_0001', 'MR_0057', 'MR_0095', 'CR_0211', 'CR_0030']\n",
            "['CR_0326', 'MR_0348', 'CR_0148', 'CR_0457', 'CR_0662', 'CR_0436', 'CR_0266', 'CR_0304', 'CR_0111', 'CR_0022', 'CR_0083', 'CR_0003', 'CR_0464', 'CR_0100', 'CR_0020', 'CR_0447', 'CR_0411', 'CR_0353', 'MR_0013', 'MR_0040', 'CR_0146', 'MR_0228', 'CR_0397', 'CR_0101', 'CR_0504', 'CR_0421', 'CR_0392', 'MR_0070', 'CR_0391', 'CR_0283', 'MR_0126', 'MR_0052', 'CR_0615', 'CR_0489', 'CR_0365', 'CR_0219', 'MR_0027', 'CR_0157', 'CR_0035', 'CR_0492', 'CR_0395', 'MR_0203', 'CR_0348', 'CR_0325', 'CR_0240', 'CR_0214', 'CR_0024', 'CR_0649', 'CR_0300', 'CR_0637', 'CR_0173', 'CR_0096', 'CR_0536', 'CR_0514', 'CR_0600', 'MR_0170', 'CR_0547', 'CR_0143', 'MR_0275', 'CR_0497', 'CR_0315', 'CR_0216', 'CR_0568', 'CR_0396', 'MR_0023', 'CR_0424', 'CR_0170', 'CR_0131', 'CR_0029', 'MR_0251', 'MR_0080', 'MR_0338', 'MR_0352', 'MR_0101', 'CR_0220', 'CR_0265', 'CR_0599', 'MR_0108', 'CR_0068', 'CR_0041', 'CR_0482', 'CR_0490', 'CR_0245', 'CR_0318', 'MR_0051', 'CR_0522', 'CR_0047', 'MR_0253', 'MR_0054', 'CR_0317', 'CR_0530', 'CR_0474', 'CR_0114', 'CR_0327', 'CR_0427', 'CR_0052', 'CR_0311', 'CR_0121', 'CR_0145', 'MR_0369', 'CR_0071', 'MR_0003', 'CR_0177', 'CR_0379', 'MR_0005', 'CR_0377', 'CR_0628', 'CR_0382', 'CR_0026', 'CR_0471', 'CR_0034', 'CR_0458', 'CR_0386', 'CR_0434', 'CR_0182', 'CR_0425', 'CR_0236', 'CR_0503', 'CR_0208', 'CR_0473', 'CR_0134', 'CR_0001', 'MR_0057', 'MR_0095', 'CR_0211', 'CR_0030', 'CR_0042']\n",
            "['CR_0326', 'MR_0348', 'CR_0148', 'CR_0457', 'CR_0662', 'CR_0436', 'CR_0266', 'CR_0304', 'CR_0111', 'CR_0022', 'CR_0083', 'CR_0003', 'CR_0464', 'CR_0100', 'CR_0020', 'CR_0447', 'CR_0411', 'CR_0353', 'MR_0013', 'MR_0040', 'CR_0146', 'MR_0228', 'CR_0397', 'CR_0101', 'CR_0504', 'CR_0421', 'CR_0392', 'MR_0070', 'CR_0391', 'CR_0283', 'MR_0126', 'MR_0052', 'CR_0615', 'CR_0489', 'CR_0365', 'CR_0219', 'MR_0027', 'CR_0157', 'CR_0035', 'CR_0492', 'CR_0395', 'MR_0203', 'CR_0348', 'CR_0325', 'CR_0240', 'CR_0214', 'CR_0024', 'CR_0649', 'CR_0300', 'CR_0637', 'CR_0173', 'CR_0096', 'CR_0536', 'CR_0514', 'CR_0600', 'MR_0170', 'CR_0547', 'CR_0143', 'MR_0275', 'CR_0497', 'CR_0315', 'CR_0216', 'CR_0568', 'CR_0396', 'MR_0023', 'CR_0424', 'CR_0170', 'CR_0131', 'CR_0029', 'MR_0251', 'MR_0080', 'MR_0338', 'MR_0352', 'MR_0101', 'CR_0220', 'CR_0265', 'CR_0599', 'MR_0108', 'CR_0068', 'CR_0041', 'CR_0482', 'CR_0490', 'CR_0245', 'CR_0318', 'MR_0051', 'CR_0522', 'CR_0047', 'MR_0253', 'MR_0054', 'CR_0317', 'CR_0530', 'CR_0474', 'CR_0114', 'CR_0327', 'CR_0427', 'CR_0052', 'CR_0311', 'CR_0121', 'CR_0145', 'MR_0369', 'CR_0071', 'MR_0003', 'CR_0177', 'CR_0379', 'MR_0005', 'CR_0377', 'CR_0628', 'CR_0382', 'CR_0026', 'CR_0471', 'CR_0034', 'CR_0458', 'CR_0386', 'CR_0434', 'CR_0182', 'CR_0425', 'CR_0236', 'CR_0503', 'CR_0208', 'CR_0473', 'CR_0134', 'CR_0001', 'MR_0057', 'MR_0095', 'CR_0211', 'CR_0030', 'CR_0042', 'CR_0203']\n",
            "['CR_0326', 'MR_0348', 'CR_0148', 'CR_0457', 'CR_0662', 'CR_0436', 'CR_0266', 'CR_0304', 'CR_0111', 'CR_0022', 'CR_0083', 'CR_0003', 'CR_0464', 'CR_0100', 'CR_0020', 'CR_0447', 'CR_0411', 'CR_0353', 'MR_0013', 'MR_0040', 'CR_0146', 'MR_0228', 'CR_0397', 'CR_0101', 'CR_0504', 'CR_0421', 'CR_0392', 'MR_0070', 'CR_0391', 'CR_0283', 'MR_0126', 'MR_0052', 'CR_0615', 'CR_0489', 'CR_0365', 'CR_0219', 'MR_0027', 'CR_0157', 'CR_0035', 'CR_0492', 'CR_0395', 'MR_0203', 'CR_0348', 'CR_0325', 'CR_0240', 'CR_0214', 'CR_0024', 'CR_0649', 'CR_0300', 'CR_0637', 'CR_0173', 'CR_0096', 'CR_0536', 'CR_0514', 'CR_0600', 'MR_0170', 'CR_0547', 'CR_0143', 'MR_0275', 'CR_0497', 'CR_0315', 'CR_0216', 'CR_0568', 'CR_0396', 'MR_0023', 'CR_0424', 'CR_0170', 'CR_0131', 'CR_0029', 'MR_0251', 'MR_0080', 'MR_0338', 'MR_0352', 'MR_0101', 'CR_0220', 'CR_0265', 'CR_0599', 'MR_0108', 'CR_0068', 'CR_0041', 'CR_0482', 'CR_0490', 'CR_0245', 'CR_0318', 'MR_0051', 'CR_0522', 'CR_0047', 'MR_0253', 'MR_0054', 'CR_0317', 'CR_0530', 'CR_0474', 'CR_0114', 'CR_0327', 'CR_0427', 'CR_0052', 'CR_0311', 'CR_0121', 'CR_0145', 'MR_0369', 'CR_0071', 'MR_0003', 'CR_0177', 'CR_0379', 'MR_0005', 'CR_0377', 'CR_0628', 'CR_0382', 'CR_0026', 'CR_0471', 'CR_0034', 'CR_0458', 'CR_0386', 'CR_0434', 'CR_0182', 'CR_0425', 'CR_0236', 'CR_0503', 'CR_0208', 'CR_0473', 'CR_0134', 'CR_0001', 'MR_0057', 'MR_0095', 'CR_0211', 'CR_0030', 'CR_0042', 'CR_0203', 'MR_0383']\n",
            "['CR_0326', 'MR_0348', 'CR_0148', 'CR_0457', 'CR_0662', 'CR_0436', 'CR_0266', 'CR_0304', 'CR_0111', 'CR_0022', 'CR_0083', 'CR_0003', 'CR_0464', 'CR_0100', 'CR_0020', 'CR_0447', 'CR_0411', 'CR_0353', 'MR_0013', 'MR_0040', 'CR_0146', 'MR_0228', 'CR_0397', 'CR_0101', 'CR_0504', 'CR_0421', 'CR_0392', 'MR_0070', 'CR_0391', 'CR_0283', 'MR_0126', 'MR_0052', 'CR_0615', 'CR_0489', 'CR_0365', 'CR_0219', 'MR_0027', 'CR_0157', 'CR_0035', 'CR_0492', 'CR_0395', 'MR_0203', 'CR_0348', 'CR_0325', 'CR_0240', 'CR_0214', 'CR_0024', 'CR_0649', 'CR_0300', 'CR_0637', 'CR_0173', 'CR_0096', 'CR_0536', 'CR_0514', 'CR_0600', 'MR_0170', 'CR_0547', 'CR_0143', 'MR_0275', 'CR_0497', 'CR_0315', 'CR_0216', 'CR_0568', 'CR_0396', 'MR_0023', 'CR_0424', 'CR_0170', 'CR_0131', 'CR_0029', 'MR_0251', 'MR_0080', 'MR_0338', 'MR_0352', 'MR_0101', 'CR_0220', 'CR_0265', 'CR_0599', 'MR_0108', 'CR_0068', 'CR_0041', 'CR_0482', 'CR_0490', 'CR_0245', 'CR_0318', 'MR_0051', 'CR_0522', 'CR_0047', 'MR_0253', 'MR_0054', 'CR_0317', 'CR_0530', 'CR_0474', 'CR_0114', 'CR_0327', 'CR_0427', 'CR_0052', 'CR_0311', 'CR_0121', 'CR_0145', 'MR_0369', 'CR_0071', 'MR_0003', 'CR_0177', 'CR_0379', 'MR_0005', 'CR_0377', 'CR_0628', 'CR_0382', 'CR_0026', 'CR_0471', 'CR_0034', 'CR_0458', 'CR_0386', 'CR_0434', 'CR_0182', 'CR_0425', 'CR_0236', 'CR_0503', 'CR_0208', 'CR_0473', 'CR_0134', 'CR_0001', 'MR_0057', 'MR_0095', 'CR_0211', 'CR_0030', 'CR_0042', 'CR_0203', 'MR_0383', 'CR_0313']\n",
            "['CR_0326', 'MR_0348', 'CR_0148', 'CR_0457', 'CR_0662', 'CR_0436', 'CR_0266', 'CR_0304', 'CR_0111', 'CR_0022', 'CR_0083', 'CR_0003', 'CR_0464', 'CR_0100', 'CR_0020', 'CR_0447', 'CR_0411', 'CR_0353', 'MR_0013', 'MR_0040', 'CR_0146', 'MR_0228', 'CR_0397', 'CR_0101', 'CR_0504', 'CR_0421', 'CR_0392', 'MR_0070', 'CR_0391', 'CR_0283', 'MR_0126', 'MR_0052', 'CR_0615', 'CR_0489', 'CR_0365', 'CR_0219', 'MR_0027', 'CR_0157', 'CR_0035', 'CR_0492', 'CR_0395', 'MR_0203', 'CR_0348', 'CR_0325', 'CR_0240', 'CR_0214', 'CR_0024', 'CR_0649', 'CR_0300', 'CR_0637', 'CR_0173', 'CR_0096', 'CR_0536', 'CR_0514', 'CR_0600', 'MR_0170', 'CR_0547', 'CR_0143', 'MR_0275', 'CR_0497', 'CR_0315', 'CR_0216', 'CR_0568', 'CR_0396', 'MR_0023', 'CR_0424', 'CR_0170', 'CR_0131', 'CR_0029', 'MR_0251', 'MR_0080', 'MR_0338', 'MR_0352', 'MR_0101', 'CR_0220', 'CR_0265', 'CR_0599', 'MR_0108', 'CR_0068', 'CR_0041', 'CR_0482', 'CR_0490', 'CR_0245', 'CR_0318', 'MR_0051', 'CR_0522', 'CR_0047', 'MR_0253', 'MR_0054', 'CR_0317', 'CR_0530', 'CR_0474', 'CR_0114', 'CR_0327', 'CR_0427', 'CR_0052', 'CR_0311', 'CR_0121', 'CR_0145', 'MR_0369', 'CR_0071', 'MR_0003', 'CR_0177', 'CR_0379', 'MR_0005', 'CR_0377', 'CR_0628', 'CR_0382', 'CR_0026', 'CR_0471', 'CR_0034', 'CR_0458', 'CR_0386', 'CR_0434', 'CR_0182', 'CR_0425', 'CR_0236', 'CR_0503', 'CR_0208', 'CR_0473', 'CR_0134', 'CR_0001', 'MR_0057', 'MR_0095', 'CR_0211', 'CR_0030', 'CR_0042', 'CR_0203', 'MR_0383', 'CR_0313', 'CR_0476']\n",
            "['CR_0326', 'MR_0348', 'CR_0148', 'CR_0457', 'CR_0662', 'CR_0436', 'CR_0266', 'CR_0304', 'CR_0111', 'CR_0022', 'CR_0083', 'CR_0003', 'CR_0464', 'CR_0100', 'CR_0020', 'CR_0447', 'CR_0411', 'CR_0353', 'MR_0013', 'MR_0040', 'CR_0146', 'MR_0228', 'CR_0397', 'CR_0101', 'CR_0504', 'CR_0421', 'CR_0392', 'MR_0070', 'CR_0391', 'CR_0283', 'MR_0126', 'MR_0052', 'CR_0615', 'CR_0489', 'CR_0365', 'CR_0219', 'MR_0027', 'CR_0157', 'CR_0035', 'CR_0492', 'CR_0395', 'MR_0203', 'CR_0348', 'CR_0325', 'CR_0240', 'CR_0214', 'CR_0024', 'CR_0649', 'CR_0300', 'CR_0637', 'CR_0173', 'CR_0096', 'CR_0536', 'CR_0514', 'CR_0600', 'MR_0170', 'CR_0547', 'CR_0143', 'MR_0275', 'CR_0497', 'CR_0315', 'CR_0216', 'CR_0568', 'CR_0396', 'MR_0023', 'CR_0424', 'CR_0170', 'CR_0131', 'CR_0029', 'MR_0251', 'MR_0080', 'MR_0338', 'MR_0352', 'MR_0101', 'CR_0220', 'CR_0265', 'CR_0599', 'MR_0108', 'CR_0068', 'CR_0041', 'CR_0482', 'CR_0490', 'CR_0245', 'CR_0318', 'MR_0051', 'CR_0522', 'CR_0047', 'MR_0253', 'MR_0054', 'CR_0317', 'CR_0530', 'CR_0474', 'CR_0114', 'CR_0327', 'CR_0427', 'CR_0052', 'CR_0311', 'CR_0121', 'CR_0145', 'MR_0369', 'CR_0071', 'MR_0003', 'CR_0177', 'CR_0379', 'MR_0005', 'CR_0377', 'CR_0628', 'CR_0382', 'CR_0026', 'CR_0471', 'CR_0034', 'CR_0458', 'CR_0386', 'CR_0434', 'CR_0182', 'CR_0425', 'CR_0236', 'CR_0503', 'CR_0208', 'CR_0473', 'CR_0134', 'CR_0001', 'MR_0057', 'MR_0095', 'CR_0211', 'CR_0030', 'CR_0042', 'CR_0203', 'MR_0383', 'CR_0313', 'CR_0476', 'CR_0480']\n",
            "['CR_0326', 'MR_0348', 'CR_0148', 'CR_0457', 'CR_0662', 'CR_0436', 'CR_0266', 'CR_0304', 'CR_0111', 'CR_0022', 'CR_0083', 'CR_0003', 'CR_0464', 'CR_0100', 'CR_0020', 'CR_0447', 'CR_0411', 'CR_0353', 'MR_0013', 'MR_0040', 'CR_0146', 'MR_0228', 'CR_0397', 'CR_0101', 'CR_0504', 'CR_0421', 'CR_0392', 'MR_0070', 'CR_0391', 'CR_0283', 'MR_0126', 'MR_0052', 'CR_0615', 'CR_0489', 'CR_0365', 'CR_0219', 'MR_0027', 'CR_0157', 'CR_0035', 'CR_0492', 'CR_0395', 'MR_0203', 'CR_0348', 'CR_0325', 'CR_0240', 'CR_0214', 'CR_0024', 'CR_0649', 'CR_0300', 'CR_0637', 'CR_0173', 'CR_0096', 'CR_0536', 'CR_0514', 'CR_0600', 'MR_0170', 'CR_0547', 'CR_0143', 'MR_0275', 'CR_0497', 'CR_0315', 'CR_0216', 'CR_0568', 'CR_0396', 'MR_0023', 'CR_0424', 'CR_0170', 'CR_0131', 'CR_0029', 'MR_0251', 'MR_0080', 'MR_0338', 'MR_0352', 'MR_0101', 'CR_0220', 'CR_0265', 'CR_0599', 'MR_0108', 'CR_0068', 'CR_0041', 'CR_0482', 'CR_0490', 'CR_0245', 'CR_0318', 'MR_0051', 'CR_0522', 'CR_0047', 'MR_0253', 'MR_0054', 'CR_0317', 'CR_0530', 'CR_0474', 'CR_0114', 'CR_0327', 'CR_0427', 'CR_0052', 'CR_0311', 'CR_0121', 'CR_0145', 'MR_0369', 'CR_0071', 'MR_0003', 'CR_0177', 'CR_0379', 'MR_0005', 'CR_0377', 'CR_0628', 'CR_0382', 'CR_0026', 'CR_0471', 'CR_0034', 'CR_0458', 'CR_0386', 'CR_0434', 'CR_0182', 'CR_0425', 'CR_0236', 'CR_0503', 'CR_0208', 'CR_0473', 'CR_0134', 'CR_0001', 'MR_0057', 'MR_0095', 'CR_0211', 'CR_0030', 'CR_0042', 'CR_0203', 'MR_0383', 'CR_0313', 'CR_0476', 'CR_0480', 'CR_0487']\n",
            "['CR_0326', 'MR_0348', 'CR_0148', 'CR_0457', 'CR_0662', 'CR_0436', 'CR_0266', 'CR_0304', 'CR_0111', 'CR_0022', 'CR_0083', 'CR_0003', 'CR_0464', 'CR_0100', 'CR_0020', 'CR_0447', 'CR_0411', 'CR_0353', 'MR_0013', 'MR_0040', 'CR_0146', 'MR_0228', 'CR_0397', 'CR_0101', 'CR_0504', 'CR_0421', 'CR_0392', 'MR_0070', 'CR_0391', 'CR_0283', 'MR_0126', 'MR_0052', 'CR_0615', 'CR_0489', 'CR_0365', 'CR_0219', 'MR_0027', 'CR_0157', 'CR_0035', 'CR_0492', 'CR_0395', 'MR_0203', 'CR_0348', 'CR_0325', 'CR_0240', 'CR_0214', 'CR_0024', 'CR_0649', 'CR_0300', 'CR_0637', 'CR_0173', 'CR_0096', 'CR_0536', 'CR_0514', 'CR_0600', 'MR_0170', 'CR_0547', 'CR_0143', 'MR_0275', 'CR_0497', 'CR_0315', 'CR_0216', 'CR_0568', 'CR_0396', 'MR_0023', 'CR_0424', 'CR_0170', 'CR_0131', 'CR_0029', 'MR_0251', 'MR_0080', 'MR_0338', 'MR_0352', 'MR_0101', 'CR_0220', 'CR_0265', 'CR_0599', 'MR_0108', 'CR_0068', 'CR_0041', 'CR_0482', 'CR_0490', 'CR_0245', 'CR_0318', 'MR_0051', 'CR_0522', 'CR_0047', 'MR_0253', 'MR_0054', 'CR_0317', 'CR_0530', 'CR_0474', 'CR_0114', 'CR_0327', 'CR_0427', 'CR_0052', 'CR_0311', 'CR_0121', 'CR_0145', 'MR_0369', 'CR_0071', 'MR_0003', 'CR_0177', 'CR_0379', 'MR_0005', 'CR_0377', 'CR_0628', 'CR_0382', 'CR_0026', 'CR_0471', 'CR_0034', 'CR_0458', 'CR_0386', 'CR_0434', 'CR_0182', 'CR_0425', 'CR_0236', 'CR_0503', 'CR_0208', 'CR_0473', 'CR_0134', 'CR_0001', 'MR_0057', 'MR_0095', 'CR_0211', 'CR_0030', 'CR_0042', 'CR_0203', 'MR_0383', 'CR_0313', 'CR_0476', 'CR_0480', 'CR_0487', 'CR_0495']\n",
            "['CR_0326', 'MR_0348', 'CR_0148', 'CR_0457', 'CR_0662', 'CR_0436', 'CR_0266', 'CR_0304', 'CR_0111', 'CR_0022', 'CR_0083', 'CR_0003', 'CR_0464', 'CR_0100', 'CR_0020', 'CR_0447', 'CR_0411', 'CR_0353', 'MR_0013', 'MR_0040', 'CR_0146', 'MR_0228', 'CR_0397', 'CR_0101', 'CR_0504', 'CR_0421', 'CR_0392', 'MR_0070', 'CR_0391', 'CR_0283', 'MR_0126', 'MR_0052', 'CR_0615', 'CR_0489', 'CR_0365', 'CR_0219', 'MR_0027', 'CR_0157', 'CR_0035', 'CR_0492', 'CR_0395', 'MR_0203', 'CR_0348', 'CR_0325', 'CR_0240', 'CR_0214', 'CR_0024', 'CR_0649', 'CR_0300', 'CR_0637', 'CR_0173', 'CR_0096', 'CR_0536', 'CR_0514', 'CR_0600', 'MR_0170', 'CR_0547', 'CR_0143', 'MR_0275', 'CR_0497', 'CR_0315', 'CR_0216', 'CR_0568', 'CR_0396', 'MR_0023', 'CR_0424', 'CR_0170', 'CR_0131', 'CR_0029', 'MR_0251', 'MR_0080', 'MR_0338', 'MR_0352', 'MR_0101', 'CR_0220', 'CR_0265', 'CR_0599', 'MR_0108', 'CR_0068', 'CR_0041', 'CR_0482', 'CR_0490', 'CR_0245', 'CR_0318', 'MR_0051', 'CR_0522', 'CR_0047', 'MR_0253', 'MR_0054', 'CR_0317', 'CR_0530', 'CR_0474', 'CR_0114', 'CR_0327', 'CR_0427', 'CR_0052', 'CR_0311', 'CR_0121', 'CR_0145', 'MR_0369', 'CR_0071', 'MR_0003', 'CR_0177', 'CR_0379', 'MR_0005', 'CR_0377', 'CR_0628', 'CR_0382', 'CR_0026', 'CR_0471', 'CR_0034', 'CR_0458', 'CR_0386', 'CR_0434', 'CR_0182', 'CR_0425', 'CR_0236', 'CR_0503', 'CR_0208', 'CR_0473', 'CR_0134', 'CR_0001', 'MR_0057', 'MR_0095', 'CR_0211', 'CR_0030', 'CR_0042', 'CR_0203', 'MR_0383', 'CR_0313', 'CR_0476', 'CR_0480', 'CR_0487', 'CR_0495', 'CR_0247']\n",
            "['CR_0326', 'MR_0348', 'CR_0148', 'CR_0457', 'CR_0662', 'CR_0436', 'CR_0266', 'CR_0304', 'CR_0111', 'CR_0022', 'CR_0083', 'CR_0003', 'CR_0464', 'CR_0100', 'CR_0020', 'CR_0447', 'CR_0411', 'CR_0353', 'MR_0013', 'MR_0040', 'CR_0146', 'MR_0228', 'CR_0397', 'CR_0101', 'CR_0504', 'CR_0421', 'CR_0392', 'MR_0070', 'CR_0391', 'CR_0283', 'MR_0126', 'MR_0052', 'CR_0615', 'CR_0489', 'CR_0365', 'CR_0219', 'MR_0027', 'CR_0157', 'CR_0035', 'CR_0492', 'CR_0395', 'MR_0203', 'CR_0348', 'CR_0325', 'CR_0240', 'CR_0214', 'CR_0024', 'CR_0649', 'CR_0300', 'CR_0637', 'CR_0173', 'CR_0096', 'CR_0536', 'CR_0514', 'CR_0600', 'MR_0170', 'CR_0547', 'CR_0143', 'MR_0275', 'CR_0497', 'CR_0315', 'CR_0216', 'CR_0568', 'CR_0396', 'MR_0023', 'CR_0424', 'CR_0170', 'CR_0131', 'CR_0029', 'MR_0251', 'MR_0080', 'MR_0338', 'MR_0352', 'MR_0101', 'CR_0220', 'CR_0265', 'CR_0599', 'MR_0108', 'CR_0068', 'CR_0041', 'CR_0482', 'CR_0490', 'CR_0245', 'CR_0318', 'MR_0051', 'CR_0522', 'CR_0047', 'MR_0253', 'MR_0054', 'CR_0317', 'CR_0530', 'CR_0474', 'CR_0114', 'CR_0327', 'CR_0427', 'CR_0052', 'CR_0311', 'CR_0121', 'CR_0145', 'MR_0369', 'CR_0071', 'MR_0003', 'CR_0177', 'CR_0379', 'MR_0005', 'CR_0377', 'CR_0628', 'CR_0382', 'CR_0026', 'CR_0471', 'CR_0034', 'CR_0458', 'CR_0386', 'CR_0434', 'CR_0182', 'CR_0425', 'CR_0236', 'CR_0503', 'CR_0208', 'CR_0473', 'CR_0134', 'CR_0001', 'MR_0057', 'MR_0095', 'CR_0211', 'CR_0030', 'CR_0042', 'CR_0203', 'MR_0383', 'CR_0313', 'CR_0476', 'CR_0480', 'CR_0487', 'CR_0495', 'CR_0247', 'CR_0037']\n",
            "['CR_0326', 'MR_0348', 'CR_0148', 'CR_0457', 'CR_0662', 'CR_0436', 'CR_0266', 'CR_0304', 'CR_0111', 'CR_0022', 'CR_0083', 'CR_0003', 'CR_0464', 'CR_0100', 'CR_0020', 'CR_0447', 'CR_0411', 'CR_0353', 'MR_0013', 'MR_0040', 'CR_0146', 'MR_0228', 'CR_0397', 'CR_0101', 'CR_0504', 'CR_0421', 'CR_0392', 'MR_0070', 'CR_0391', 'CR_0283', 'MR_0126', 'MR_0052', 'CR_0615', 'CR_0489', 'CR_0365', 'CR_0219', 'MR_0027', 'CR_0157', 'CR_0035', 'CR_0492', 'CR_0395', 'MR_0203', 'CR_0348', 'CR_0325', 'CR_0240', 'CR_0214', 'CR_0024', 'CR_0649', 'CR_0300', 'CR_0637', 'CR_0173', 'CR_0096', 'CR_0536', 'CR_0514', 'CR_0600', 'MR_0170', 'CR_0547', 'CR_0143', 'MR_0275', 'CR_0497', 'CR_0315', 'CR_0216', 'CR_0568', 'CR_0396', 'MR_0023', 'CR_0424', 'CR_0170', 'CR_0131', 'CR_0029', 'MR_0251', 'MR_0080', 'MR_0338', 'MR_0352', 'MR_0101', 'CR_0220', 'CR_0265', 'CR_0599', 'MR_0108', 'CR_0068', 'CR_0041', 'CR_0482', 'CR_0490', 'CR_0245', 'CR_0318', 'MR_0051', 'CR_0522', 'CR_0047', 'MR_0253', 'MR_0054', 'CR_0317', 'CR_0530', 'CR_0474', 'CR_0114', 'CR_0327', 'CR_0427', 'CR_0052', 'CR_0311', 'CR_0121', 'CR_0145', 'MR_0369', 'CR_0071', 'MR_0003', 'CR_0177', 'CR_0379', 'MR_0005', 'CR_0377', 'CR_0628', 'CR_0382', 'CR_0026', 'CR_0471', 'CR_0034', 'CR_0458', 'CR_0386', 'CR_0434', 'CR_0182', 'CR_0425', 'CR_0236', 'CR_0503', 'CR_0208', 'CR_0473', 'CR_0134', 'CR_0001', 'MR_0057', 'MR_0095', 'CR_0211', 'CR_0030', 'CR_0042', 'CR_0203', 'MR_0383', 'CR_0313', 'CR_0476', 'CR_0480', 'CR_0487', 'CR_0495', 'CR_0247', 'CR_0037', 'CR_0588']\n",
            "['CR_0326', 'MR_0348', 'CR_0148', 'CR_0457', 'CR_0662', 'CR_0436', 'CR_0266', 'CR_0304', 'CR_0111', 'CR_0022', 'CR_0083', 'CR_0003', 'CR_0464', 'CR_0100', 'CR_0020', 'CR_0447', 'CR_0411', 'CR_0353', 'MR_0013', 'MR_0040', 'CR_0146', 'MR_0228', 'CR_0397', 'CR_0101', 'CR_0504', 'CR_0421', 'CR_0392', 'MR_0070', 'CR_0391', 'CR_0283', 'MR_0126', 'MR_0052', 'CR_0615', 'CR_0489', 'CR_0365', 'CR_0219', 'MR_0027', 'CR_0157', 'CR_0035', 'CR_0492', 'CR_0395', 'MR_0203', 'CR_0348', 'CR_0325', 'CR_0240', 'CR_0214', 'CR_0024', 'CR_0649', 'CR_0300', 'CR_0637', 'CR_0173', 'CR_0096', 'CR_0536', 'CR_0514', 'CR_0600', 'MR_0170', 'CR_0547', 'CR_0143', 'MR_0275', 'CR_0497', 'CR_0315', 'CR_0216', 'CR_0568', 'CR_0396', 'MR_0023', 'CR_0424', 'CR_0170', 'CR_0131', 'CR_0029', 'MR_0251', 'MR_0080', 'MR_0338', 'MR_0352', 'MR_0101', 'CR_0220', 'CR_0265', 'CR_0599', 'MR_0108', 'CR_0068', 'CR_0041', 'CR_0482', 'CR_0490', 'CR_0245', 'CR_0318', 'MR_0051', 'CR_0522', 'CR_0047', 'MR_0253', 'MR_0054', 'CR_0317', 'CR_0530', 'CR_0474', 'CR_0114', 'CR_0327', 'CR_0427', 'CR_0052', 'CR_0311', 'CR_0121', 'CR_0145', 'MR_0369', 'CR_0071', 'MR_0003', 'CR_0177', 'CR_0379', 'MR_0005', 'CR_0377', 'CR_0628', 'CR_0382', 'CR_0026', 'CR_0471', 'CR_0034', 'CR_0458', 'CR_0386', 'CR_0434', 'CR_0182', 'CR_0425', 'CR_0236', 'CR_0503', 'CR_0208', 'CR_0473', 'CR_0134', 'CR_0001', 'MR_0057', 'MR_0095', 'CR_0211', 'CR_0030', 'CR_0042', 'CR_0203', 'MR_0383', 'CR_0313', 'CR_0476', 'CR_0480', 'CR_0487', 'CR_0495', 'CR_0247', 'CR_0037', 'CR_0588', 'CR_0137']\n",
            "['CR_0326', 'MR_0348', 'CR_0148', 'CR_0457', 'CR_0662', 'CR_0436', 'CR_0266', 'CR_0304', 'CR_0111', 'CR_0022', 'CR_0083', 'CR_0003', 'CR_0464', 'CR_0100', 'CR_0020', 'CR_0447', 'CR_0411', 'CR_0353', 'MR_0013', 'MR_0040', 'CR_0146', 'MR_0228', 'CR_0397', 'CR_0101', 'CR_0504', 'CR_0421', 'CR_0392', 'MR_0070', 'CR_0391', 'CR_0283', 'MR_0126', 'MR_0052', 'CR_0615', 'CR_0489', 'CR_0365', 'CR_0219', 'MR_0027', 'CR_0157', 'CR_0035', 'CR_0492', 'CR_0395', 'MR_0203', 'CR_0348', 'CR_0325', 'CR_0240', 'CR_0214', 'CR_0024', 'CR_0649', 'CR_0300', 'CR_0637', 'CR_0173', 'CR_0096', 'CR_0536', 'CR_0514', 'CR_0600', 'MR_0170', 'CR_0547', 'CR_0143', 'MR_0275', 'CR_0497', 'CR_0315', 'CR_0216', 'CR_0568', 'CR_0396', 'MR_0023', 'CR_0424', 'CR_0170', 'CR_0131', 'CR_0029', 'MR_0251', 'MR_0080', 'MR_0338', 'MR_0352', 'MR_0101', 'CR_0220', 'CR_0265', 'CR_0599', 'MR_0108', 'CR_0068', 'CR_0041', 'CR_0482', 'CR_0490', 'CR_0245', 'CR_0318', 'MR_0051', 'CR_0522', 'CR_0047', 'MR_0253', 'MR_0054', 'CR_0317', 'CR_0530', 'CR_0474', 'CR_0114', 'CR_0327', 'CR_0427', 'CR_0052', 'CR_0311', 'CR_0121', 'CR_0145', 'MR_0369', 'CR_0071', 'MR_0003', 'CR_0177', 'CR_0379', 'MR_0005', 'CR_0377', 'CR_0628', 'CR_0382', 'CR_0026', 'CR_0471', 'CR_0034', 'CR_0458', 'CR_0386', 'CR_0434', 'CR_0182', 'CR_0425', 'CR_0236', 'CR_0503', 'CR_0208', 'CR_0473', 'CR_0134', 'CR_0001', 'MR_0057', 'MR_0095', 'CR_0211', 'CR_0030', 'CR_0042', 'CR_0203', 'MR_0383', 'CR_0313', 'CR_0476', 'CR_0480', 'CR_0487', 'CR_0495', 'CR_0247', 'CR_0037', 'CR_0588', 'CR_0137', 'CR_0268']\n",
            "['CR_0326', 'MR_0348', 'CR_0148', 'CR_0457', 'CR_0662', 'CR_0436', 'CR_0266', 'CR_0304', 'CR_0111', 'CR_0022', 'CR_0083', 'CR_0003', 'CR_0464', 'CR_0100', 'CR_0020', 'CR_0447', 'CR_0411', 'CR_0353', 'MR_0013', 'MR_0040', 'CR_0146', 'MR_0228', 'CR_0397', 'CR_0101', 'CR_0504', 'CR_0421', 'CR_0392', 'MR_0070', 'CR_0391', 'CR_0283', 'MR_0126', 'MR_0052', 'CR_0615', 'CR_0489', 'CR_0365', 'CR_0219', 'MR_0027', 'CR_0157', 'CR_0035', 'CR_0492', 'CR_0395', 'MR_0203', 'CR_0348', 'CR_0325', 'CR_0240', 'CR_0214', 'CR_0024', 'CR_0649', 'CR_0300', 'CR_0637', 'CR_0173', 'CR_0096', 'CR_0536', 'CR_0514', 'CR_0600', 'MR_0170', 'CR_0547', 'CR_0143', 'MR_0275', 'CR_0497', 'CR_0315', 'CR_0216', 'CR_0568', 'CR_0396', 'MR_0023', 'CR_0424', 'CR_0170', 'CR_0131', 'CR_0029', 'MR_0251', 'MR_0080', 'MR_0338', 'MR_0352', 'MR_0101', 'CR_0220', 'CR_0265', 'CR_0599', 'MR_0108', 'CR_0068', 'CR_0041', 'CR_0482', 'CR_0490', 'CR_0245', 'CR_0318', 'MR_0051', 'CR_0522', 'CR_0047', 'MR_0253', 'MR_0054', 'CR_0317', 'CR_0530', 'CR_0474', 'CR_0114', 'CR_0327', 'CR_0427', 'CR_0052', 'CR_0311', 'CR_0121', 'CR_0145', 'MR_0369', 'CR_0071', 'MR_0003', 'CR_0177', 'CR_0379', 'MR_0005', 'CR_0377', 'CR_0628', 'CR_0382', 'CR_0026', 'CR_0471', 'CR_0034', 'CR_0458', 'CR_0386', 'CR_0434', 'CR_0182', 'CR_0425', 'CR_0236', 'CR_0503', 'CR_0208', 'CR_0473', 'CR_0134', 'CR_0001', 'MR_0057', 'MR_0095', 'CR_0211', 'CR_0030', 'CR_0042', 'CR_0203', 'MR_0383', 'CR_0313', 'CR_0476', 'CR_0480', 'CR_0487', 'CR_0495', 'CR_0247', 'CR_0037', 'CR_0588', 'CR_0137', 'CR_0268', 'MR_0059']\n",
            "['CR_0326', 'MR_0348', 'CR_0148', 'CR_0457', 'CR_0662', 'CR_0436', 'CR_0266', 'CR_0304', 'CR_0111', 'CR_0022', 'CR_0083', 'CR_0003', 'CR_0464', 'CR_0100', 'CR_0020', 'CR_0447', 'CR_0411', 'CR_0353', 'MR_0013', 'MR_0040', 'CR_0146', 'MR_0228', 'CR_0397', 'CR_0101', 'CR_0504', 'CR_0421', 'CR_0392', 'MR_0070', 'CR_0391', 'CR_0283', 'MR_0126', 'MR_0052', 'CR_0615', 'CR_0489', 'CR_0365', 'CR_0219', 'MR_0027', 'CR_0157', 'CR_0035', 'CR_0492', 'CR_0395', 'MR_0203', 'CR_0348', 'CR_0325', 'CR_0240', 'CR_0214', 'CR_0024', 'CR_0649', 'CR_0300', 'CR_0637', 'CR_0173', 'CR_0096', 'CR_0536', 'CR_0514', 'CR_0600', 'MR_0170', 'CR_0547', 'CR_0143', 'MR_0275', 'CR_0497', 'CR_0315', 'CR_0216', 'CR_0568', 'CR_0396', 'MR_0023', 'CR_0424', 'CR_0170', 'CR_0131', 'CR_0029', 'MR_0251', 'MR_0080', 'MR_0338', 'MR_0352', 'MR_0101', 'CR_0220', 'CR_0265', 'CR_0599', 'MR_0108', 'CR_0068', 'CR_0041', 'CR_0482', 'CR_0490', 'CR_0245', 'CR_0318', 'MR_0051', 'CR_0522', 'CR_0047', 'MR_0253', 'MR_0054', 'CR_0317', 'CR_0530', 'CR_0474', 'CR_0114', 'CR_0327', 'CR_0427', 'CR_0052', 'CR_0311', 'CR_0121', 'CR_0145', 'MR_0369', 'CR_0071', 'MR_0003', 'CR_0177', 'CR_0379', 'MR_0005', 'CR_0377', 'CR_0628', 'CR_0382', 'CR_0026', 'CR_0471', 'CR_0034', 'CR_0458', 'CR_0386', 'CR_0434', 'CR_0182', 'CR_0425', 'CR_0236', 'CR_0503', 'CR_0208', 'CR_0473', 'CR_0134', 'CR_0001', 'MR_0057', 'MR_0095', 'CR_0211', 'CR_0030', 'CR_0042', 'CR_0203', 'MR_0383', 'CR_0313', 'CR_0476', 'CR_0480', 'CR_0487', 'CR_0495', 'CR_0247', 'CR_0037', 'CR_0588', 'CR_0137', 'CR_0268', 'MR_0059', 'CR_0477']\n",
            "['CR_0326', 'MR_0348', 'CR_0148', 'CR_0457', 'CR_0662', 'CR_0436', 'CR_0266', 'CR_0304', 'CR_0111', 'CR_0022', 'CR_0083', 'CR_0003', 'CR_0464', 'CR_0100', 'CR_0020', 'CR_0447', 'CR_0411', 'CR_0353', 'MR_0013', 'MR_0040', 'CR_0146', 'MR_0228', 'CR_0397', 'CR_0101', 'CR_0504', 'CR_0421', 'CR_0392', 'MR_0070', 'CR_0391', 'CR_0283', 'MR_0126', 'MR_0052', 'CR_0615', 'CR_0489', 'CR_0365', 'CR_0219', 'MR_0027', 'CR_0157', 'CR_0035', 'CR_0492', 'CR_0395', 'MR_0203', 'CR_0348', 'CR_0325', 'CR_0240', 'CR_0214', 'CR_0024', 'CR_0649', 'CR_0300', 'CR_0637', 'CR_0173', 'CR_0096', 'CR_0536', 'CR_0514', 'CR_0600', 'MR_0170', 'CR_0547', 'CR_0143', 'MR_0275', 'CR_0497', 'CR_0315', 'CR_0216', 'CR_0568', 'CR_0396', 'MR_0023', 'CR_0424', 'CR_0170', 'CR_0131', 'CR_0029', 'MR_0251', 'MR_0080', 'MR_0338', 'MR_0352', 'MR_0101', 'CR_0220', 'CR_0265', 'CR_0599', 'MR_0108', 'CR_0068', 'CR_0041', 'CR_0482', 'CR_0490', 'CR_0245', 'CR_0318', 'MR_0051', 'CR_0522', 'CR_0047', 'MR_0253', 'MR_0054', 'CR_0317', 'CR_0530', 'CR_0474', 'CR_0114', 'CR_0327', 'CR_0427', 'CR_0052', 'CR_0311', 'CR_0121', 'CR_0145', 'MR_0369', 'CR_0071', 'MR_0003', 'CR_0177', 'CR_0379', 'MR_0005', 'CR_0377', 'CR_0628', 'CR_0382', 'CR_0026', 'CR_0471', 'CR_0034', 'CR_0458', 'CR_0386', 'CR_0434', 'CR_0182', 'CR_0425', 'CR_0236', 'CR_0503', 'CR_0208', 'CR_0473', 'CR_0134', 'CR_0001', 'MR_0057', 'MR_0095', 'CR_0211', 'CR_0030', 'CR_0042', 'CR_0203', 'MR_0383', 'CR_0313', 'CR_0476', 'CR_0480', 'CR_0487', 'CR_0495', 'CR_0247', 'CR_0037', 'CR_0588', 'CR_0137', 'CR_0268', 'MR_0059', 'CR_0477', 'CR_0324']\n",
            "['CR_0326', 'MR_0348', 'CR_0148', 'CR_0457', 'CR_0662', 'CR_0436', 'CR_0266', 'CR_0304', 'CR_0111', 'CR_0022', 'CR_0083', 'CR_0003', 'CR_0464', 'CR_0100', 'CR_0020', 'CR_0447', 'CR_0411', 'CR_0353', 'MR_0013', 'MR_0040', 'CR_0146', 'MR_0228', 'CR_0397', 'CR_0101', 'CR_0504', 'CR_0421', 'CR_0392', 'MR_0070', 'CR_0391', 'CR_0283', 'MR_0126', 'MR_0052', 'CR_0615', 'CR_0489', 'CR_0365', 'CR_0219', 'MR_0027', 'CR_0157', 'CR_0035', 'CR_0492', 'CR_0395', 'MR_0203', 'CR_0348', 'CR_0325', 'CR_0240', 'CR_0214', 'CR_0024', 'CR_0649', 'CR_0300', 'CR_0637', 'CR_0173', 'CR_0096', 'CR_0536', 'CR_0514', 'CR_0600', 'MR_0170', 'CR_0547', 'CR_0143', 'MR_0275', 'CR_0497', 'CR_0315', 'CR_0216', 'CR_0568', 'CR_0396', 'MR_0023', 'CR_0424', 'CR_0170', 'CR_0131', 'CR_0029', 'MR_0251', 'MR_0080', 'MR_0338', 'MR_0352', 'MR_0101', 'CR_0220', 'CR_0265', 'CR_0599', 'MR_0108', 'CR_0068', 'CR_0041', 'CR_0482', 'CR_0490', 'CR_0245', 'CR_0318', 'MR_0051', 'CR_0522', 'CR_0047', 'MR_0253', 'MR_0054', 'CR_0317', 'CR_0530', 'CR_0474', 'CR_0114', 'CR_0327', 'CR_0427', 'CR_0052', 'CR_0311', 'CR_0121', 'CR_0145', 'MR_0369', 'CR_0071', 'MR_0003', 'CR_0177', 'CR_0379', 'MR_0005', 'CR_0377', 'CR_0628', 'CR_0382', 'CR_0026', 'CR_0471', 'CR_0034', 'CR_0458', 'CR_0386', 'CR_0434', 'CR_0182', 'CR_0425', 'CR_0236', 'CR_0503', 'CR_0208', 'CR_0473', 'CR_0134', 'CR_0001', 'MR_0057', 'MR_0095', 'CR_0211', 'CR_0030', 'CR_0042', 'CR_0203', 'MR_0383', 'CR_0313', 'CR_0476', 'CR_0480', 'CR_0487', 'CR_0495', 'CR_0247', 'CR_0037', 'CR_0588', 'CR_0137', 'CR_0268', 'MR_0059', 'CR_0477', 'CR_0324', 'CR_0571']\n",
            "['CR_0326', 'MR_0348', 'CR_0148', 'CR_0457', 'CR_0662', 'CR_0436', 'CR_0266', 'CR_0304', 'CR_0111', 'CR_0022', 'CR_0083', 'CR_0003', 'CR_0464', 'CR_0100', 'CR_0020', 'CR_0447', 'CR_0411', 'CR_0353', 'MR_0013', 'MR_0040', 'CR_0146', 'MR_0228', 'CR_0397', 'CR_0101', 'CR_0504', 'CR_0421', 'CR_0392', 'MR_0070', 'CR_0391', 'CR_0283', 'MR_0126', 'MR_0052', 'CR_0615', 'CR_0489', 'CR_0365', 'CR_0219', 'MR_0027', 'CR_0157', 'CR_0035', 'CR_0492', 'CR_0395', 'MR_0203', 'CR_0348', 'CR_0325', 'CR_0240', 'CR_0214', 'CR_0024', 'CR_0649', 'CR_0300', 'CR_0637', 'CR_0173', 'CR_0096', 'CR_0536', 'CR_0514', 'CR_0600', 'MR_0170', 'CR_0547', 'CR_0143', 'MR_0275', 'CR_0497', 'CR_0315', 'CR_0216', 'CR_0568', 'CR_0396', 'MR_0023', 'CR_0424', 'CR_0170', 'CR_0131', 'CR_0029', 'MR_0251', 'MR_0080', 'MR_0338', 'MR_0352', 'MR_0101', 'CR_0220', 'CR_0265', 'CR_0599', 'MR_0108', 'CR_0068', 'CR_0041', 'CR_0482', 'CR_0490', 'CR_0245', 'CR_0318', 'MR_0051', 'CR_0522', 'CR_0047', 'MR_0253', 'MR_0054', 'CR_0317', 'CR_0530', 'CR_0474', 'CR_0114', 'CR_0327', 'CR_0427', 'CR_0052', 'CR_0311', 'CR_0121', 'CR_0145', 'MR_0369', 'CR_0071', 'MR_0003', 'CR_0177', 'CR_0379', 'MR_0005', 'CR_0377', 'CR_0628', 'CR_0382', 'CR_0026', 'CR_0471', 'CR_0034', 'CR_0458', 'CR_0386', 'CR_0434', 'CR_0182', 'CR_0425', 'CR_0236', 'CR_0503', 'CR_0208', 'CR_0473', 'CR_0134', 'CR_0001', 'MR_0057', 'MR_0095', 'CR_0211', 'CR_0030', 'CR_0042', 'CR_0203', 'MR_0383', 'CR_0313', 'CR_0476', 'CR_0480', 'CR_0487', 'CR_0495', 'CR_0247', 'CR_0037', 'CR_0588', 'CR_0137', 'CR_0268', 'MR_0059', 'CR_0477', 'CR_0324', 'CR_0571', 'MR_0372']\n",
            "['CR_0326', 'MR_0348', 'CR_0148', 'CR_0457', 'CR_0662', 'CR_0436', 'CR_0266', 'CR_0304', 'CR_0111', 'CR_0022', 'CR_0083', 'CR_0003', 'CR_0464', 'CR_0100', 'CR_0020', 'CR_0447', 'CR_0411', 'CR_0353', 'MR_0013', 'MR_0040', 'CR_0146', 'MR_0228', 'CR_0397', 'CR_0101', 'CR_0504', 'CR_0421', 'CR_0392', 'MR_0070', 'CR_0391', 'CR_0283', 'MR_0126', 'MR_0052', 'CR_0615', 'CR_0489', 'CR_0365', 'CR_0219', 'MR_0027', 'CR_0157', 'CR_0035', 'CR_0492', 'CR_0395', 'MR_0203', 'CR_0348', 'CR_0325', 'CR_0240', 'CR_0214', 'CR_0024', 'CR_0649', 'CR_0300', 'CR_0637', 'CR_0173', 'CR_0096', 'CR_0536', 'CR_0514', 'CR_0600', 'MR_0170', 'CR_0547', 'CR_0143', 'MR_0275', 'CR_0497', 'CR_0315', 'CR_0216', 'CR_0568', 'CR_0396', 'MR_0023', 'CR_0424', 'CR_0170', 'CR_0131', 'CR_0029', 'MR_0251', 'MR_0080', 'MR_0338', 'MR_0352', 'MR_0101', 'CR_0220', 'CR_0265', 'CR_0599', 'MR_0108', 'CR_0068', 'CR_0041', 'CR_0482', 'CR_0490', 'CR_0245', 'CR_0318', 'MR_0051', 'CR_0522', 'CR_0047', 'MR_0253', 'MR_0054', 'CR_0317', 'CR_0530', 'CR_0474', 'CR_0114', 'CR_0327', 'CR_0427', 'CR_0052', 'CR_0311', 'CR_0121', 'CR_0145', 'MR_0369', 'CR_0071', 'MR_0003', 'CR_0177', 'CR_0379', 'MR_0005', 'CR_0377', 'CR_0628', 'CR_0382', 'CR_0026', 'CR_0471', 'CR_0034', 'CR_0458', 'CR_0386', 'CR_0434', 'CR_0182', 'CR_0425', 'CR_0236', 'CR_0503', 'CR_0208', 'CR_0473', 'CR_0134', 'CR_0001', 'MR_0057', 'MR_0095', 'CR_0211', 'CR_0030', 'CR_0042', 'CR_0203', 'MR_0383', 'CR_0313', 'CR_0476', 'CR_0480', 'CR_0487', 'CR_0495', 'CR_0247', 'CR_0037', 'CR_0588', 'CR_0137', 'CR_0268', 'MR_0059', 'CR_0477', 'CR_0324', 'CR_0571', 'MR_0372', 'CR_0341']\n",
            "['CR_0326', 'MR_0348', 'CR_0148', 'CR_0457', 'CR_0662', 'CR_0436', 'CR_0266', 'CR_0304', 'CR_0111', 'CR_0022', 'CR_0083', 'CR_0003', 'CR_0464', 'CR_0100', 'CR_0020', 'CR_0447', 'CR_0411', 'CR_0353', 'MR_0013', 'MR_0040', 'CR_0146', 'MR_0228', 'CR_0397', 'CR_0101', 'CR_0504', 'CR_0421', 'CR_0392', 'MR_0070', 'CR_0391', 'CR_0283', 'MR_0126', 'MR_0052', 'CR_0615', 'CR_0489', 'CR_0365', 'CR_0219', 'MR_0027', 'CR_0157', 'CR_0035', 'CR_0492', 'CR_0395', 'MR_0203', 'CR_0348', 'CR_0325', 'CR_0240', 'CR_0214', 'CR_0024', 'CR_0649', 'CR_0300', 'CR_0637', 'CR_0173', 'CR_0096', 'CR_0536', 'CR_0514', 'CR_0600', 'MR_0170', 'CR_0547', 'CR_0143', 'MR_0275', 'CR_0497', 'CR_0315', 'CR_0216', 'CR_0568', 'CR_0396', 'MR_0023', 'CR_0424', 'CR_0170', 'CR_0131', 'CR_0029', 'MR_0251', 'MR_0080', 'MR_0338', 'MR_0352', 'MR_0101', 'CR_0220', 'CR_0265', 'CR_0599', 'MR_0108', 'CR_0068', 'CR_0041', 'CR_0482', 'CR_0490', 'CR_0245', 'CR_0318', 'MR_0051', 'CR_0522', 'CR_0047', 'MR_0253', 'MR_0054', 'CR_0317', 'CR_0530', 'CR_0474', 'CR_0114', 'CR_0327', 'CR_0427', 'CR_0052', 'CR_0311', 'CR_0121', 'CR_0145', 'MR_0369', 'CR_0071', 'MR_0003', 'CR_0177', 'CR_0379', 'MR_0005', 'CR_0377', 'CR_0628', 'CR_0382', 'CR_0026', 'CR_0471', 'CR_0034', 'CR_0458', 'CR_0386', 'CR_0434', 'CR_0182', 'CR_0425', 'CR_0236', 'CR_0503', 'CR_0208', 'CR_0473', 'CR_0134', 'CR_0001', 'MR_0057', 'MR_0095', 'CR_0211', 'CR_0030', 'CR_0042', 'CR_0203', 'MR_0383', 'CR_0313', 'CR_0476', 'CR_0480', 'CR_0487', 'CR_0495', 'CR_0247', 'CR_0037', 'CR_0588', 'CR_0137', 'CR_0268', 'MR_0059', 'CR_0477', 'CR_0324', 'CR_0571', 'MR_0372', 'CR_0341', 'CR_0634']\n",
            "['CR_0326', 'MR_0348', 'CR_0148', 'CR_0457', 'CR_0662', 'CR_0436', 'CR_0266', 'CR_0304', 'CR_0111', 'CR_0022', 'CR_0083', 'CR_0003', 'CR_0464', 'CR_0100', 'CR_0020', 'CR_0447', 'CR_0411', 'CR_0353', 'MR_0013', 'MR_0040', 'CR_0146', 'MR_0228', 'CR_0397', 'CR_0101', 'CR_0504', 'CR_0421', 'CR_0392', 'MR_0070', 'CR_0391', 'CR_0283', 'MR_0126', 'MR_0052', 'CR_0615', 'CR_0489', 'CR_0365', 'CR_0219', 'MR_0027', 'CR_0157', 'CR_0035', 'CR_0492', 'CR_0395', 'MR_0203', 'CR_0348', 'CR_0325', 'CR_0240', 'CR_0214', 'CR_0024', 'CR_0649', 'CR_0300', 'CR_0637', 'CR_0173', 'CR_0096', 'CR_0536', 'CR_0514', 'CR_0600', 'MR_0170', 'CR_0547', 'CR_0143', 'MR_0275', 'CR_0497', 'CR_0315', 'CR_0216', 'CR_0568', 'CR_0396', 'MR_0023', 'CR_0424', 'CR_0170', 'CR_0131', 'CR_0029', 'MR_0251', 'MR_0080', 'MR_0338', 'MR_0352', 'MR_0101', 'CR_0220', 'CR_0265', 'CR_0599', 'MR_0108', 'CR_0068', 'CR_0041', 'CR_0482', 'CR_0490', 'CR_0245', 'CR_0318', 'MR_0051', 'CR_0522', 'CR_0047', 'MR_0253', 'MR_0054', 'CR_0317', 'CR_0530', 'CR_0474', 'CR_0114', 'CR_0327', 'CR_0427', 'CR_0052', 'CR_0311', 'CR_0121', 'CR_0145', 'MR_0369', 'CR_0071', 'MR_0003', 'CR_0177', 'CR_0379', 'MR_0005', 'CR_0377', 'CR_0628', 'CR_0382', 'CR_0026', 'CR_0471', 'CR_0034', 'CR_0458', 'CR_0386', 'CR_0434', 'CR_0182', 'CR_0425', 'CR_0236', 'CR_0503', 'CR_0208', 'CR_0473', 'CR_0134', 'CR_0001', 'MR_0057', 'MR_0095', 'CR_0211', 'CR_0030', 'CR_0042', 'CR_0203', 'MR_0383', 'CR_0313', 'CR_0476', 'CR_0480', 'CR_0487', 'CR_0495', 'CR_0247', 'CR_0037', 'CR_0588', 'CR_0137', 'CR_0268', 'MR_0059', 'CR_0477', 'CR_0324', 'CR_0571', 'MR_0372', 'CR_0341', 'CR_0634', 'CR_0494']\n",
            "['CR_0326', 'MR_0348', 'CR_0148', 'CR_0457', 'CR_0662', 'CR_0436', 'CR_0266', 'CR_0304', 'CR_0111', 'CR_0022', 'CR_0083', 'CR_0003', 'CR_0464', 'CR_0100', 'CR_0020', 'CR_0447', 'CR_0411', 'CR_0353', 'MR_0013', 'MR_0040', 'CR_0146', 'MR_0228', 'CR_0397', 'CR_0101', 'CR_0504', 'CR_0421', 'CR_0392', 'MR_0070', 'CR_0391', 'CR_0283', 'MR_0126', 'MR_0052', 'CR_0615', 'CR_0489', 'CR_0365', 'CR_0219', 'MR_0027', 'CR_0157', 'CR_0035', 'CR_0492', 'CR_0395', 'MR_0203', 'CR_0348', 'CR_0325', 'CR_0240', 'CR_0214', 'CR_0024', 'CR_0649', 'CR_0300', 'CR_0637', 'CR_0173', 'CR_0096', 'CR_0536', 'CR_0514', 'CR_0600', 'MR_0170', 'CR_0547', 'CR_0143', 'MR_0275', 'CR_0497', 'CR_0315', 'CR_0216', 'CR_0568', 'CR_0396', 'MR_0023', 'CR_0424', 'CR_0170', 'CR_0131', 'CR_0029', 'MR_0251', 'MR_0080', 'MR_0338', 'MR_0352', 'MR_0101', 'CR_0220', 'CR_0265', 'CR_0599', 'MR_0108', 'CR_0068', 'CR_0041', 'CR_0482', 'CR_0490', 'CR_0245', 'CR_0318', 'MR_0051', 'CR_0522', 'CR_0047', 'MR_0253', 'MR_0054', 'CR_0317', 'CR_0530', 'CR_0474', 'CR_0114', 'CR_0327', 'CR_0427', 'CR_0052', 'CR_0311', 'CR_0121', 'CR_0145', 'MR_0369', 'CR_0071', 'MR_0003', 'CR_0177', 'CR_0379', 'MR_0005', 'CR_0377', 'CR_0628', 'CR_0382', 'CR_0026', 'CR_0471', 'CR_0034', 'CR_0458', 'CR_0386', 'CR_0434', 'CR_0182', 'CR_0425', 'CR_0236', 'CR_0503', 'CR_0208', 'CR_0473', 'CR_0134', 'CR_0001', 'MR_0057', 'MR_0095', 'CR_0211', 'CR_0030', 'CR_0042', 'CR_0203', 'MR_0383', 'CR_0313', 'CR_0476', 'CR_0480', 'CR_0487', 'CR_0495', 'CR_0247', 'CR_0037', 'CR_0588', 'CR_0137', 'CR_0268', 'MR_0059', 'CR_0477', 'CR_0324', 'CR_0571', 'MR_0372', 'CR_0341', 'CR_0634', 'CR_0494', 'CR_0004']\n",
            "['CR_0326', 'MR_0348', 'CR_0148', 'CR_0457', 'CR_0662', 'CR_0436', 'CR_0266', 'CR_0304', 'CR_0111', 'CR_0022', 'CR_0083', 'CR_0003', 'CR_0464', 'CR_0100', 'CR_0020', 'CR_0447', 'CR_0411', 'CR_0353', 'MR_0013', 'MR_0040', 'CR_0146', 'MR_0228', 'CR_0397', 'CR_0101', 'CR_0504', 'CR_0421', 'CR_0392', 'MR_0070', 'CR_0391', 'CR_0283', 'MR_0126', 'MR_0052', 'CR_0615', 'CR_0489', 'CR_0365', 'CR_0219', 'MR_0027', 'CR_0157', 'CR_0035', 'CR_0492', 'CR_0395', 'MR_0203', 'CR_0348', 'CR_0325', 'CR_0240', 'CR_0214', 'CR_0024', 'CR_0649', 'CR_0300', 'CR_0637', 'CR_0173', 'CR_0096', 'CR_0536', 'CR_0514', 'CR_0600', 'MR_0170', 'CR_0547', 'CR_0143', 'MR_0275', 'CR_0497', 'CR_0315', 'CR_0216', 'CR_0568', 'CR_0396', 'MR_0023', 'CR_0424', 'CR_0170', 'CR_0131', 'CR_0029', 'MR_0251', 'MR_0080', 'MR_0338', 'MR_0352', 'MR_0101', 'CR_0220', 'CR_0265', 'CR_0599', 'MR_0108', 'CR_0068', 'CR_0041', 'CR_0482', 'CR_0490', 'CR_0245', 'CR_0318', 'MR_0051', 'CR_0522', 'CR_0047', 'MR_0253', 'MR_0054', 'CR_0317', 'CR_0530', 'CR_0474', 'CR_0114', 'CR_0327', 'CR_0427', 'CR_0052', 'CR_0311', 'CR_0121', 'CR_0145', 'MR_0369', 'CR_0071', 'MR_0003', 'CR_0177', 'CR_0379', 'MR_0005', 'CR_0377', 'CR_0628', 'CR_0382', 'CR_0026', 'CR_0471', 'CR_0034', 'CR_0458', 'CR_0386', 'CR_0434', 'CR_0182', 'CR_0425', 'CR_0236', 'CR_0503', 'CR_0208', 'CR_0473', 'CR_0134', 'CR_0001', 'MR_0057', 'MR_0095', 'CR_0211', 'CR_0030', 'CR_0042', 'CR_0203', 'MR_0383', 'CR_0313', 'CR_0476', 'CR_0480', 'CR_0487', 'CR_0495', 'CR_0247', 'CR_0037', 'CR_0588', 'CR_0137', 'CR_0268', 'MR_0059', 'CR_0477', 'CR_0324', 'CR_0571', 'MR_0372', 'CR_0341', 'CR_0634', 'CR_0494', 'CR_0004', 'CR_0359']\n",
            "['CR_0326', 'MR_0348', 'CR_0148', 'CR_0457', 'CR_0662', 'CR_0436', 'CR_0266', 'CR_0304', 'CR_0111', 'CR_0022', 'CR_0083', 'CR_0003', 'CR_0464', 'CR_0100', 'CR_0020', 'CR_0447', 'CR_0411', 'CR_0353', 'MR_0013', 'MR_0040', 'CR_0146', 'MR_0228', 'CR_0397', 'CR_0101', 'CR_0504', 'CR_0421', 'CR_0392', 'MR_0070', 'CR_0391', 'CR_0283', 'MR_0126', 'MR_0052', 'CR_0615', 'CR_0489', 'CR_0365', 'CR_0219', 'MR_0027', 'CR_0157', 'CR_0035', 'CR_0492', 'CR_0395', 'MR_0203', 'CR_0348', 'CR_0325', 'CR_0240', 'CR_0214', 'CR_0024', 'CR_0649', 'CR_0300', 'CR_0637', 'CR_0173', 'CR_0096', 'CR_0536', 'CR_0514', 'CR_0600', 'MR_0170', 'CR_0547', 'CR_0143', 'MR_0275', 'CR_0497', 'CR_0315', 'CR_0216', 'CR_0568', 'CR_0396', 'MR_0023', 'CR_0424', 'CR_0170', 'CR_0131', 'CR_0029', 'MR_0251', 'MR_0080', 'MR_0338', 'MR_0352', 'MR_0101', 'CR_0220', 'CR_0265', 'CR_0599', 'MR_0108', 'CR_0068', 'CR_0041', 'CR_0482', 'CR_0490', 'CR_0245', 'CR_0318', 'MR_0051', 'CR_0522', 'CR_0047', 'MR_0253', 'MR_0054', 'CR_0317', 'CR_0530', 'CR_0474', 'CR_0114', 'CR_0327', 'CR_0427', 'CR_0052', 'CR_0311', 'CR_0121', 'CR_0145', 'MR_0369', 'CR_0071', 'MR_0003', 'CR_0177', 'CR_0379', 'MR_0005', 'CR_0377', 'CR_0628', 'CR_0382', 'CR_0026', 'CR_0471', 'CR_0034', 'CR_0458', 'CR_0386', 'CR_0434', 'CR_0182', 'CR_0425', 'CR_0236', 'CR_0503', 'CR_0208', 'CR_0473', 'CR_0134', 'CR_0001', 'MR_0057', 'MR_0095', 'CR_0211', 'CR_0030', 'CR_0042', 'CR_0203', 'MR_0383', 'CR_0313', 'CR_0476', 'CR_0480', 'CR_0487', 'CR_0495', 'CR_0247', 'CR_0037', 'CR_0588', 'CR_0137', 'CR_0268', 'MR_0059', 'CR_0477', 'CR_0324', 'CR_0571', 'MR_0372', 'CR_0341', 'CR_0634', 'CR_0494', 'CR_0004', 'CR_0359', 'CR_0159']\n",
            "['CR_0326', 'MR_0348', 'CR_0148', 'CR_0457', 'CR_0662', 'CR_0436', 'CR_0266', 'CR_0304', 'CR_0111', 'CR_0022', 'CR_0083', 'CR_0003', 'CR_0464', 'CR_0100', 'CR_0020', 'CR_0447', 'CR_0411', 'CR_0353', 'MR_0013', 'MR_0040', 'CR_0146', 'MR_0228', 'CR_0397', 'CR_0101', 'CR_0504', 'CR_0421', 'CR_0392', 'MR_0070', 'CR_0391', 'CR_0283', 'MR_0126', 'MR_0052', 'CR_0615', 'CR_0489', 'CR_0365', 'CR_0219', 'MR_0027', 'CR_0157', 'CR_0035', 'CR_0492', 'CR_0395', 'MR_0203', 'CR_0348', 'CR_0325', 'CR_0240', 'CR_0214', 'CR_0024', 'CR_0649', 'CR_0300', 'CR_0637', 'CR_0173', 'CR_0096', 'CR_0536', 'CR_0514', 'CR_0600', 'MR_0170', 'CR_0547', 'CR_0143', 'MR_0275', 'CR_0497', 'CR_0315', 'CR_0216', 'CR_0568', 'CR_0396', 'MR_0023', 'CR_0424', 'CR_0170', 'CR_0131', 'CR_0029', 'MR_0251', 'MR_0080', 'MR_0338', 'MR_0352', 'MR_0101', 'CR_0220', 'CR_0265', 'CR_0599', 'MR_0108', 'CR_0068', 'CR_0041', 'CR_0482', 'CR_0490', 'CR_0245', 'CR_0318', 'MR_0051', 'CR_0522', 'CR_0047', 'MR_0253', 'MR_0054', 'CR_0317', 'CR_0530', 'CR_0474', 'CR_0114', 'CR_0327', 'CR_0427', 'CR_0052', 'CR_0311', 'CR_0121', 'CR_0145', 'MR_0369', 'CR_0071', 'MR_0003', 'CR_0177', 'CR_0379', 'MR_0005', 'CR_0377', 'CR_0628', 'CR_0382', 'CR_0026', 'CR_0471', 'CR_0034', 'CR_0458', 'CR_0386', 'CR_0434', 'CR_0182', 'CR_0425', 'CR_0236', 'CR_0503', 'CR_0208', 'CR_0473', 'CR_0134', 'CR_0001', 'MR_0057', 'MR_0095', 'CR_0211', 'CR_0030', 'CR_0042', 'CR_0203', 'MR_0383', 'CR_0313', 'CR_0476', 'CR_0480', 'CR_0487', 'CR_0495', 'CR_0247', 'CR_0037', 'CR_0588', 'CR_0137', 'CR_0268', 'MR_0059', 'CR_0477', 'CR_0324', 'CR_0571', 'MR_0372', 'CR_0341', 'CR_0634', 'CR_0494', 'CR_0004', 'CR_0359', 'CR_0159', 'CR_0448']\n",
            "['CR_0326', 'MR_0348', 'CR_0148', 'CR_0457', 'CR_0662', 'CR_0436', 'CR_0266', 'CR_0304', 'CR_0111', 'CR_0022', 'CR_0083', 'CR_0003', 'CR_0464', 'CR_0100', 'CR_0020', 'CR_0447', 'CR_0411', 'CR_0353', 'MR_0013', 'MR_0040', 'CR_0146', 'MR_0228', 'CR_0397', 'CR_0101', 'CR_0504', 'CR_0421', 'CR_0392', 'MR_0070', 'CR_0391', 'CR_0283', 'MR_0126', 'MR_0052', 'CR_0615', 'CR_0489', 'CR_0365', 'CR_0219', 'MR_0027', 'CR_0157', 'CR_0035', 'CR_0492', 'CR_0395', 'MR_0203', 'CR_0348', 'CR_0325', 'CR_0240', 'CR_0214', 'CR_0024', 'CR_0649', 'CR_0300', 'CR_0637', 'CR_0173', 'CR_0096', 'CR_0536', 'CR_0514', 'CR_0600', 'MR_0170', 'CR_0547', 'CR_0143', 'MR_0275', 'CR_0497', 'CR_0315', 'CR_0216', 'CR_0568', 'CR_0396', 'MR_0023', 'CR_0424', 'CR_0170', 'CR_0131', 'CR_0029', 'MR_0251', 'MR_0080', 'MR_0338', 'MR_0352', 'MR_0101', 'CR_0220', 'CR_0265', 'CR_0599', 'MR_0108', 'CR_0068', 'CR_0041', 'CR_0482', 'CR_0490', 'CR_0245', 'CR_0318', 'MR_0051', 'CR_0522', 'CR_0047', 'MR_0253', 'MR_0054', 'CR_0317', 'CR_0530', 'CR_0474', 'CR_0114', 'CR_0327', 'CR_0427', 'CR_0052', 'CR_0311', 'CR_0121', 'CR_0145', 'MR_0369', 'CR_0071', 'MR_0003', 'CR_0177', 'CR_0379', 'MR_0005', 'CR_0377', 'CR_0628', 'CR_0382', 'CR_0026', 'CR_0471', 'CR_0034', 'CR_0458', 'CR_0386', 'CR_0434', 'CR_0182', 'CR_0425', 'CR_0236', 'CR_0503', 'CR_0208', 'CR_0473', 'CR_0134', 'CR_0001', 'MR_0057', 'MR_0095', 'CR_0211', 'CR_0030', 'CR_0042', 'CR_0203', 'MR_0383', 'CR_0313', 'CR_0476', 'CR_0480', 'CR_0487', 'CR_0495', 'CR_0247', 'CR_0037', 'CR_0588', 'CR_0137', 'CR_0268', 'MR_0059', 'CR_0477', 'CR_0324', 'CR_0571', 'MR_0372', 'CR_0341', 'CR_0634', 'CR_0494', 'CR_0004', 'CR_0359', 'CR_0159', 'CR_0448', 'CR_0465']\n",
            "['CR_0326', 'MR_0348', 'CR_0148', 'CR_0457', 'CR_0662', 'CR_0436', 'CR_0266', 'CR_0304', 'CR_0111', 'CR_0022', 'CR_0083', 'CR_0003', 'CR_0464', 'CR_0100', 'CR_0020', 'CR_0447', 'CR_0411', 'CR_0353', 'MR_0013', 'MR_0040', 'CR_0146', 'MR_0228', 'CR_0397', 'CR_0101', 'CR_0504', 'CR_0421', 'CR_0392', 'MR_0070', 'CR_0391', 'CR_0283', 'MR_0126', 'MR_0052', 'CR_0615', 'CR_0489', 'CR_0365', 'CR_0219', 'MR_0027', 'CR_0157', 'CR_0035', 'CR_0492', 'CR_0395', 'MR_0203', 'CR_0348', 'CR_0325', 'CR_0240', 'CR_0214', 'CR_0024', 'CR_0649', 'CR_0300', 'CR_0637', 'CR_0173', 'CR_0096', 'CR_0536', 'CR_0514', 'CR_0600', 'MR_0170', 'CR_0547', 'CR_0143', 'MR_0275', 'CR_0497', 'CR_0315', 'CR_0216', 'CR_0568', 'CR_0396', 'MR_0023', 'CR_0424', 'CR_0170', 'CR_0131', 'CR_0029', 'MR_0251', 'MR_0080', 'MR_0338', 'MR_0352', 'MR_0101', 'CR_0220', 'CR_0265', 'CR_0599', 'MR_0108', 'CR_0068', 'CR_0041', 'CR_0482', 'CR_0490', 'CR_0245', 'CR_0318', 'MR_0051', 'CR_0522', 'CR_0047', 'MR_0253', 'MR_0054', 'CR_0317', 'CR_0530', 'CR_0474', 'CR_0114', 'CR_0327', 'CR_0427', 'CR_0052', 'CR_0311', 'CR_0121', 'CR_0145', 'MR_0369', 'CR_0071', 'MR_0003', 'CR_0177', 'CR_0379', 'MR_0005', 'CR_0377', 'CR_0628', 'CR_0382', 'CR_0026', 'CR_0471', 'CR_0034', 'CR_0458', 'CR_0386', 'CR_0434', 'CR_0182', 'CR_0425', 'CR_0236', 'CR_0503', 'CR_0208', 'CR_0473', 'CR_0134', 'CR_0001', 'MR_0057', 'MR_0095', 'CR_0211', 'CR_0030', 'CR_0042', 'CR_0203', 'MR_0383', 'CR_0313', 'CR_0476', 'CR_0480', 'CR_0487', 'CR_0495', 'CR_0247', 'CR_0037', 'CR_0588', 'CR_0137', 'CR_0268', 'MR_0059', 'CR_0477', 'CR_0324', 'CR_0571', 'MR_0372', 'CR_0341', 'CR_0634', 'CR_0494', 'CR_0004', 'CR_0359', 'CR_0159', 'CR_0448', 'CR_0465', 'MR_0140']\n",
            "['CR_0326', 'MR_0348', 'CR_0148', 'CR_0457', 'CR_0662', 'CR_0436', 'CR_0266', 'CR_0304', 'CR_0111', 'CR_0022', 'CR_0083', 'CR_0003', 'CR_0464', 'CR_0100', 'CR_0020', 'CR_0447', 'CR_0411', 'CR_0353', 'MR_0013', 'MR_0040', 'CR_0146', 'MR_0228', 'CR_0397', 'CR_0101', 'CR_0504', 'CR_0421', 'CR_0392', 'MR_0070', 'CR_0391', 'CR_0283', 'MR_0126', 'MR_0052', 'CR_0615', 'CR_0489', 'CR_0365', 'CR_0219', 'MR_0027', 'CR_0157', 'CR_0035', 'CR_0492', 'CR_0395', 'MR_0203', 'CR_0348', 'CR_0325', 'CR_0240', 'CR_0214', 'CR_0024', 'CR_0649', 'CR_0300', 'CR_0637', 'CR_0173', 'CR_0096', 'CR_0536', 'CR_0514', 'CR_0600', 'MR_0170', 'CR_0547', 'CR_0143', 'MR_0275', 'CR_0497', 'CR_0315', 'CR_0216', 'CR_0568', 'CR_0396', 'MR_0023', 'CR_0424', 'CR_0170', 'CR_0131', 'CR_0029', 'MR_0251', 'MR_0080', 'MR_0338', 'MR_0352', 'MR_0101', 'CR_0220', 'CR_0265', 'CR_0599', 'MR_0108', 'CR_0068', 'CR_0041', 'CR_0482', 'CR_0490', 'CR_0245', 'CR_0318', 'MR_0051', 'CR_0522', 'CR_0047', 'MR_0253', 'MR_0054', 'CR_0317', 'CR_0530', 'CR_0474', 'CR_0114', 'CR_0327', 'CR_0427', 'CR_0052', 'CR_0311', 'CR_0121', 'CR_0145', 'MR_0369', 'CR_0071', 'MR_0003', 'CR_0177', 'CR_0379', 'MR_0005', 'CR_0377', 'CR_0628', 'CR_0382', 'CR_0026', 'CR_0471', 'CR_0034', 'CR_0458', 'CR_0386', 'CR_0434', 'CR_0182', 'CR_0425', 'CR_0236', 'CR_0503', 'CR_0208', 'CR_0473', 'CR_0134', 'CR_0001', 'MR_0057', 'MR_0095', 'CR_0211', 'CR_0030', 'CR_0042', 'CR_0203', 'MR_0383', 'CR_0313', 'CR_0476', 'CR_0480', 'CR_0487', 'CR_0495', 'CR_0247', 'CR_0037', 'CR_0588', 'CR_0137', 'CR_0268', 'MR_0059', 'CR_0477', 'CR_0324', 'CR_0571', 'MR_0372', 'CR_0341', 'CR_0634', 'CR_0494', 'CR_0004', 'CR_0359', 'CR_0159', 'CR_0448', 'CR_0465', 'MR_0140', 'CR_0126']\n",
            "['CR_0326', 'MR_0348', 'CR_0148', 'CR_0457', 'CR_0662', 'CR_0436', 'CR_0266', 'CR_0304', 'CR_0111', 'CR_0022', 'CR_0083', 'CR_0003', 'CR_0464', 'CR_0100', 'CR_0020', 'CR_0447', 'CR_0411', 'CR_0353', 'MR_0013', 'MR_0040', 'CR_0146', 'MR_0228', 'CR_0397', 'CR_0101', 'CR_0504', 'CR_0421', 'CR_0392', 'MR_0070', 'CR_0391', 'CR_0283', 'MR_0126', 'MR_0052', 'CR_0615', 'CR_0489', 'CR_0365', 'CR_0219', 'MR_0027', 'CR_0157', 'CR_0035', 'CR_0492', 'CR_0395', 'MR_0203', 'CR_0348', 'CR_0325', 'CR_0240', 'CR_0214', 'CR_0024', 'CR_0649', 'CR_0300', 'CR_0637', 'CR_0173', 'CR_0096', 'CR_0536', 'CR_0514', 'CR_0600', 'MR_0170', 'CR_0547', 'CR_0143', 'MR_0275', 'CR_0497', 'CR_0315', 'CR_0216', 'CR_0568', 'CR_0396', 'MR_0023', 'CR_0424', 'CR_0170', 'CR_0131', 'CR_0029', 'MR_0251', 'MR_0080', 'MR_0338', 'MR_0352', 'MR_0101', 'CR_0220', 'CR_0265', 'CR_0599', 'MR_0108', 'CR_0068', 'CR_0041', 'CR_0482', 'CR_0490', 'CR_0245', 'CR_0318', 'MR_0051', 'CR_0522', 'CR_0047', 'MR_0253', 'MR_0054', 'CR_0317', 'CR_0530', 'CR_0474', 'CR_0114', 'CR_0327', 'CR_0427', 'CR_0052', 'CR_0311', 'CR_0121', 'CR_0145', 'MR_0369', 'CR_0071', 'MR_0003', 'CR_0177', 'CR_0379', 'MR_0005', 'CR_0377', 'CR_0628', 'CR_0382', 'CR_0026', 'CR_0471', 'CR_0034', 'CR_0458', 'CR_0386', 'CR_0434', 'CR_0182', 'CR_0425', 'CR_0236', 'CR_0503', 'CR_0208', 'CR_0473', 'CR_0134', 'CR_0001', 'MR_0057', 'MR_0095', 'CR_0211', 'CR_0030', 'CR_0042', 'CR_0203', 'MR_0383', 'CR_0313', 'CR_0476', 'CR_0480', 'CR_0487', 'CR_0495', 'CR_0247', 'CR_0037', 'CR_0588', 'CR_0137', 'CR_0268', 'MR_0059', 'CR_0477', 'CR_0324', 'CR_0571', 'MR_0372', 'CR_0341', 'CR_0634', 'CR_0494', 'CR_0004', 'CR_0359', 'CR_0159', 'CR_0448', 'CR_0465', 'MR_0140', 'CR_0126', 'CR_0515']\n",
            "['CR_0326', 'MR_0348', 'CR_0148', 'CR_0457', 'CR_0662', 'CR_0436', 'CR_0266', 'CR_0304', 'CR_0111', 'CR_0022', 'CR_0083', 'CR_0003', 'CR_0464', 'CR_0100', 'CR_0020', 'CR_0447', 'CR_0411', 'CR_0353', 'MR_0013', 'MR_0040', 'CR_0146', 'MR_0228', 'CR_0397', 'CR_0101', 'CR_0504', 'CR_0421', 'CR_0392', 'MR_0070', 'CR_0391', 'CR_0283', 'MR_0126', 'MR_0052', 'CR_0615', 'CR_0489', 'CR_0365', 'CR_0219', 'MR_0027', 'CR_0157', 'CR_0035', 'CR_0492', 'CR_0395', 'MR_0203', 'CR_0348', 'CR_0325', 'CR_0240', 'CR_0214', 'CR_0024', 'CR_0649', 'CR_0300', 'CR_0637', 'CR_0173', 'CR_0096', 'CR_0536', 'CR_0514', 'CR_0600', 'MR_0170', 'CR_0547', 'CR_0143', 'MR_0275', 'CR_0497', 'CR_0315', 'CR_0216', 'CR_0568', 'CR_0396', 'MR_0023', 'CR_0424', 'CR_0170', 'CR_0131', 'CR_0029', 'MR_0251', 'MR_0080', 'MR_0338', 'MR_0352', 'MR_0101', 'CR_0220', 'CR_0265', 'CR_0599', 'MR_0108', 'CR_0068', 'CR_0041', 'CR_0482', 'CR_0490', 'CR_0245', 'CR_0318', 'MR_0051', 'CR_0522', 'CR_0047', 'MR_0253', 'MR_0054', 'CR_0317', 'CR_0530', 'CR_0474', 'CR_0114', 'CR_0327', 'CR_0427', 'CR_0052', 'CR_0311', 'CR_0121', 'CR_0145', 'MR_0369', 'CR_0071', 'MR_0003', 'CR_0177', 'CR_0379', 'MR_0005', 'CR_0377', 'CR_0628', 'CR_0382', 'CR_0026', 'CR_0471', 'CR_0034', 'CR_0458', 'CR_0386', 'CR_0434', 'CR_0182', 'CR_0425', 'CR_0236', 'CR_0503', 'CR_0208', 'CR_0473', 'CR_0134', 'CR_0001', 'MR_0057', 'MR_0095', 'CR_0211', 'CR_0030', 'CR_0042', 'CR_0203', 'MR_0383', 'CR_0313', 'CR_0476', 'CR_0480', 'CR_0487', 'CR_0495', 'CR_0247', 'CR_0037', 'CR_0588', 'CR_0137', 'CR_0268', 'MR_0059', 'CR_0477', 'CR_0324', 'CR_0571', 'MR_0372', 'CR_0341', 'CR_0634', 'CR_0494', 'CR_0004', 'CR_0359', 'CR_0159', 'CR_0448', 'CR_0465', 'MR_0140', 'CR_0126', 'CR_0515', 'CR_0558']\n",
            "['CR_0326', 'MR_0348', 'CR_0148', 'CR_0457', 'CR_0662', 'CR_0436', 'CR_0266', 'CR_0304', 'CR_0111', 'CR_0022', 'CR_0083', 'CR_0003', 'CR_0464', 'CR_0100', 'CR_0020', 'CR_0447', 'CR_0411', 'CR_0353', 'MR_0013', 'MR_0040', 'CR_0146', 'MR_0228', 'CR_0397', 'CR_0101', 'CR_0504', 'CR_0421', 'CR_0392', 'MR_0070', 'CR_0391', 'CR_0283', 'MR_0126', 'MR_0052', 'CR_0615', 'CR_0489', 'CR_0365', 'CR_0219', 'MR_0027', 'CR_0157', 'CR_0035', 'CR_0492', 'CR_0395', 'MR_0203', 'CR_0348', 'CR_0325', 'CR_0240', 'CR_0214', 'CR_0024', 'CR_0649', 'CR_0300', 'CR_0637', 'CR_0173', 'CR_0096', 'CR_0536', 'CR_0514', 'CR_0600', 'MR_0170', 'CR_0547', 'CR_0143', 'MR_0275', 'CR_0497', 'CR_0315', 'CR_0216', 'CR_0568', 'CR_0396', 'MR_0023', 'CR_0424', 'CR_0170', 'CR_0131', 'CR_0029', 'MR_0251', 'MR_0080', 'MR_0338', 'MR_0352', 'MR_0101', 'CR_0220', 'CR_0265', 'CR_0599', 'MR_0108', 'CR_0068', 'CR_0041', 'CR_0482', 'CR_0490', 'CR_0245', 'CR_0318', 'MR_0051', 'CR_0522', 'CR_0047', 'MR_0253', 'MR_0054', 'CR_0317', 'CR_0530', 'CR_0474', 'CR_0114', 'CR_0327', 'CR_0427', 'CR_0052', 'CR_0311', 'CR_0121', 'CR_0145', 'MR_0369', 'CR_0071', 'MR_0003', 'CR_0177', 'CR_0379', 'MR_0005', 'CR_0377', 'CR_0628', 'CR_0382', 'CR_0026', 'CR_0471', 'CR_0034', 'CR_0458', 'CR_0386', 'CR_0434', 'CR_0182', 'CR_0425', 'CR_0236', 'CR_0503', 'CR_0208', 'CR_0473', 'CR_0134', 'CR_0001', 'MR_0057', 'MR_0095', 'CR_0211', 'CR_0030', 'CR_0042', 'CR_0203', 'MR_0383', 'CR_0313', 'CR_0476', 'CR_0480', 'CR_0487', 'CR_0495', 'CR_0247', 'CR_0037', 'CR_0588', 'CR_0137', 'CR_0268', 'MR_0059', 'CR_0477', 'CR_0324', 'CR_0571', 'MR_0372', 'CR_0341', 'CR_0634', 'CR_0494', 'CR_0004', 'CR_0359', 'CR_0159', 'CR_0448', 'CR_0465', 'MR_0140', 'CR_0126', 'CR_0515', 'CR_0558', 'CR_0070']\n",
            "['CR_0326', 'MR_0348', 'CR_0148', 'CR_0457', 'CR_0662', 'CR_0436', 'CR_0266', 'CR_0304', 'CR_0111', 'CR_0022', 'CR_0083', 'CR_0003', 'CR_0464', 'CR_0100', 'CR_0020', 'CR_0447', 'CR_0411', 'CR_0353', 'MR_0013', 'MR_0040', 'CR_0146', 'MR_0228', 'CR_0397', 'CR_0101', 'CR_0504', 'CR_0421', 'CR_0392', 'MR_0070', 'CR_0391', 'CR_0283', 'MR_0126', 'MR_0052', 'CR_0615', 'CR_0489', 'CR_0365', 'CR_0219', 'MR_0027', 'CR_0157', 'CR_0035', 'CR_0492', 'CR_0395', 'MR_0203', 'CR_0348', 'CR_0325', 'CR_0240', 'CR_0214', 'CR_0024', 'CR_0649', 'CR_0300', 'CR_0637', 'CR_0173', 'CR_0096', 'CR_0536', 'CR_0514', 'CR_0600', 'MR_0170', 'CR_0547', 'CR_0143', 'MR_0275', 'CR_0497', 'CR_0315', 'CR_0216', 'CR_0568', 'CR_0396', 'MR_0023', 'CR_0424', 'CR_0170', 'CR_0131', 'CR_0029', 'MR_0251', 'MR_0080', 'MR_0338', 'MR_0352', 'MR_0101', 'CR_0220', 'CR_0265', 'CR_0599', 'MR_0108', 'CR_0068', 'CR_0041', 'CR_0482', 'CR_0490', 'CR_0245', 'CR_0318', 'MR_0051', 'CR_0522', 'CR_0047', 'MR_0253', 'MR_0054', 'CR_0317', 'CR_0530', 'CR_0474', 'CR_0114', 'CR_0327', 'CR_0427', 'CR_0052', 'CR_0311', 'CR_0121', 'CR_0145', 'MR_0369', 'CR_0071', 'MR_0003', 'CR_0177', 'CR_0379', 'MR_0005', 'CR_0377', 'CR_0628', 'CR_0382', 'CR_0026', 'CR_0471', 'CR_0034', 'CR_0458', 'CR_0386', 'CR_0434', 'CR_0182', 'CR_0425', 'CR_0236', 'CR_0503', 'CR_0208', 'CR_0473', 'CR_0134', 'CR_0001', 'MR_0057', 'MR_0095', 'CR_0211', 'CR_0030', 'CR_0042', 'CR_0203', 'MR_0383', 'CR_0313', 'CR_0476', 'CR_0480', 'CR_0487', 'CR_0495', 'CR_0247', 'CR_0037', 'CR_0588', 'CR_0137', 'CR_0268', 'MR_0059', 'CR_0477', 'CR_0324', 'CR_0571', 'MR_0372', 'CR_0341', 'CR_0634', 'CR_0494', 'CR_0004', 'CR_0359', 'CR_0159', 'CR_0448', 'CR_0465', 'MR_0140', 'CR_0126', 'CR_0515', 'CR_0558', 'CR_0070', 'CR_0399']\n",
            "['CR_0326', 'MR_0348', 'CR_0148', 'CR_0457', 'CR_0662', 'CR_0436', 'CR_0266', 'CR_0304', 'CR_0111', 'CR_0022', 'CR_0083', 'CR_0003', 'CR_0464', 'CR_0100', 'CR_0020', 'CR_0447', 'CR_0411', 'CR_0353', 'MR_0013', 'MR_0040', 'CR_0146', 'MR_0228', 'CR_0397', 'CR_0101', 'CR_0504', 'CR_0421', 'CR_0392', 'MR_0070', 'CR_0391', 'CR_0283', 'MR_0126', 'MR_0052', 'CR_0615', 'CR_0489', 'CR_0365', 'CR_0219', 'MR_0027', 'CR_0157', 'CR_0035', 'CR_0492', 'CR_0395', 'MR_0203', 'CR_0348', 'CR_0325', 'CR_0240', 'CR_0214', 'CR_0024', 'CR_0649', 'CR_0300', 'CR_0637', 'CR_0173', 'CR_0096', 'CR_0536', 'CR_0514', 'CR_0600', 'MR_0170', 'CR_0547', 'CR_0143', 'MR_0275', 'CR_0497', 'CR_0315', 'CR_0216', 'CR_0568', 'CR_0396', 'MR_0023', 'CR_0424', 'CR_0170', 'CR_0131', 'CR_0029', 'MR_0251', 'MR_0080', 'MR_0338', 'MR_0352', 'MR_0101', 'CR_0220', 'CR_0265', 'CR_0599', 'MR_0108', 'CR_0068', 'CR_0041', 'CR_0482', 'CR_0490', 'CR_0245', 'CR_0318', 'MR_0051', 'CR_0522', 'CR_0047', 'MR_0253', 'MR_0054', 'CR_0317', 'CR_0530', 'CR_0474', 'CR_0114', 'CR_0327', 'CR_0427', 'CR_0052', 'CR_0311', 'CR_0121', 'CR_0145', 'MR_0369', 'CR_0071', 'MR_0003', 'CR_0177', 'CR_0379', 'MR_0005', 'CR_0377', 'CR_0628', 'CR_0382', 'CR_0026', 'CR_0471', 'CR_0034', 'CR_0458', 'CR_0386', 'CR_0434', 'CR_0182', 'CR_0425', 'CR_0236', 'CR_0503', 'CR_0208', 'CR_0473', 'CR_0134', 'CR_0001', 'MR_0057', 'MR_0095', 'CR_0211', 'CR_0030', 'CR_0042', 'CR_0203', 'MR_0383', 'CR_0313', 'CR_0476', 'CR_0480', 'CR_0487', 'CR_0495', 'CR_0247', 'CR_0037', 'CR_0588', 'CR_0137', 'CR_0268', 'MR_0059', 'CR_0477', 'CR_0324', 'CR_0571', 'MR_0372', 'CR_0341', 'CR_0634', 'CR_0494', 'CR_0004', 'CR_0359', 'CR_0159', 'CR_0448', 'CR_0465', 'MR_0140', 'CR_0126', 'CR_0515', 'CR_0558', 'CR_0070', 'CR_0399', 'CR_0110']\n",
            "['CR_0326', 'MR_0348', 'CR_0148', 'CR_0457', 'CR_0662', 'CR_0436', 'CR_0266', 'CR_0304', 'CR_0111', 'CR_0022', 'CR_0083', 'CR_0003', 'CR_0464', 'CR_0100', 'CR_0020', 'CR_0447', 'CR_0411', 'CR_0353', 'MR_0013', 'MR_0040', 'CR_0146', 'MR_0228', 'CR_0397', 'CR_0101', 'CR_0504', 'CR_0421', 'CR_0392', 'MR_0070', 'CR_0391', 'CR_0283', 'MR_0126', 'MR_0052', 'CR_0615', 'CR_0489', 'CR_0365', 'CR_0219', 'MR_0027', 'CR_0157', 'CR_0035', 'CR_0492', 'CR_0395', 'MR_0203', 'CR_0348', 'CR_0325', 'CR_0240', 'CR_0214', 'CR_0024', 'CR_0649', 'CR_0300', 'CR_0637', 'CR_0173', 'CR_0096', 'CR_0536', 'CR_0514', 'CR_0600', 'MR_0170', 'CR_0547', 'CR_0143', 'MR_0275', 'CR_0497', 'CR_0315', 'CR_0216', 'CR_0568', 'CR_0396', 'MR_0023', 'CR_0424', 'CR_0170', 'CR_0131', 'CR_0029', 'MR_0251', 'MR_0080', 'MR_0338', 'MR_0352', 'MR_0101', 'CR_0220', 'CR_0265', 'CR_0599', 'MR_0108', 'CR_0068', 'CR_0041', 'CR_0482', 'CR_0490', 'CR_0245', 'CR_0318', 'MR_0051', 'CR_0522', 'CR_0047', 'MR_0253', 'MR_0054', 'CR_0317', 'CR_0530', 'CR_0474', 'CR_0114', 'CR_0327', 'CR_0427', 'CR_0052', 'CR_0311', 'CR_0121', 'CR_0145', 'MR_0369', 'CR_0071', 'MR_0003', 'CR_0177', 'CR_0379', 'MR_0005', 'CR_0377', 'CR_0628', 'CR_0382', 'CR_0026', 'CR_0471', 'CR_0034', 'CR_0458', 'CR_0386', 'CR_0434', 'CR_0182', 'CR_0425', 'CR_0236', 'CR_0503', 'CR_0208', 'CR_0473', 'CR_0134', 'CR_0001', 'MR_0057', 'MR_0095', 'CR_0211', 'CR_0030', 'CR_0042', 'CR_0203', 'MR_0383', 'CR_0313', 'CR_0476', 'CR_0480', 'CR_0487', 'CR_0495', 'CR_0247', 'CR_0037', 'CR_0588', 'CR_0137', 'CR_0268', 'MR_0059', 'CR_0477', 'CR_0324', 'CR_0571', 'MR_0372', 'CR_0341', 'CR_0634', 'CR_0494', 'CR_0004', 'CR_0359', 'CR_0159', 'CR_0448', 'CR_0465', 'MR_0140', 'CR_0126', 'CR_0515', 'CR_0558', 'CR_0070', 'CR_0399', 'CR_0110', 'CR_0233']\n"
          ],
          "name": "stdout"
        }
      ]
    },
    {
      "cell_type": "code",
      "metadata": {
        "id": "l_-C0_2uh5AY",
        "colab_type": "code",
        "colab": {}
      },
      "source": [
        "buildTest_ImageCSV = pd.DataFrame(\n",
        "    {'Images': splitPNG,\n",
        "     'Labels': getEachImgPrediction \n",
        "    })\n"
      ],
      "execution_count": 0,
      "outputs": []
    },
    {
      "cell_type": "code",
      "metadata": {
        "id": "JhUum09U54a-",
        "colab_type": "code",
        "outputId": "ac1fb043-5d27-4711-c314-8a08cd7da863",
        "colab": {
          "base_uri": "https://localhost:8080/",
          "height": 1969
        }
      },
      "source": [
        "buildTest_ImageCSV"
      ],
      "execution_count": 0,
      "outputs": [
        {
          "output_type": "execute_result",
          "data": {
            "text/html": [
              "<div>\n",
              "<style scoped>\n",
              "    .dataframe tbody tr th:only-of-type {\n",
              "        vertical-align: middle;\n",
              "    }\n",
              "\n",
              "    .dataframe tbody tr th {\n",
              "        vertical-align: top;\n",
              "    }\n",
              "\n",
              "    .dataframe thead th {\n",
              "        text-align: right;\n",
              "    }\n",
              "</style>\n",
              "<table border=\"1\" class=\"dataframe\">\n",
              "  <thead>\n",
              "    <tr style=\"text-align: right;\">\n",
              "      <th></th>\n",
              "      <th>Images</th>\n",
              "      <th>Labels</th>\n",
              "    </tr>\n",
              "  </thead>\n",
              "  <tbody>\n",
              "    <tr>\n",
              "      <th>0</th>\n",
              "      <td>CR_0326</td>\n",
              "      <td>0</td>\n",
              "    </tr>\n",
              "    <tr>\n",
              "      <th>1</th>\n",
              "      <td>MR_0348</td>\n",
              "      <td>0</td>\n",
              "    </tr>\n",
              "    <tr>\n",
              "      <th>2</th>\n",
              "      <td>CR_0148</td>\n",
              "      <td>0</td>\n",
              "    </tr>\n",
              "    <tr>\n",
              "      <th>3</th>\n",
              "      <td>CR_0457</td>\n",
              "      <td>0</td>\n",
              "    </tr>\n",
              "    <tr>\n",
              "      <th>4</th>\n",
              "      <td>CR_0662</td>\n",
              "      <td>1</td>\n",
              "    </tr>\n",
              "    <tr>\n",
              "      <th>5</th>\n",
              "      <td>CR_0436</td>\n",
              "      <td>1</td>\n",
              "    </tr>\n",
              "    <tr>\n",
              "      <th>6</th>\n",
              "      <td>CR_0266</td>\n",
              "      <td>1</td>\n",
              "    </tr>\n",
              "    <tr>\n",
              "      <th>7</th>\n",
              "      <td>CR_0304</td>\n",
              "      <td>1</td>\n",
              "    </tr>\n",
              "    <tr>\n",
              "      <th>8</th>\n",
              "      <td>CR_0111</td>\n",
              "      <td>1</td>\n",
              "    </tr>\n",
              "    <tr>\n",
              "      <th>9</th>\n",
              "      <td>CR_0022</td>\n",
              "      <td>1</td>\n",
              "    </tr>\n",
              "    <tr>\n",
              "      <th>10</th>\n",
              "      <td>CR_0083</td>\n",
              "      <td>0</td>\n",
              "    </tr>\n",
              "    <tr>\n",
              "      <th>11</th>\n",
              "      <td>CR_0003</td>\n",
              "      <td>0</td>\n",
              "    </tr>\n",
              "    <tr>\n",
              "      <th>12</th>\n",
              "      <td>CR_0464</td>\n",
              "      <td>1</td>\n",
              "    </tr>\n",
              "    <tr>\n",
              "      <th>13</th>\n",
              "      <td>CR_0100</td>\n",
              "      <td>1</td>\n",
              "    </tr>\n",
              "    <tr>\n",
              "      <th>14</th>\n",
              "      <td>CR_0020</td>\n",
              "      <td>0</td>\n",
              "    </tr>\n",
              "    <tr>\n",
              "      <th>15</th>\n",
              "      <td>CR_0447</td>\n",
              "      <td>1</td>\n",
              "    </tr>\n",
              "    <tr>\n",
              "      <th>16</th>\n",
              "      <td>CR_0411</td>\n",
              "      <td>0</td>\n",
              "    </tr>\n",
              "    <tr>\n",
              "      <th>17</th>\n",
              "      <td>CR_0353</td>\n",
              "      <td>0</td>\n",
              "    </tr>\n",
              "    <tr>\n",
              "      <th>18</th>\n",
              "      <td>MR_0013</td>\n",
              "      <td>1</td>\n",
              "    </tr>\n",
              "    <tr>\n",
              "      <th>19</th>\n",
              "      <td>MR_0040</td>\n",
              "      <td>1</td>\n",
              "    </tr>\n",
              "    <tr>\n",
              "      <th>20</th>\n",
              "      <td>CR_0146</td>\n",
              "      <td>0</td>\n",
              "    </tr>\n",
              "    <tr>\n",
              "      <th>21</th>\n",
              "      <td>MR_0228</td>\n",
              "      <td>1</td>\n",
              "    </tr>\n",
              "    <tr>\n",
              "      <th>22</th>\n",
              "      <td>CR_0397</td>\n",
              "      <td>1</td>\n",
              "    </tr>\n",
              "    <tr>\n",
              "      <th>23</th>\n",
              "      <td>CR_0101</td>\n",
              "      <td>1</td>\n",
              "    </tr>\n",
              "    <tr>\n",
              "      <th>24</th>\n",
              "      <td>CR_0504</td>\n",
              "      <td>0</td>\n",
              "    </tr>\n",
              "    <tr>\n",
              "      <th>25</th>\n",
              "      <td>CR_0421</td>\n",
              "      <td>0</td>\n",
              "    </tr>\n",
              "    <tr>\n",
              "      <th>26</th>\n",
              "      <td>CR_0392</td>\n",
              "      <td>0</td>\n",
              "    </tr>\n",
              "    <tr>\n",
              "      <th>27</th>\n",
              "      <td>MR_0070</td>\n",
              "      <td>0</td>\n",
              "    </tr>\n",
              "    <tr>\n",
              "      <th>28</th>\n",
              "      <td>CR_0391</td>\n",
              "      <td>0</td>\n",
              "    </tr>\n",
              "    <tr>\n",
              "      <th>29</th>\n",
              "      <td>CR_0283</td>\n",
              "      <td>0</td>\n",
              "    </tr>\n",
              "    <tr>\n",
              "      <th>...</th>\n",
              "      <td>...</td>\n",
              "      <td>...</td>\n",
              "    </tr>\n",
              "    <tr>\n",
              "      <th>130</th>\n",
              "      <td>CR_0476</td>\n",
              "      <td>1</td>\n",
              "    </tr>\n",
              "    <tr>\n",
              "      <th>131</th>\n",
              "      <td>CR_0480</td>\n",
              "      <td>1</td>\n",
              "    </tr>\n",
              "    <tr>\n",
              "      <th>132</th>\n",
              "      <td>CR_0487</td>\n",
              "      <td>0</td>\n",
              "    </tr>\n",
              "    <tr>\n",
              "      <th>133</th>\n",
              "      <td>CR_0495</td>\n",
              "      <td>1</td>\n",
              "    </tr>\n",
              "    <tr>\n",
              "      <th>134</th>\n",
              "      <td>CR_0247</td>\n",
              "      <td>0</td>\n",
              "    </tr>\n",
              "    <tr>\n",
              "      <th>135</th>\n",
              "      <td>CR_0037</td>\n",
              "      <td>1</td>\n",
              "    </tr>\n",
              "    <tr>\n",
              "      <th>136</th>\n",
              "      <td>CR_0588</td>\n",
              "      <td>1</td>\n",
              "    </tr>\n",
              "    <tr>\n",
              "      <th>137</th>\n",
              "      <td>CR_0137</td>\n",
              "      <td>0</td>\n",
              "    </tr>\n",
              "    <tr>\n",
              "      <th>138</th>\n",
              "      <td>CR_0268</td>\n",
              "      <td>1</td>\n",
              "    </tr>\n",
              "    <tr>\n",
              "      <th>139</th>\n",
              "      <td>MR_0059</td>\n",
              "      <td>1</td>\n",
              "    </tr>\n",
              "    <tr>\n",
              "      <th>140</th>\n",
              "      <td>CR_0477</td>\n",
              "      <td>0</td>\n",
              "    </tr>\n",
              "    <tr>\n",
              "      <th>141</th>\n",
              "      <td>CR_0324</td>\n",
              "      <td>1</td>\n",
              "    </tr>\n",
              "    <tr>\n",
              "      <th>142</th>\n",
              "      <td>CR_0571</td>\n",
              "      <td>0</td>\n",
              "    </tr>\n",
              "    <tr>\n",
              "      <th>143</th>\n",
              "      <td>MR_0372</td>\n",
              "      <td>1</td>\n",
              "    </tr>\n",
              "    <tr>\n",
              "      <th>144</th>\n",
              "      <td>CR_0341</td>\n",
              "      <td>0</td>\n",
              "    </tr>\n",
              "    <tr>\n",
              "      <th>145</th>\n",
              "      <td>CR_0634</td>\n",
              "      <td>0</td>\n",
              "    </tr>\n",
              "    <tr>\n",
              "      <th>146</th>\n",
              "      <td>CR_0494</td>\n",
              "      <td>1</td>\n",
              "    </tr>\n",
              "    <tr>\n",
              "      <th>147</th>\n",
              "      <td>CR_0004</td>\n",
              "      <td>0</td>\n",
              "    </tr>\n",
              "    <tr>\n",
              "      <th>148</th>\n",
              "      <td>CR_0359</td>\n",
              "      <td>1</td>\n",
              "    </tr>\n",
              "    <tr>\n",
              "      <th>149</th>\n",
              "      <td>CR_0159</td>\n",
              "      <td>0</td>\n",
              "    </tr>\n",
              "    <tr>\n",
              "      <th>150</th>\n",
              "      <td>CR_0448</td>\n",
              "      <td>1</td>\n",
              "    </tr>\n",
              "    <tr>\n",
              "      <th>151</th>\n",
              "      <td>CR_0465</td>\n",
              "      <td>1</td>\n",
              "    </tr>\n",
              "    <tr>\n",
              "      <th>152</th>\n",
              "      <td>MR_0140</td>\n",
              "      <td>1</td>\n",
              "    </tr>\n",
              "    <tr>\n",
              "      <th>153</th>\n",
              "      <td>CR_0126</td>\n",
              "      <td>1</td>\n",
              "    </tr>\n",
              "    <tr>\n",
              "      <th>154</th>\n",
              "      <td>CR_0515</td>\n",
              "      <td>1</td>\n",
              "    </tr>\n",
              "    <tr>\n",
              "      <th>155</th>\n",
              "      <td>CR_0558</td>\n",
              "      <td>0</td>\n",
              "    </tr>\n",
              "    <tr>\n",
              "      <th>156</th>\n",
              "      <td>CR_0070</td>\n",
              "      <td>0</td>\n",
              "    </tr>\n",
              "    <tr>\n",
              "      <th>157</th>\n",
              "      <td>CR_0399</td>\n",
              "      <td>1</td>\n",
              "    </tr>\n",
              "    <tr>\n",
              "      <th>158</th>\n",
              "      <td>CR_0110</td>\n",
              "      <td>1</td>\n",
              "    </tr>\n",
              "    <tr>\n",
              "      <th>159</th>\n",
              "      <td>CR_0233</td>\n",
              "      <td>0</td>\n",
              "    </tr>\n",
              "  </tbody>\n",
              "</table>\n",
              "<p>160 rows × 2 columns</p>\n",
              "</div>"
            ],
            "text/plain": [
              "      Images  Labels\n",
              "0    CR_0326       0\n",
              "1    MR_0348       0\n",
              "2    CR_0148       0\n",
              "3    CR_0457       0\n",
              "4    CR_0662       1\n",
              "5    CR_0436       1\n",
              "6    CR_0266       1\n",
              "7    CR_0304       1\n",
              "8    CR_0111       1\n",
              "9    CR_0022       1\n",
              "10   CR_0083       0\n",
              "11   CR_0003       0\n",
              "12   CR_0464       1\n",
              "13   CR_0100       1\n",
              "14   CR_0020       0\n",
              "15   CR_0447       1\n",
              "16   CR_0411       0\n",
              "17   CR_0353       0\n",
              "18   MR_0013       1\n",
              "19   MR_0040       1\n",
              "20   CR_0146       0\n",
              "21   MR_0228       1\n",
              "22   CR_0397       1\n",
              "23   CR_0101       1\n",
              "24   CR_0504       0\n",
              "25   CR_0421       0\n",
              "26   CR_0392       0\n",
              "27   MR_0070       0\n",
              "28   CR_0391       0\n",
              "29   CR_0283       0\n",
              "..       ...     ...\n",
              "130  CR_0476       1\n",
              "131  CR_0480       1\n",
              "132  CR_0487       0\n",
              "133  CR_0495       1\n",
              "134  CR_0247       0\n",
              "135  CR_0037       1\n",
              "136  CR_0588       1\n",
              "137  CR_0137       0\n",
              "138  CR_0268       1\n",
              "139  MR_0059       1\n",
              "140  CR_0477       0\n",
              "141  CR_0324       1\n",
              "142  CR_0571       0\n",
              "143  MR_0372       1\n",
              "144  CR_0341       0\n",
              "145  CR_0634       0\n",
              "146  CR_0494       1\n",
              "147  CR_0004       0\n",
              "148  CR_0359       1\n",
              "149  CR_0159       0\n",
              "150  CR_0448       1\n",
              "151  CR_0465       1\n",
              "152  MR_0140       1\n",
              "153  CR_0126       1\n",
              "154  CR_0515       1\n",
              "155  CR_0558       0\n",
              "156  CR_0070       0\n",
              "157  CR_0399       1\n",
              "158  CR_0110       1\n",
              "159  CR_0233       0\n",
              "\n",
              "[160 rows x 2 columns]"
            ]
          },
          "metadata": {
            "tags": []
          },
          "execution_count": 239
        }
      ]
    },
    {
      "cell_type": "code",
      "metadata": {
        "id": "PE5nkDNH7uPC",
        "colab_type": "code",
        "colab": {}
      },
      "source": [
        "buildTest_ImageCSV.to_csv('Test_Labels.csv', index = False)"
      ],
      "execution_count": 0,
      "outputs": []
    },
    {
      "cell_type": "code",
      "metadata": {
        "id": "ZxtffpVST10M",
        "colab_type": "code",
        "outputId": "c4269394-a47b-4146-b271-d890be054d42",
        "colab": {
          "base_uri": "https://localhost:8080/",
          "height": 68
        }
      },
      "source": [
        "ls /content/kaggle"
      ],
      "execution_count": 0,
      "outputs": [
        {
          "output_type": "stream",
          "text": [
            "fine_tuned_model.h5    Sample_Submission.csv  \u001b[0m\u001b[01;34mTrain\u001b[0m/            \u001b[01;34mValidation\u001b[0m/\r\n",
            "fine_tuned_model.json  Test_Images.zip        Train_Images.zip  ziKdSdWX\r\n",
            "fine_tuned_weights.h5  top_model.h5           Train_Labels.csv\r\n"
          ],
          "name": "stdout"
        }
      ]
    },
    {
      "cell_type": "code",
      "metadata": {
        "id": "xRjNGf4WVUeA",
        "colab_type": "code",
        "colab": {}
      },
      "source": [
        "!rm \"Test_Labels.csv.zip\""
      ],
      "execution_count": 0,
      "outputs": []
    },
    {
      "cell_type": "code",
      "metadata": {
        "id": "0HScbm6gitC2",
        "colab_type": "code",
        "colab": {}
      },
      "source": [
        "!find /content/kaggle -type f \\( -name \"*.class\" -o -name '*.csv.gz' \\) -delete"
      ],
      "execution_count": 0,
      "outputs": []
    },
    {
      "cell_type": "code",
      "metadata": {
        "id": "Mqbt8sceclRP",
        "colab_type": "code",
        "colab": {}
      },
      "source": [
        "!gzip Test_Labels.csv"
      ],
      "execution_count": 0,
      "outputs": []
    },
    {
      "cell_type": "code",
      "metadata": {
        "id": "wy0IApYutWaU",
        "colab_type": "code",
        "colab": {}
      },
      "source": [
        "from google.colab import files\n",
        "files.download('Test_Labels.csv.gz')"
      ],
      "execution_count": 0,
      "outputs": []
    },
    {
      "cell_type": "code",
      "metadata": {
        "id": "cu2CHEVbV-U9",
        "colab_type": "code",
        "outputId": "afdb9cd3-fbc5-43a1-91fb-497e500eb50c",
        "colab": {
          "base_uri": "https://localhost:8080/",
          "height": 34
        }
      },
      "source": [
        "#@title Kaggle Auto Submission \n",
        "!kaggle competitions submit -c bronchitis -f Test_Labels.csv.gz -m \"Submission Details\""
      ],
      "execution_count": 0,
      "outputs": [
        {
          "output_type": "stream",
          "text": [
            "Successfully submitted to Bronchitis Detection for Apollo"
          ],
          "name": "stdout"
        }
      ]
    },
    {
      "cell_type": "code",
      "metadata": {
        "id": "NLAgq0I7fGXe",
        "colab_type": "code",
        "outputId": "b241f78b-91e2-4b5d-a31b-be1696b5ecab",
        "colab": {
          "base_uri": "https://localhost:8080/",
          "height": 238
        }
      },
      "source": [
        "!kaggle competitions submissions -c bronchitis"
      ],
      "execution_count": 0,
      "outputs": [
        {
          "output_type": "stream",
          "text": [
            "fileName                                          date                 description                 status    publicScore  privateScore  \r\n",
            "------------------------------------------------  -------------------  --------------------------  --------  -----------  ------------  \r\n",
            "Test_Labels.csv.gz                                2018-05-09 06:20:26  Submission Details          complete  0.50625      None          \r\n",
            "Test_Labels.csv.gz                                2018-05-09 06:18:38  Submission Details          complete  0.50625      None          \r\n",
            "Test_Labels.csv.gz                                2018-05-09 06:16:50  Submission Details          complete  0.48125      None          \r\n",
            "Test_Labels.csv.gz                                2018-05-09 06:05:12  Submission Details          error     None         None          \r\n",
            "Test_Labels.csv                                   2018-05-09 03:28:27  None                        complete  0.45625      None          \r\n",
            "Test_Labels.rar                                   2018-05-09 03:19:28  None                        error     None         None          \r\n",
            "Kaggle Bronchitis Problem_AIML_Team_39_v0.01.rar  2018-05-09 02:48:09  None                        error     None         None          \r\n",
            "Kaggle Bronchitis Problem_AIML_Team_39_v0.01.rar  2018-05-08 21:01:06  None                        error     None         None          \r\n",
            "Kaggle Bronchitis Problem_AIML_Team_39_v0.01.rar  2018-05-08 20:47:08  We  scored accuracy of 50%  error     None         None          \r\n",
            "Kaggle Bronchitis Problem_AIML_Team_39.rar        2018-05-08 18:00:58  We score 50% accuracy       error     None         None          \r\n",
            "Kaggle Bronchitis Problem_AIML_Team_39.rar        2018-05-08 06:11:34  We scored 50% accuracy      error     None         None          \r\n"
          ],
          "name": "stdout"
        }
      ]
    },
    {
      "cell_type": "code",
      "metadata": {
        "id": "S0fmkVRtffyO",
        "colab_type": "code",
        "colab": {}
      },
      "source": [
        ""
      ],
      "execution_count": 0,
      "outputs": []
    }
  ]
}